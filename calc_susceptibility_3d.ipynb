{
 "cells": [
  {
   "cell_type": "markdown",
   "metadata": {
    "tags": []
   },
   "source": [
    "##### <span style=\"font-family:Arial; font-weight: 800; font-size:25px;\"> Calculte susceptibilty for DYCOMS simulations !</span>\n"
   ]
  },
  {
   "cell_type": "markdown",
   "metadata": {},
   "source": [
    "# Preperations"
   ]
  },
  {
   "cell_type": "markdown",
   "metadata": {},
   "source": [
    "## Load packages & define output paths"
   ]
  },
  {
   "cell_type": "code",
   "execution_count": 1,
   "metadata": {
    "tags": []
   },
   "outputs": [],
   "source": [
    "import os\n",
    "import sys\n",
    "import numpy as np\n",
    "import pandas as pd\n",
    "import xarray as xr\n",
    "import netCDF4\n",
    "\n",
    "import matplotlib as mpl\n",
    "import matplotlib.pyplot as plt\n",
    "from matplotlib.ticker import FormatStrFormatter\n",
    "\n",
    "import scipy.stats\n",
    "\n",
    "import pickle\n"
   ]
  },
  {
   "cell_type": "markdown",
   "metadata": {},
   "source": [
    "### some user functions and namelist parameters"
   ]
  },
  {
   "cell_type": "code",
   "execution_count": 2,
   "metadata": {},
   "outputs": [],
   "source": [
    "# import own functions\n",
    "from importnb import Notebook\n",
    "\n",
    "with Notebook(): \n",
    "        import functions as fkts\n",
    "        import namelist as nml\n",
    "        from set_up_case_dict import *"
   ]
  },
  {
   "cell_type": "code",
   "execution_count": 3,
   "metadata": {},
   "outputs": [
    {
     "data": {
      "text/plain": [
       "'/home/jovyan/work/data/DYCOMS_limDQC_AO_LTS/'"
      ]
     },
     "execution_count": 3,
     "metadata": {},
     "output_type": "execute_result"
    }
   ],
   "source": [
    "nml.dir_sim"
   ]
  },
  {
   "cell_type": "code",
   "execution_count": 4,
   "metadata": {},
   "outputs": [
    {
     "data": {
      "text/plain": [
       "(17398, 21602)"
      ]
     },
     "execution_count": 4,
     "metadata": {},
     "output_type": "execute_result"
    }
   ],
   "source": [
    "nml.bd_time"
   ]
  },
  {
   "cell_type": "markdown",
   "metadata": {},
   "source": [
    "### some constants"
   ]
  },
  {
   "cell_type": "code",
   "execution_count": 5,
   "metadata": {},
   "outputs": [],
   "source": [
    "savefigs = False"
   ]
  },
  {
   "cell_type": "code",
   "execution_count": 6,
   "metadata": {
    "tags": []
   },
   "outputs": [
    {
     "data": {
      "text/plain": [
       "['FDT', 'LRD', 'SMD']"
      ]
     },
     "execution_count": 6,
     "metadata": {},
     "output_type": "execute_result"
    }
   ],
   "source": [
    "list(dct_all)"
   ]
  },
  {
   "cell_type": "markdown",
   "metadata": {},
   "source": [
    "# Check out 3d Susceptibility\n",
    "\n",
    "since this is computationally mode expansice just calcualte one metric!"
   ]
  },
  {
   "cell_type": "markdown",
   "metadata": {},
   "source": [
    "## All data (up- and downfrafts)"
   ]
  },
  {
   "cell_type": "markdown",
   "metadata": {},
   "source": [
    "### Calculate mean values (based on 3d output) for all data"
   ]
  },
  {
   "cell_type": "code",
   "execution_count": 8,
   "metadata": {},
   "outputs": [],
   "source": [
    "def fkt_calc_3d_stats(da, z_wg):\n",
    "    \"\"\"\n",
    "    calculate mean, standard deviation, 25 & 75 percentile\n",
    "    \n",
    "    in:\n",
    "        da ... xarray\n",
    "    z_wg:\n",
    "        z_weights\n",
    "        \n",
    "    \"\"\"\n",
    "    wgAVG = da.weighted(z_wg).mean()\n",
    "    \n",
    "    da_wg = da.where(da.Z[z_wg > 0])\n",
    "       \n",
    "    std   = da_wg.std()\n",
    "    qu25  = da_wg.quantile(0.25)\n",
    "    # use the 50th quantile as proxiy for median \n",
    "    ## (median not possible in weighed array)\n",
    "    qu50  = da_wg.quantile(0.50) \n",
    "    qu75  = da_wg.quantile(0.75)\n",
    "    \n",
    "    dct_istat = {\"means3d\": wgAVG,\\\n",
    "                 \"std3d\": std,\\\n",
    "                 \"qu25\": qu25,\\\n",
    "                 \"qu50\": qu50,\\\n",
    "                 \"qu75\": qu75,\\\n",
    "                }\n",
    "    \n",
    "    return dct_istat"
   ]
  },
  {
   "cell_type": "code",
   "execution_count": 9,
   "metadata": {},
   "outputs": [],
   "source": [
    "def fkt_calc_vertsum(da, z_wg):\n",
    "    \"\"\"\n",
    "    calculate mean, standard deviation, 25 & 75 percentile\n",
    "    \n",
    "    in:\n",
    "        da ... xarray\n",
    "    z_wg:\n",
    "        z_weights\n",
    "        \n",
    "    \"\"\"\n",
    "    \n",
    "    # domain vertival sum\n",
    "    dmn_vertsum = da.weighted(z_wg).sum(dim = [\"Z\"])\n",
    "\n",
    "    # calculate statistics\n",
    "    wgAVG = dmn_vertsum.mean()\n",
    "    std   = dmn_vertsum.std()\n",
    "    qu25  = dmn_vertsum.quantile(0.25)\n",
    "    # use the 50th quantile as proxiy for median \n",
    "    ## (median not possible in weighed array)\n",
    "    qu50  = dmn_vertsum.quantile(0.50) \n",
    "    qu75  = dmn_vertsum.quantile(0.75)\n",
    "    \n",
    "    dct_istat = {\"means3d\": wgAVG,\\\n",
    "                 \"std3d\": std,\\\n",
    "                 \"qu25\": qu25,\\\n",
    "                 \"qu50\": qu50,\\\n",
    "                 \"qu75\": qu75,\\\n",
    "                }\n",
    "    \n",
    "    return dct_istat"
   ]
  },
  {
   "cell_type": "code",
   "execution_count": 10,
   "metadata": {},
   "outputs": [],
   "source": [
    "def fkt_calc_3d_means(dir_nc):\n",
    "\n",
    "    ## select case\n",
    "    #ids_all = xr.open_dataset(dir_nc)\n",
    "    with xr.open_dataset(dir_nc) as ids_all:\n",
    "    \n",
    "        # subset time and calculate time averave\n",
    "        time_idx  = (ids_all.time >= nml.bd_time[0]) &\\\n",
    "                    (ids_all.time <= nml.bd_time[1])\n",
    "        \n",
    "        if not np.any(time_idx):\n",
    "            time_idx  = (ids_all.time >=ids_all.time[-1]-3600/2) &\\\n",
    "                        (ids_all.time <=  ids_all.time[-1])\n",
    "            print(\"WARNING: chosen time not available! Using last 30min of simulation\")\n",
    "                \n",
    "                \n",
    "        ids_sub = ids_all.isel(time = time_idx )\n",
    "        # calculate the distance between the grid boxes\n",
    "        z_bd = ids_all[\"Z_BD\"]\n",
    "\n",
    "        # calculate z weights by calculating the height of the grid boxes\n",
    "        z_weights = z_bd[:,1] - z_bd[:,0]\n",
    "\n",
    "        # weights for calulating susceptability\n",
    "        z_wg4ssptblty = z_weights.copy()\n",
    "        z_wg4ssptblty[np.where(ids_all[\"Z\"] > nml.z_max)] = 0\n",
    "        z_wg4ssptblty[np.where(ids_all[\"Z\"] < nml.z_min)] = 0\n",
    "\n",
    "        #### select only some variables (makes computation quicker)\n",
    "        ## multiply everything with Rho to \n",
    "        # get Number concentrations (and not densities)\n",
    "        #    kg / kg * kg / m3 --> kg / m3\n",
    "        #     1 / kg * kg / m3 --> 1 / m3\n",
    "        ids_sub_vars = ids_sub[[\"Nc\", \"Nr\",\"Qc\"]]*ids_sub[\"RHO\"]\n",
    "    \n",
    "        # add W updraft\n",
    "        ids_sub_vars = ids_sub_vars.merge(ids_sub[\"W\"])\n",
    "        \n",
    "        # add aerosol\n",
    "        aero_vars = [i for i in list(ids_all) if aero_var in i]\n",
    "        ids_aero = ids_all[list(ids_all.dims)]\n",
    "        for iaero_var in aero_vars:\n",
    "            ids_aero.merge(ids_sub[iaero_var])\n",
    "        \n",
    "\n",
    "        # create an empy dict\n",
    "        aero_vars = [i for i in list(ids_all) if aero_var in i]\n",
    "        ids_aero = ids_sub[list(ids_sub.dims)]\n",
    "        \n",
    "        # create a new variable (initizalized with zeros)\n",
    "        ids_aero = ids_aero.assign({aero_var: ids_sub[\"Nc\"]*0})\n",
    "\n",
    "        # sum up all the aerosols variable\n",
    "        for iaero in aero_vars:\n",
    "            ids_aero[aero_var] = ids_aero[aero_var]+ids_sub[iaero]\n",
    "            \n",
    "        ids_sub_vars = ids_sub_vars.merge(ids_aero)\n",
    "\n",
    "        # in cloud calues only\n",
    "        ids_sub_vars_cl = ids_sub_vars.where(ids_sub[\"Qc\"] >= 1e-7)\n",
    "        \n",
    "        # initalize return dict\n",
    "        icase_stats = {}\n",
    "        # all hights\n",
    "        icase_stats.update({\"all\":fkt_calc_3d_stats(da = ids_sub_vars, z_wg = z_weights)})\n",
    "        icase_stats.update({\"all_vertsum\":fkt_calc_vertsum(da = ids_sub_vars, z_wg = z_weights)})\n",
    "        \n",
    "        # in cloud values\n",
    "        icase_stats.update({\"in_cloud\":fkt_calc_3d_stats(da = ids_sub_vars_cl, z_wg = z_weights)})   \n",
    "        icase_stats.update({\"in_cloud_vertsum\":fkt_calc_vertsum(da = ids_sub_vars_cl, z_wg = z_weights)})\n",
    "\n",
    "        # below cloud values\n",
    "        icase_stats.update({\"below_cloud\":fkt_calc_3d_stats(da = ids_sub_vars, z_wg = z_wg4ssptblty)})\n",
    "\n",
    "\n",
    "    return icase_stats"
   ]
  },
  {
   "cell_type": "code",
   "execution_count": 11,
   "metadata": {},
   "outputs": [],
   "source": [
    "## set up a dict to store the data\n",
    "\n",
    "dct_stats = {}\n",
    "\n",
    "for sgrp in dct_all:\n",
    "    dct_igrp = {}\n",
    "    for stype in dct_all[sgrp]:\n",
    "        dct_itype = {}\n",
    "        for scase in dct_all[sgrp][stype]:\n",
    "            dct_itype.update({scase:{\n",
    "                                    \"aero_all\":{\"means3d\": np.nan,\"std3d\":  np.nan,\"qu25\":  np.nan,\"qu50\":  np.nan,\"qu75\":  np.nan},\\\n",
    "                                    \"aero_below_cl\":{\"means3d\": np.nan,\"std3d\":  np.nan,\"qu25\":  np.nan,\"qu50\":  np.nan,\"qu75\":  np.nan},\\\n",
    "                                    \"Nc\":{\"means3d\": np.nan,\"std3d\":  np.nan,\"qu25\":  np.nan,\"qu50\":  np.nan,\"qu75\":  np.nan},\\\n",
    "                                    \"Nr\":{\"means3d\": np.nan,\"std3d\":  np.nan,\"qu25\":  np.nan,\"qu50\":  np.nan,\"qu75\":  np.nan},\\\n",
    "                                    \"Nc_vertsum\":{\"means3d\": np.nan,\"std3d\":  np.nan,\"qu25\":  np.nan,\"qu50\":  np.nan,\"qu75\":  np.nan},\\\n",
    "                                    \"Nr_vertsum\":{\"means3d\": np.nan,\"std3d\":  np.nan,\"qu25\":  np.nan,\"qu50\":  np.nan,\"qu75\":  np.nan},\\\n",
    "                                    \"Nc@inCloud_avg\":{\"means3d\": np.nan,\"std3d\":  np.nan,\"qu25\":  np.nan,\"qu50\":  np.nan,\"qu75\":  np.nan},\\\n",
    "                                    \"Nr@inCloud_avg\":{\"means3d\": np.nan,\"std3d\":  np.nan,\"qu25\":  np.nan,\"qu50\":  np.nan,\"qu75\":  np.nan},\\\n",
    "                                    \"Nc@inCloud_vertsum\":{\"means3d\": np.nan,\"std3d\":  np.nan,\"qu25\":  np.nan,\"qu50\":  np.nan,\"qu75\":  np.nan},\\\n",
    "                                    \"Nr@inCloud_vertsum\":{\"means3d\": np.nan,\"std3d\":  np.nan,\"qu25\":  np.nan,\"qu50\":  np.nan,\"qu75\":  np.nan}}\n",
    "                             })\n",
    "        dct_igrp.update({stype:dct_itype})\n",
    "    dct_stats.update({sgrp:dct_igrp})\n",
    "\n"
   ]
  },
  {
   "cell_type": "markdown",
   "metadata": {},
   "source": [
    "### Calculate statistics "
   ]
  },
  {
   "cell_type": "code",
   "execution_count": 12,
   "metadata": {},
   "outputs": [
    {
     "name": "stdout",
     "output_type": "stream",
     "text": [
      "Start FDT/dt_1e-1_r0_1e-6/10e07\n",
      "Start FDT/dt_1e-1_r0_1e-6/10e08\n",
      "Start FDT/dt_1e-1_r0_1e-6/10e09\n",
      "Start FDT/dt_1e-1_r0_1e-6/10e10\n",
      "Start FDT/dt_1e-1_r0_1e-6/65e06\n",
      "Start FDT/dt_1e-1_r0_rwet/10e07\n",
      "Start FDT/dt_1e-1_r0_rwet/10e08\n",
      "Start FDT/dt_1e-1_r0_rwet/10e09\n",
      "Start FDT/dt_1e-1_r0_rwet/10e10\n",
      "Start FDT/dt_1e-1_r0_rwet/50e07\n",
      "Start FDT/dt_1e-1_r0_rwet/65e06\n",
      "Start FDT/dt_1e-1_r0_rwet_noREN/10e07\n",
      "Start FDT/dt_1e-1_r0_rwet_noREN/10e08\n",
      "Start FDT/dt_1e-1_r0_rwet_noREN/10e09\n",
      "Start FDT/dt_1e-1_r0_rwet_noREN/10e10\n",
      "Start FDT/dt_1e-1_r0_rwet_noREN/50e07\n",
      "Start FDT/dt_1e-1_r0_rwet_noREN/65e06\n",
      "Start LRD/r0_01e-06/10e07\n",
      "Start LRD/r0_01e-06/10e08\n",
      "Start LRD/r0_01e-06/10e09\n",
      "Start LRD/r0_01e-06/10e10\n",
      "Start LRD/r0_01e-06/50e07\n",
      "Start LRD/r0_01e-06/65e06\n",
      "Start LRD/r0_05e-06/10e07\n",
      "Start LRD/r0_05e-06/10e08\n",
      "Start LRD/r0_05e-06/10e09\n",
      "Start LRD/r0_05e-06/10e10\n",
      "Start LRD/r0_05e-06/50e07\n",
      "Start LRD/r0_05e-06/65e06\n",
      "Start LRD/r0_10e-06/10e07\n",
      "Start LRD/r0_10e-06/10e08\n",
      "Start LRD/r0_10e-06/10e09\n",
      "Start LRD/r0_10e-06/10e10\n",
      "Start LRD/r0_10e-06/50e07\n",
      "Start LRD/r0_10e-06/65e06\n",
      "Start SMD/r0_010e-7/10e07\n",
      "Start SMD/r0_010e-7/10e08\n",
      "Start SMD/r0_010e-7/10e09\n",
      "Start SMD/r0_010e-7/10e10\n",
      "Start SMD/r0_010e-7/50e07\n",
      "Start SMD/r0_010e-7/65e06\n",
      "Start SMD/r0_020e-7/10e07\n",
      "Start SMD/r0_020e-7/10e08\n",
      "Start SMD/r0_020e-7/10e09\n",
      "Start SMD/r0_020e-7/10e10\n",
      "Start SMD/r0_020e-7/50e07\n",
      "Start SMD/r0_020e-7/65e06\n",
      "Start SMD/r0_030e-7/10e07\n",
      "Start SMD/r0_030e-7/10e08\n",
      "Start SMD/r0_030e-7/10e09\n",
      "Start SMD/r0_030e-7/10e10\n",
      "Start SMD/r0_030e-7/50e07\n",
      "Start SMD/r0_030e-7/65e06\n",
      "Start SMD/r0_040e-7/10e07\n",
      "Start SMD/r0_040e-7/10e08\n",
      "Start SMD/r0_040e-7/10e09\n",
      "Start SMD/r0_040e-7/10e10\n",
      "Start SMD/r0_040e-7/50e07\n",
      "Start SMD/r0_040e-7/65e06\n",
      "Start SMD/r0_050e-7/10e07\n",
      "Start SMD/r0_050e-7/10e08\n",
      "Start SMD/r0_050e-7/10e09\n",
      "Start SMD/r0_050e-7/10e10\n",
      "Start SMD/r0_050e-7/50e07\n",
      "Start SMD/r0_050e-7/65e06\n",
      "Start SMD/r0_060e-7/10e07\n",
      "Start SMD/r0_060e-7/10e08\n",
      "Start SMD/r0_060e-7/10e09\n",
      "Start SMD/r0_060e-7/10e10\n",
      "Start SMD/r0_060e-7/50e07\n",
      "Start SMD/r0_060e-7/65e06\n",
      "Start SMD/r0_070e-7/10e07\n",
      "Start SMD/r0_070e-7/10e08\n",
      "Start SMD/r0_070e-7/10e09\n",
      "Start SMD/r0_070e-7/10e10\n",
      "Start SMD/r0_070e-7/50e07\n",
      "Start SMD/r0_070e-7/65e06\n",
      "Start SMD/r0_080e-7/10e07\n",
      "Start SMD/r0_080e-7/10e08\n",
      "Start SMD/r0_080e-7/10e09\n",
      "Start SMD/r0_080e-7/10e10\n",
      "Start SMD/r0_080e-7/50e07\n",
      "Start SMD/r0_080e-7/65e06\n",
      "Start SMD/r0_090e-7/10e07\n",
      "Start SMD/r0_090e-7/10e08\n",
      "Start SMD/r0_090e-7/10e09\n",
      "Start SMD/r0_090e-7/10e10\n",
      "Start SMD/r0_090e-7/50e07\n",
      "Start SMD/r0_090e-7/65e06\n",
      "Start SMD/r0_100e-7/10e07\n",
      "Start SMD/r0_100e-7/10e08\n",
      "Start SMD/r0_100e-7/10e09\n",
      "Start SMD/r0_100e-7/10e10\n",
      "Start SMD/r0_100e-7/50e07\n",
      "Start SMD/r0_100e-7/65e06\n",
      "Start SMD/rwet/10e07\n",
      "Start SMD/rwet/10e08\n",
      "Start SMD/rwet/10e09\n",
      "Start SMD/rwet/10e10\n",
      "Start SMD/rwet/50e07\n",
      "Start SMD/rwet/65e06\n",
      "--> All done <--\n"
     ]
    }
   ],
   "source": [
    "# specify the aerosol variable\n",
    "aero_var = \"N_AERO\"\n",
    "\n",
    "for sgrp in dct_all:\n",
    "    dct_igrp = {}\n",
    "    for stype in dct_all[sgrp]:\n",
    "        dct_itype = {}\n",
    "        for scase in dct_all[sgrp][stype]:\n",
    "            print(\"Start {}/{}/{}\".format(sgrp, stype, scase))\n",
    "\n",
    "\n",
    "\n",
    "            ## calculate the statistics\n",
    "            icase_stats = fkt_calc_3d_means(dir_nc = dct_all[sgrp][stype][scase][\"dir_3d\"])\n",
    "\n",
    "\n",
    "\n",
    "            ## write the values to a df    \n",
    "            for istat in dct_stats[sgrp][stype][scase][\"aero_all\"]:\n",
    "                ##### aerosols\n",
    "                dct_stats[sgrp][stype][scase][\"aero_all\"][istat] = icase_stats[\"all\"][istat][aero_var]\n",
    "                dct_stats[sgrp][stype][scase][\"aero_below_cl\"][istat] = icase_stats[\"below_cloud\"][istat][aero_var]\n",
    "\n",
    "                ####### CDNC\n",
    "                ### all heights\n",
    "                dct_stats[sgrp][stype][scase][\"Nc\"][istat] = icase_stats[\"all\"][istat][\"Nc\"]\n",
    "                dct_stats[sgrp][stype][scase][\"Nr\"][istat] = icase_stats[\"all\"][istat][\"Nr\"]\n",
    "\n",
    "                dct_stats[sgrp][stype][scase][\"Nc_vertsum\"][istat] = icase_stats[\"all_vertsum\"][istat][\"Nc\"]\n",
    "                dct_stats[sgrp][stype][scase][\"Nr_vertsum\"][istat] = icase_stats[\"all_vertsum\"][istat][\"Nr\"]\n",
    "\n",
    "                # get Nr+Nc in cloud averages\n",
    "                dct_stats[sgrp][stype][scase][\"Nc@inCloud_avg\"][istat] = icase_stats[\"in_cloud\"][istat][\"Nc\"]\n",
    "                dct_stats[sgrp][stype][scase][\"Nr@inCloud_avg\"][istat] = icase_stats[\"in_cloud\"][istat][\"Nr\"]\n",
    "\n",
    "                # get Nc + Nr vertsum\n",
    "                dct_stats[sgrp][stype][scase][\"Nc@inCloud_vertsum\"][istat] = icase_stats[\"in_cloud_vertsum\"][istat][\"Nc\"]\n",
    "                dct_stats[sgrp][stype][scase][\"Nr@inCloud_vertsum\"][istat] = icase_stats[\"in_cloud_vertsum\"][istat][\"Nr\"]\n",
    "\n",
    "\n",
    "print(\"--> All done <--\")"
   ]
  },
  {
   "cell_type": "code",
   "execution_count": 13,
   "metadata": {},
   "outputs": [
    {
     "data": {
      "text/plain": [
       "{'means3d': <xarray.DataArray 'Nr' ()>\n",
       " array(34138.13168313),\n",
       " 'std3d': <xarray.DataArray 'Nr' ()>\n",
       " array(31560.96875),\n",
       " 'qu25': <xarray.DataArray 'Nr' ()>\n",
       " array(15698.71484375)\n",
       " Coordinates:\n",
       "     quantile  float64 0.25,\n",
       " 'qu50': <xarray.DataArray 'Nr' ()>\n",
       " array(35077.76953125)\n",
       " Coordinates:\n",
       "     quantile  float64 0.5,\n",
       " 'qu75': <xarray.DataArray 'Nr' ()>\n",
       " array(57479.3515625)\n",
       " Coordinates:\n",
       "     quantile  float64 0.75}"
      ]
     },
     "execution_count": 13,
     "metadata": {},
     "output_type": "execute_result"
    }
   ],
   "source": [
    "dct_stats[\"LRD\"][\"r0_01e-06\"][\"65e06\"][\"Nr@inCloud_avg\"]"
   ]
  },
  {
   "cell_type": "markdown",
   "metadata": {},
   "source": [
    "### plot 3d susceptiblity"
   ]
  },
  {
   "cell_type": "markdown",
   "metadata": {},
   "source": [
    "#### plot based on 3d data"
   ]
  },
  {
   "cell_type": "code",
   "execution_count": 14,
   "metadata": {},
   "outputs": [],
   "source": [
    "def fkt_plot_LNreg_3d(ax, x_in, y_in,\n",
    "                      yqu25, yqu75,\n",
    "                      label_in, color, marker=\".\",\\\n",
    "                      lwd = 1,\\\n",
    "                      zord = 1,\\\n",
    "                      anot_casename=False,\\\n",
    "                      draw_RegLine = False):\n",
    "    \n",
    "    # for the linear regression\n",
    "    # mask out extrem low values\n",
    "    mk = np.where((y_in > 1) & (x_in > 10))[0]\n",
    "    try:\n",
    "        reg_LN = scipy.stats.linregress(x=np.log(x_in[mk]), y=np.log(y_in[mk]))\n",
    "    except:\n",
    "        print(\"Regression not possible for \", label_in)\n",
    "\n",
    "    if False:\n",
    "        label_print = label_in + \"\\n\" +\\\n",
    "            \"$y = \" + \"{0:3.2f}\".format(reg_LN.intercept) +\\\n",
    "            \"* x^\" + \"{\" + \"{0:3.2f}\".format(reg_LN.slope) + \"}$\"\n",
    "    else:\n",
    "        label_print = label_in\n",
    "    \n",
    "    \n",
    "    if False:\n",
    "        # plot only means\n",
    "        ax.scatter(x=x_in, y=y_in,\n",
    "                   label=label_print,\\\n",
    "                   color = color,\\\n",
    "                   alpha = 1,\\\n",
    "                   marker=marker,\\\n",
    "                   zorder = zord)\n",
    "        \n",
    "    else:\n",
    "        # plot with errorbars\n",
    "        err1 = ax.errorbar(x=x_in, y=y_in,\n",
    "                            #xerr=np.array([x_in - xqu25, xqu75 - x_in]),\n",
    "                            yerr=np.array([y_in - yqu25, yqu75- y_in]),\n",
    "                            label=label_print,\\\n",
    "                            color = color,\\\n",
    "                            markersize = 5,\\\n",
    "                            markerfacecolor=color,\\\n",
    "                            alpha = 1,\\\n",
    "                            marker=marker,\\\n",
    "                            linestyle = (0,(3,1)),\\\n",
    "                            linewidth = lwd/2,\\\n",
    "                            elinewidth = lwd,\\\n",
    "                            capsize = lwd,\\\n",
    "                            zorder = zord)\n",
    "        # change alpha of the line only\n",
    "        ch1 = err1.get_children()\n",
    "        ch1[0].set_alpha(0.5)\n",
    "        # make sure lines are always behind the errorbars (for all lines)\n",
    "        ch1[0].set_zorder(zord/50)\n",
    "\n",
    "    if anot_casename:\n",
    "        for ilbl in x_in.index:\n",
    "            ax.annotate(ilbl, xy=(x_in.loc[ilbl], y_in.loc[ilbl]),\n",
    "                        fontsize=8, label=None)\n",
    "    try:\n",
    "        if draw_RegLine:\n",
    "            ax.plot(sorted(x_in), np.exp(reg_LN.intercept) * sorted(x_in) ** reg_LN.slope,\n",
    "                    color=color, linestyle=\"-\", label='_nolegend_',\\\n",
    "                    linewidth = 7, alpha = 0.25, zorder = 2)\n",
    "        return reg_LN\n",
    "    except:\n",
    "        print(\"No regression line\")\n",
    "        return np.nan\n",
    "   "
   ]
  },
  {
   "cell_type": "code",
   "execution_count": 15,
   "metadata": {},
   "outputs": [],
   "source": [
    "beta_dct = {}\n",
    "for sgrp in dct_all:\n",
    "    dct_sgrp = {}\n",
    "    for stype in dct_all[sgrp]:\n",
    "        dct_sgrp.update({stype:np.nan})\n",
    "    beta_dct.update({sgrp:dct_sgrp})\n",
    "    "
   ]
  },
  {
   "cell_type": "code",
   "execution_count": 16,
   "metadata": {},
   "outputs": [
    {
     "data": {
      "image/png": "[encoded data removed]",
      "text/plain": [
       "<Figure size 432x288 with 1 Axes>"
      ]
     },
     "metadata": {
      "needs_background": "light"
     },
     "output_type": "display_data"
    }
   ],
   "source": [
    "# errobar plot testing\n",
    "if True:\n",
    "    err1 = plt.errorbar(x = np.arange(10),\\\n",
    "                 y = np.arange(10)+np.random.randn(10), \n",
    "                 yerr = np.random.randn(10),\\\n",
    "                markersize = 2,\\\n",
    "                alpha = 1,\\\n",
    "                marker=None,\\\n",
    "                linestyle = (0,(3,1)),\\\n",
    "                linewidth = 2,\\\n",
    "                elinewidth = 4,\\\n",
    "                capsize = 4)\n",
    "\n",
    "    ch1 = err1.get_children()\n",
    "\n",
    "    ch1[0].set_alpha(0.1)\n",
    "    ch1[0].set_zorder(0.1)\n",
    "    \n",
    "    err2 = plt.errorbar(x = np.arange(10),\\\n",
    "                 y = np.arange(10)+np.random.randn(10), \n",
    "                 yerr = np.random.randn(10),\\\n",
    "                markersize = 2,\\\n",
    "                alpha = 1,\\\n",
    "                marker=None,\\\n",
    "                linestyle = (0,(3,1)),\\\n",
    "                linewidth = 2,\\\n",
    "                elinewidth = 4,\\\n",
    "                capsize = 4)\n",
    "\n",
    "    ch1 = err2.get_children()\n",
    "\n",
    "    ch1[0].set_alpha(0.1)\n",
    "    ch1[0].set_zorder(0.1)"
   ]
  },
  {
   "cell_type": "markdown",
   "metadata": {},
   "source": [
    "### Make the plot"
   ]
  },
  {
   "cell_type": "code",
   "execution_count": 26,
   "metadata": {},
   "outputs": [
    {
     "name": "stderr",
     "output_type": "stream",
     "text": [
      "/tmp/ipykernel_2938/2487163026.py:94: UserWarning: FixedFormatter should only be used together with FixedLocator\n",
      "  ax.set_xticklabels(xtick_lbs)\n",
      "/tmp/ipykernel_2938/2487163026.py:95: UserWarning: FixedFormatter should only be used together with FixedLocator\n",
      "  ax.set_yticklabels(ytick_lbs)\n"
     ]
    },
    {
     "data": {
      "image/png": "[encoded data removed]",
      "text/plain": [
       "<Figure size 576x432 with 1 Axes>"
      ]
     },
     "metadata": {
      "needs_background": "light"
     },
     "output_type": "display_data"
    }
   ],
   "source": [
    "fig, ax = plt.subplots(1, 1, figsize = [8,6])\n",
    "#ig = plt.figure(figsize = [8,8])\n",
    "#x = fig.add_axes([0.1,0.1,.8,0.8])\n",
    "\n",
    "ax.set_xscale(\"log\")\n",
    "ax.set_yscale(\"log\")\n",
    "#ax.loglog()\n",
    "\n",
    "Aero_var = \"aero_below_cl\"\n",
    "\n",
    "nc_var = \"Nc@inCloud_avg\"\n",
    "nr_var = \"Nr@inCloud_avg\"# \"Nr@inCloud_avg\"\n",
    "\n",
    "Aero_scale = 10**6\n",
    "Nc_scale = 10**6\n",
    "\n",
    "        \n",
    "for sgrp in dct_all:\n",
    "    for stype in dct_all[sgrp]:\n",
    "\n",
    "        aero_q50 = pd.DataFrame(index = list(dct_all[sgrp][stype]))\n",
    "        aero_q75 = pd.DataFrame(index = list(dct_all[sgrp][stype]))\n",
    "        aero_q25 = pd.DataFrame(index = list(dct_all[sgrp][stype]))\n",
    "\n",
    "        cdnc_q50 = pd.DataFrame(index = list(dct_all[sgrp][stype]))\n",
    "        cdnc_q75 = pd.DataFrame(index = list(dct_all[sgrp][stype]))\n",
    "        cdnc_q25 = pd.DataFrame(index = list(dct_all[sgrp][stype]))                     \n",
    "\n",
    "        for scase in dct_all[sgrp][stype]:\n",
    "            aero_q50.loc[scase, Aero_var] = (dct_stats[sgrp][stype][scase][Aero_var][\"qu50\"].values)/Aero_scale\n",
    "            aero_q75.loc[scase, Aero_var] = (dct_stats[sgrp][stype][scase][Aero_var][\"qu75\"].values)/Aero_scale\n",
    "            aero_q25.loc[scase, Aero_var] = (dct_stats[sgrp][stype][scase][Aero_var][\"qu25\"].values)/Aero_scale\n",
    "\n",
    "            cdnc_q50.loc[scase, \"CDNC\"] = (dct_stats[sgrp][stype][scase][nc_var][\"qu50\"].values +  dct_stats[sgrp][stype][scase][nr_var][\"qu50\"].values )/Nc_scale\n",
    "            cdnc_q75.loc[scase, \"CDNC\"] = (dct_stats[sgrp][stype][scase][nc_var][\"qu75\"].values +  dct_stats[sgrp][stype][scase][nr_var][\"qu75\"].values )/Nc_scale\n",
    "            cdnc_q25.loc[scase, \"CDNC\"] = (dct_stats[sgrp][stype][scase][nc_var][\"qu25\"].values +  dct_stats[sgrp][stype][scase][nr_var][\"qu25\"].values )/Nc_scale\n",
    "\n",
    "        #for itype in [\"Dc010e-5m\"]:\n",
    "        all_cases = list(dct_all[sgrp][stype])\n",
    "        agsort_cases = fkts.listargsort(all_cases)\n",
    "        col_case = all_cases[agsort_cases[-1]]\n",
    "\n",
    "        cdnc_idx = np.argsort(cdnc_q50)\n",
    "\n",
    "        reg_LN = fkt_plot_LNreg_3d(\\\n",
    "                       ax=ax,\\\n",
    "                       x_in=aero_q50.sort_values(by=Aero_var).values.flatten(),\\\n",
    "                       y_in=cdnc_q50.sort_values(by=\"CDNC\").values.flatten(),\\\n",
    "                       yqu25=cdnc_q25.sort_values(by=\"CDNC\").values.flatten(),\\\n",
    "                       yqu75=cdnc_q75.sort_values(by=\"CDNC\").values.flatten(),\\\n",
    "                       label_in=dct_all[sgrp][stype][scase][\"label\"],\n",
    "                       color=dct_all[sgrp][stype][col_case][\"color\"],\n",
    "                       marker=\"\",\\\n",
    "                       lwd=dct_all[sgrp][stype][col_case][\"lw\"],\\\n",
    "                       zord= dct_all[sgrp][stype][col_case][\"zord\"],\\\n",
    "                       anot_casename=False,\\\n",
    "                       draw_RegLine=False)\n",
    "\n",
    "        beta_dct[sgrp][stype] =  reg_LN.slope\n",
    "\n",
    "if False:\n",
    "    ## add results from parcel model simulations\n",
    "    for iV in range(len(pyrcel_act_Num.columns))[::-1]:\n",
    "\n",
    "        ax.plot(pyrcel_act_Num.index[:-1], pyrcel_act_Num.iloc[:-1,iV],\"-\",\n",
    "                linewidth = 0.75,\\\n",
    "                label = \"w = {0:3.1f} m/s\".format(float(pyrcel_act_Num.columns[iV])),\\\n",
    "                color = mpl.cm.binary(np.linspace(100,200, len(pyrcel_act_Num.columns),dtype=int)[iV]),\\\n",
    "                alpha = 0.6, \\\n",
    "                zorder = -99)        \n",
    "        \n",
    "# add some labels and a grid\n",
    "ax.set_xlabel(\"$\\mathbf{N_a}$  $\\mathbf{[cm^{-3}]}$\", fontweight = \"bold\")\n",
    "ax.set_ylabel(\"$\\mathbf{N_d}$  $\\mathbf{[cm^{-3}]}$\", fontweight = \"bold\")\n",
    "#ax.tick_params(axis='both', which='major', labelsize=12, width=2.5, length=10)\n",
    "#ax.tick_params(axis='both', which='minor', labelsize=4, width=1.5, length=6)\n",
    "\n",
    "for iax in [ax.xaxis, ax.yaxis]:\n",
    "    iax.set_major_formatter(FormatStrFormatter('%g'))\n",
    "\n",
    "if True:\n",
    "    ax.grid(which='major', axis='both', alpha=0.1, color = \"black\")\n",
    "    ax.grid(which='minor', axis='both', alpha=0.05, color = \"grey\")\n",
    "\n",
    "# add legend outside of plot\n",
    "lgd = plt.legend(loc='center left', bbox_to_anchor=(1.02, 0.5),\\\n",
    "                  fontsize = 8, ncol = 1, handlelength=4, frameon =False).set_zorder(0)\n",
    "\n",
    "ax.xaxis.set_major_formatter(mpl.ticker.StrMethodFormatter('{x:E}'))\n",
    "ax.yaxis.set_major_formatter(mpl.ticker.StrMethodFormatter('{x:G}'))\n",
    "\n",
    "xtick_lbs = [\"$\\mathbf{\"+\"10^{0}\".format(int(i))+\"}$\" for i in np.log10(ax.get_xticks())]\n",
    "ytick_lbs = [\"$\\mathbf{\"+\"10^{0}\".format(int(i))+\"}$\" for i in np.log10(ax.get_yticks())]\n",
    "ax.set_xticklabels(xtick_lbs)\n",
    "ax.set_yticklabels(ytick_lbs)\n",
    "\n",
    "\n",
    "\n",
    "\n",
    "# make the background transparent\n",
    "ax.set_facecolor(\"white\")\n",
    "fig.set_facecolor((0,0,0,0))\n",
    "fig.set_edgecolor((0,0,0,0))\n",
    "\n",
    "\n",
    "# equal axis in both directions\n",
    "ax.set_aspect('equal', adjustable='box')\n",
    "\n",
    "ax.set_xlim([4e1,1e5])\n",
    "ax.set_ylim([4e1,3e4])\n",
    "ymin, ymax = ax.get_ylim()\n",
    "xmin, xmax = ax.get_xlim()\n",
    "\n",
    "### Remove spines and draw arrows instead\n",
    "ax.spines['right'].set_visible(False)\n",
    "ax.spines['top'].set_visible(False)\n",
    "ax.spines['bottom'].set_visible(False)\n",
    "ax.spines['left'].set_visible(False)\n",
    "\n",
    "# make arrows\n",
    "ax.plot((xmin, xmax*1.2), (ymin, ymin), color = \"k\",clip_on=False )\n",
    "ax.plot((xmax*1.2), (ymin), ls=\"\", marker=\">\", ms=8, color=\"k\",clip_on=False)\n",
    "\n",
    "ax.plot((xmin, xmin), (ymin, ymax*1.2), color = \"k\",clip_on=False )\n",
    "ax.plot((xmin), (ymax*1.2), ls=\"\", marker=\"^\", ms=8, color=\"k\",clip_on=False)\n",
    "\n",
    "if True:\n",
    "    # 1:1 line grid\n",
    "    for igrid in np.arange(-5,6,1, dtype = float):\n",
    "        ax.plot([10**(igrid+1), 10**(igrid+6)], [10**1, 10**6], color = \"grey\", alpha = 0.05,\\\n",
    "               linestyle = \"-\")\n",
    "\n",
    "\n",
    "if savefigs:\n",
    "    plt.savefig(os.path.join(nml.dir_output, \"Na_belowCloud_vs_CDNCinCloudAVG_3d.pdf\"),\n",
    "            bbox_inches=\"tight\",dpi = 500)"
   ]
  },
  {
   "cell_type": "code",
   "execution_count": 25,
   "metadata": {},
   "outputs": [],
   "source": [
    "savefigs = True"
   ]
  },
  {
   "cell_type": "code",
   "execution_count": 27,
   "metadata": {},
   "outputs": [
    {
     "data": {
      "text/plain": [
       "True"
      ]
     },
     "execution_count": 27,
     "metadata": {},
     "output_type": "execute_result"
    }
   ],
   "source": [
    "savefigs"
   ]
  },
  {
   "cell_type": "code",
   "execution_count": 28,
   "metadata": {},
   "outputs": [
    {
     "data": {
      "text/plain": [
       "'/home/jovyan/work/output/'"
      ]
     },
     "execution_count": 28,
     "metadata": {},
     "output_type": "execute_result"
    }
   ],
   "source": [
    "nml.dir_output"
   ]
  },
  {
   "cell_type": "code",
   "execution_count": null,
   "metadata": {},
   "outputs": [],
   "source": []
  }
 ],
 "metadata": {
  "kernelspec": {
   "display_name": "Python 3 (ipykernel)",
   "language": "python",
   "name": "python3"
  },
  "language_info": {
   "codemirror_mode": {
    "name": "ipython",
    "version": 3
   },
   "file_extension": ".py",
   "mimetype": "text/x-python",
   "name": "python",
   "nbconvert_exporter": "python",
   "pygments_lexer": "ipython3",
   "version": "3.9.10"
  },
  "toc": {
   "base_numbering": 1,
   "nav_menu": {},
   "number_sections": true,
   "sideBar": true,
   "skip_h1_title": false,
   "title_cell": "Table of Contents",
   "title_sidebar": "Contents",
   "toc_cell": false,
   "toc_position": {
    "height": "786px",
    "left": "23px",
    "top": "111.133px",
    "width": "165px"
   },
   "toc_section_display": true,
   "toc_window_display": true
  },
  "varInspector": {
   "cols": {
    "lenName": 16,
    "lenType": 16,
    "lenVar": 40
   },
   "kernels_config": {
    "python": {
     "delete_cmd_postfix": "",
     "delete_cmd_prefix": "del ",
     "library": "var_list.py",
     "varRefreshCmd": "print(var_dic_list())"
    },
    "r": {
     "delete_cmd_postfix": ") ",
     "delete_cmd_prefix": "rm(",
     "library": "var_list.r",
     "varRefreshCmd": "cat(var_dic_list()) "
    }
   },
   "position": {
    "height": "514.85px",
    "left": "660.467px",
    "right": "20px",
    "top": "89px",
    "width": "370.767px"
   },
   "types_to_exclude": [
    "module",
    "function",
    "builtin_function_or_method",
    "instance",
    "_Feature"
   ],
   "window_display": false
  }
 },
 "nbformat": 4,
 "nbformat_minor": 4
}
