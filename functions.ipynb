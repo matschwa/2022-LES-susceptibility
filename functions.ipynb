{
 "cells": [
  {
   "cell_type": "code",
   "execution_count": null,
   "metadata": {},
   "outputs": [],
   "source": [
    "import numpy as np\n",
    "import pandas as pd\n",
    "import xarray as xr"
   ]
  },
  {
   "cell_type": "code",
   "execution_count": null,
   "metadata": {},
   "outputs": [],
   "source": [
    "def fkt_getnum(x):\n",
    "     return float(x.split(\"-\")[-1])\n",
    "\n",
    "def listargsort(cases):\n",
    "    nums = [fkt_getnum(x) for x in cases]\n",
    "    return np.argsort(nums)\n"
   ]
  },
  {
   "cell_type": "markdown",
   "metadata": {},
   "source": [
    "# Functions to load data"
   ]
  },
  {
   "cell_type": "code",
   "execution_count": 2,
   "metadata": {},
   "outputs": [],
   "source": [
    "def fkt_load_TS(dir_ts):\n",
    "    # T_S Data from MIMICA output\n",
    "    with open(dir_ts) as f:\n",
    "        raw = f.read()\n",
    "    lines = raw.split(\"\\n\")\n",
    "    header = lines[0][1:].split()\n",
    "    data = np.array([[float(i) for i in (l.split())]\n",
    "                     for l in lines[1:-1]])\n",
    "    df = pd.DataFrame(data[:, 1:], index=data[:, 0])\n",
    "    df.columns = header[1:]\n",
    "\n",
    "    # update dict\n",
    "    return df"
   ]
  },
  {
   "cell_type": "code",
   "execution_count": null,
   "metadata": {},
   "outputs": [],
   "source": [
    "def fkt_load_profiles(dir_nc):\n",
    "    \"\"\"\n",
    "    Load profiles using xarray\n",
    "    \"\"\"\n",
    "    ds = xr.open_dataset(dct_all[idct][icase][\"dir_prf\"])\n",
    "\n",
    "    # update dict\n",
    "    dct_all[idct][icase].update({\"data\": ds})"
   ]
  }
 ],
 "metadata": {
  "kernelspec": {
   "display_name": "Python 3",
   "language": "python",
   "name": "python3"
  },
  "language_info": {
   "codemirror_mode": {
    "name": "ipython",
    "version": 3
   },
   "file_extension": ".py",
   "mimetype": "text/x-python",
   "name": "python",
   "nbconvert_exporter": "python",
   "pygments_lexer": "ipython3",
   "version": "3.8.3"
  },
  "toc": {
   "base_numbering": 1,
   "nav_menu": {},
   "number_sections": true,
   "sideBar": true,
   "skip_h1_title": false,
   "title_cell": "Table of Contents",
   "title_sidebar": "Contents",
   "toc_cell": false,
   "toc_position": {},
   "toc_section_display": true,
   "toc_window_display": false
  },
  "varInspector": {
   "cols": {
    "lenName": 16,
    "lenType": 16,
    "lenVar": 40
   },
   "kernels_config": {
    "python": {
     "delete_cmd_postfix": "",
     "delete_cmd_prefix": "del ",
     "library": "var_list.py",
     "varRefreshCmd": "print(var_dic_list())"
    },
    "r": {
     "delete_cmd_postfix": ") ",
     "delete_cmd_prefix": "rm(",
     "library": "var_list.r",
     "varRefreshCmd": "cat(var_dic_list()) "
    }
   },
   "types_to_exclude": [
    "module",
    "function",
    "builtin_function_or_method",
    "instance",
    "_Feature"
   ],
   "window_display": false
  }
 },
 "nbformat": 4,
 "nbformat_minor": 4
}
