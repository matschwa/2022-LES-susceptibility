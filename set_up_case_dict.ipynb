{
 "cells": [
  {
   "cell_type": "markdown",
   "metadata": {},
   "source": [
    "#### <span style=\"font-family:Arial; font-weight: 800; font-size:25px;\"> Create main dictionary for all DYCOMS cases</span>\n",
    "\n",
    "<span style=\"font-family:Arial; font-weight: 600; font-size:12px;\"> Includes all types of simulations, cases, and a style dictionary for consistend colors </span>\n",
    "\n"
   ]
  },
  {
   "cell_type": "code",
   "execution_count": 1,
   "metadata": {},
   "outputs": [],
   "source": [
    "import os\n",
    "import numpy as np\n",
    "import pandas as pd\n",
    "import xarray as xr\n",
    "\n",
    "import matplotlib.pyplot as plt\n",
    "import matplotlib.colors"
   ]
  },
  {
   "cell_type": "code",
   "execution_count": 2,
   "metadata": {},
   "outputs": [],
   "source": [
    "from matplotlib import colors as mpl_cls\n",
    "from matplotlib.colors import ListedColormap, LinearSegmentedColormap\n"
   ]
  },
  {
   "cell_type": "code",
   "execution_count": 3,
   "metadata": {},
   "outputs": [],
   "source": [
    "# allows to scale darkess of colors\n",
    "import colorsys\n",
    "\n",
    "def scale_lightness(rgb, scale_l):\n",
    "    # convert rgb to hls\n",
    "    h, l, s = colorsys.rgb_to_hls(*rgb)\n",
    "    # manipulate h, l, s values and return as rgb\n",
    "    return list(colorsys.hls_to_rgb(h, min(1, l * scale_l), s = s))"
   ]
  },
  {
   "cell_type": "code",
   "execution_count": 4,
   "metadata": {},
   "outputs": [],
   "source": [
    "# import own functions\n",
    "from importnb import Notebook\n",
    "\n",
    "with Notebook(): \n",
    "        import functions as fkts\n",
    "        import namelist as nml"
   ]
  },
  {
   "cell_type": "markdown",
   "metadata": {},
   "source": [
    "# Define main Input and output paths"
   ]
  },
  {
   "cell_type": "code",
   "execution_count": 6,
   "metadata": {},
   "outputs": [],
   "source": [
    "sim_grps = [i for i in sorted(os.listdir(nml.dir_sim))]"
   ]
  },
  {
   "cell_type": "code",
   "execution_count": 7,
   "metadata": {},
   "outputs": [
    {
     "data": {
      "text/plain": [
       "['FDT', 'LRD', 'SMD']"
      ]
     },
     "execution_count": 7,
     "metadata": {},
     "output_type": "execute_result"
    }
   ],
   "source": [
    "sim_grps"
   ]
  },
  {
   "cell_type": "code",
   "execution_count": 9,
   "metadata": {},
   "outputs": [],
   "source": [
    "dct_all = {}\n",
    "for sgrp in sim_grps:\n",
    "    \n",
    "    \n",
    "    ipath_grp = os.path.join(nml.dir_sim, sgrp)\n",
    "    \n",
    "    sim_types = [i for i in sorted(os.listdir(ipath_grp))]\n",
    "    h_dict = {}\n",
    "    for itype in sim_types:\n",
    "        \n",
    "        h_dict.update({itype:{}})\n",
    "    \n",
    "    dct_all.update({sgrp:h_dict})"
   ]
  },
  {
   "cell_type": "code",
   "execution_count": 10,
   "metadata": {},
   "outputs": [
    {
     "data": {
      "text/plain": [
       "{'FDT': {'dt_1e-1_r0_1e-6': {},\n",
       "  'dt_1e-1_r0_rwet': {},\n",
       "  'dt_1e-1_r0_rwet_noREN': {}},\n",
       " 'LRD': {'r0_01e-06': {}, 'r0_05e-06': {}, 'r0_10e-06': {}},\n",
       " 'SMD': {'r0_010e-7': {},\n",
       "  'r0_020e-7': {},\n",
       "  'r0_030e-7': {},\n",
       "  'r0_040e-7': {},\n",
       "  'r0_050e-7': {},\n",
       "  'r0_060e-7': {},\n",
       "  'r0_070e-7': {},\n",
       "  'r0_080e-7': {},\n",
       "  'r0_090e-7': {},\n",
       "  'r0_100e-7': {},\n",
       "  'rwet': {}}}"
      ]
     },
     "execution_count": 10,
     "metadata": {},
     "output_type": "execute_result"
    }
   ],
   "source": [
    "dct_all"
   ]
  },
  {
   "cell_type": "code",
   "execution_count": 11,
   "metadata": {},
   "outputs": [],
   "source": [
    "dct_all = {}\n",
    "for sgrp in sim_grps:\n",
    "    \n",
    "    \n",
    "    ipath_grp = os.path.join(nml.dir_sim, sgrp)\n",
    "    \n",
    "    sim_types = [i for i in sorted(os.listdir(ipath_grp))]\n",
    "    itype_dict = {}\n",
    "    for itype in sim_types:\n",
    "        \n",
    "        ipath_grp_type = os.path.join(nml.dir_sim, sgrp, itype)\n",
    "        \n",
    "        cases = [i for i in sorted(os.listdir(ipath_grp_type))]\n",
    "        \n",
    "        cases_dict = {}\n",
    "    \n",
    "        for icase in cases:\n",
    "            cases_dict.update({icase:{}})\n",
    "            \n",
    "        \n",
    "        \n",
    "        itype_dict.update({itype:cases_dict}) \n",
    "        \n",
    "    \n",
    "    dct_all.update({sgrp:itype_dict})\n",
    "    \n",
    "    "
   ]
  },
  {
   "cell_type": "code",
   "execution_count": 12,
   "metadata": {},
   "outputs": [
    {
     "data": {
      "text/plain": [
       "{'FDT': {'dt_1e-1_r0_1e-6': {'10e07': {},\n",
       "   '10e08': {},\n",
       "   '10e09': {},\n",
       "   '10e10': {},\n",
       "   '65e06': {}},\n",
       "  'dt_1e-1_r0_rwet': {'10e07': {},\n",
       "   '10e08': {},\n",
       "   '10e09': {},\n",
       "   '10e10': {},\n",
       "   '50e07': {},\n",
       "   '65e06': {}},\n",
       "  'dt_1e-1_r0_rwet_noREN': {'10e07': {},\n",
       "   '10e08': {},\n",
       "   '10e09': {},\n",
       "   '10e10': {},\n",
       "   '50e07': {},\n",
       "   '65e06': {}}},\n",
       " 'LRD': {'r0_01e-06': {'10e07': {},\n",
       "   '10e08': {},\n",
       "   '10e09': {},\n",
       "   '10e10': {},\n",
       "   '50e07': {},\n",
       "   '65e06': {}},\n",
       "  'r0_05e-06': {'10e07': {},\n",
       "   '10e08': {},\n",
       "   '10e09': {},\n",
       "   '10e10': {},\n",
       "   '50e07': {},\n",
       "   '65e06': {}},\n",
       "  'r0_10e-06': {'10e07': {},\n",
       "   '10e08': {},\n",
       "   '10e09': {},\n",
       "   '10e10': {},\n",
       "   '50e07': {},\n",
       "   '65e06': {}}},\n",
       " 'SMD': {'r0_010e-7': {'10e07': {},\n",
       "   '10e08': {},\n",
       "   '10e09': {},\n",
       "   '10e10': {},\n",
       "   '50e07': {},\n",
       "   '65e06': {}},\n",
       "  'r0_020e-7': {'10e07': {},\n",
       "   '10e08': {},\n",
       "   '10e09': {},\n",
       "   '10e10': {},\n",
       "   '50e07': {},\n",
       "   '65e06': {}},\n",
       "  'r0_030e-7': {'10e07': {},\n",
       "   '10e08': {},\n",
       "   '10e09': {},\n",
       "   '10e10': {},\n",
       "   '50e07': {},\n",
       "   '65e06': {}},\n",
       "  'r0_040e-7': {'10e07': {},\n",
       "   '10e08': {},\n",
       "   '10e09': {},\n",
       "   '10e10': {},\n",
       "   '50e07': {},\n",
       "   '65e06': {}},\n",
       "  'r0_050e-7': {'10e07': {},\n",
       "   '10e08': {},\n",
       "   '10e09': {},\n",
       "   '10e10': {},\n",
       "   '50e07': {},\n",
       "   '65e06': {}},\n",
       "  'r0_060e-7': {'10e07': {},\n",
       "   '10e08': {},\n",
       "   '10e09': {},\n",
       "   '10e10': {},\n",
       "   '50e07': {},\n",
       "   '65e06': {}},\n",
       "  'r0_070e-7': {'10e07': {},\n",
       "   '10e08': {},\n",
       "   '10e09': {},\n",
       "   '10e10': {},\n",
       "   '50e07': {},\n",
       "   '65e06': {}},\n",
       "  'r0_080e-7': {'10e07': {},\n",
       "   '10e08': {},\n",
       "   '10e09': {},\n",
       "   '10e10': {},\n",
       "   '50e07': {},\n",
       "   '65e06': {}},\n",
       "  'r0_090e-7': {'10e07': {},\n",
       "   '10e08': {},\n",
       "   '10e09': {},\n",
       "   '10e10': {},\n",
       "   '50e07': {},\n",
       "   '65e06': {}},\n",
       "  'r0_100e-7': {'10e07': {},\n",
       "   '10e08': {},\n",
       "   '10e09': {},\n",
       "   '10e10': {},\n",
       "   '50e07': {},\n",
       "   '65e06': {}},\n",
       "  'rwet': {'10e07': {},\n",
       "   '10e08': {},\n",
       "   '10e09': {},\n",
       "   '10e10': {},\n",
       "   '50e07': {},\n",
       "   '65e06': {}}}}"
      ]
     },
     "execution_count": 12,
     "metadata": {},
     "output_type": "execute_result"
    }
   ],
   "source": [
    "dct_all"
   ]
  },
  {
   "cell_type": "markdown",
   "metadata": {},
   "source": [
    "## Set up paths"
   ]
  },
  {
   "cell_type": "code",
   "execution_count": 13,
   "metadata": {},
   "outputs": [],
   "source": [
    "# Loop though all cases\n",
    "\n",
    "# First loop through groups\n",
    "## igrp is an interger number\n",
    "## sgrp is a string\n",
    "for igrp in range(len(dct_all)):\n",
    "    sgrp = list(dct_all)[igrp]\n",
    "    #print(sgrp)    \n",
    "    \n",
    "    # loop though all simulations types\n",
    "    ## isim is a number!\n",
    "    ## ssmin is a string\n",
    "    for itype in range(len(dct_all[sgrp])):\n",
    "        # get the name (string) of the simulation\n",
    "        stype = list(dct_all[sgrp])[itype]\n",
    "      \n",
    "        \n",
    "        for icase in range(len(dct_all[sgrp][stype])):\n",
    "            scase = list(dct_all[sgrp][stype])[icase]\n",
    "\n",
    "\n",
    "            ## put paths of output files into dct\n",
    "            # absulte paths of output files\n",
    "            idir_prf = os.path.join(nml.dir_sim, sgrp, stype, scase, 'profiles_tot.nc')\n",
    "            idir_TS = os.path.join(nml.dir_sim, sgrp, stype, scase, 'T_S')\n",
    "            idir_3d = os.path.join(nml.dir_sim, sgrp, stype, scase, 'DYCOMS_MPI.nc')\n",
    "\n",
    "\n",
    "            # write to dict\n",
    "            dct_all[sgrp][stype][scase].update({'dir_prf': idir_prf,\\\n",
    "                                                 'dir_TS':idir_TS,\\\n",
    "                                                 'dir_3d': idir_3d,})"
   ]
  },
  {
   "cell_type": "markdown",
   "metadata": {},
   "source": [
    "## Set up coloring"
   ]
  },
  {
   "cell_type": "markdown",
   "metadata": {},
   "source": [
    "https://www.designwizard.com/blog/design-trends/colour-combination"
   ]
  },
  {
   "cell_type": "markdown",
   "metadata": {},
   "source": [
    "https://www.designwizard.com/blog/design-trends/colour-combination"
   ]
  },
  {
   "cell_type": "markdown",
   "metadata": {},
   "source": [
    "Deep Blue (#2460A7FF), Northern Sky (#85B3D1FF), Baby Blue (#B3C7D6FF) and Coffee (#D9B48FFF)"
   ]
  },
  {
   "cell_type": "markdown",
   "metadata": {},
   "source": [
    "Danger Red (#D9514EFF), Tap Shoe (#2A2B2DFF) and Blue Blossom (#2DA8D8FF)"
   ]
  },
  {
   "cell_type": "code",
   "execution_count": 14,
   "metadata": {},
   "outputs": [
    {
     "data": {
      "text/plain": [
       "array([0. , 0.5, 1. ])"
      ]
     },
     "execution_count": 14,
     "metadata": {},
     "output_type": "execute_result"
    }
   ],
   "source": [
    "np.linspace(0,1,3)"
   ]
  },
  {
   "cell_type": "code",
   "execution_count": 15,
   "metadata": {},
   "outputs": [],
   "source": [
    "\n",
    "# Loop though all cases\n",
    "\n",
    "# First loop through groups\n",
    "## igrp is an interger number\n",
    "## sgrp is a string\n",
    "for igrp in range(len(dct_all)):\n",
    "    sgrp = list(dct_all)[igrp]\n",
    "    #print(sgrp)\n",
    "    \n",
    "    \n",
    "    # loop though all simulations types\n",
    "    ## isim is a number!\n",
    "    ## ssmin is a string\n",
    "    if (sgrp == \"FDT\"):\n",
    "\n",
    "        colors = [\"chocolate\", \"orange\", \"gold\"]\n",
    "        colormap = LinearSegmentedColormap.from_list(\"mycmap\", colors)(np.linspace(0,1, len(dct_all[sgrp])))\n",
    "    if (sgrp == \"SMD\"):\n",
    "        colors = [\"deepskyblue\", \"dodgerblue\", \"blue\", \"navy\"]\n",
    "        colormap = LinearSegmentedColormap.from_list(\"mycmap\", colors)(np.linspace(0,1, len(dct_all[sgrp])))\n",
    "    if (sgrp == \"LRD\"):\n",
    "        colors = [\"olive\", \"limegreen\", \"lime\"]\n",
    "        colormap = LinearSegmentedColormap.from_list(\"mycmap\", colors)(np.linspace(0,1, len(dct_all[sgrp]))) \n",
    "        \n",
    "    for itype in range(len(dct_all[sgrp])):\n",
    "        # get the name (string) of the simulation\n",
    "        stype = list(dct_all[sgrp])[itype]\n",
    "        \n",
    "        col_type = colormap[itype]\n",
    "        \n",
    "        # loop though cases in correct order\n",
    "        cases = list(dct_all[sgrp][stype])\n",
    "        cases_num = np.array(cases, dtype = float)\n",
    "        srt_idx = np.argsort(cases_num)\n",
    "        sort_case = [cases[i] for i in srt_idx]\n",
    "               \n",
    "        for icase in range(len(sort_case)):\n",
    "            scase = sort_case[icase]\n",
    "\n",
    "            ## chose two colors which for a case\n",
    "            # first color = saturated\n",
    "            # second color = unsaturated        \n",
    "            \n",
    "            ialpha_up= np.linspace(1,0.3, len(sort_case))[icase]\n",
    "            ialpha_dwn = np.linspace(0.3,1, len(sort_case))[icase]\n",
    "            \n",
    "            icol  = [col_type[0], col_type[1], col_type[2]]\n",
    "            \n",
    "            drk_col = scale_lightness(col_type[:3], np.linspace(1, 0.5, len(sort_case))[icase] )\n",
    "                        \n",
    "            dct_all[sgrp][stype][scase].update({\"color\": icol})\n",
    "            dct_all[sgrp][stype][scase].update({\"color_drk\": drk_col})\n",
    "            dct_all[sgrp][stype][scase].update({\"alpha_up\": ialpha_up})\n",
    "            dct_all[sgrp][stype][scase].update({\"alpha_dwn\": ialpha_dwn})\n",
    "            \n",
    "            # linewidhts\n",
    "            if (sgrp == \"SMD\"):\n",
    "                dct_all[sgrp][stype][scase].update({\"lw\":2})\n",
    "            elif (sgrp == \"LRD\"):\n",
    "                dct_all[sgrp][stype][scase].update({\"lw\":5})\n",
    "            elif (sgrp == \"FDT\"):\n",
    "                dct_all[sgrp][stype][scase].update({\"lw\":8})\n",
    "            # zorders\n",
    "            if (sgrp == \"SMD\"):\n",
    "                dct_all[sgrp][stype][scase].update({\"zord\":2})\n",
    "            elif (sgrp == \"LRD\"):\n",
    "                dct_all[sgrp][stype][scase].update({\"zord\":5})\n",
    "            elif (sgrp == \"FDT\"):\n",
    "                dct_all[sgrp][stype][scase].update({\"zord\":10})\n"
   ]
  },
  {
   "cell_type": "markdown",
   "metadata": {},
   "source": [
    "## Check coloring"
   ]
  },
  {
   "cell_type": "code",
   "execution_count": 17,
   "metadata": {
    "tags": []
   },
   "outputs": [
    {
     "data": {
      "image/png": "[encoded data removed]",
      "text/plain": [
       "<Figure size 216x432 with 1 Axes>"
      ]
     },
     "metadata": {
      "needs_background": "light"
     },
     "output_type": "display_data"
    }
   ],
   "source": [
    "# check if coloring works\n",
    "if False:\n",
    "    plt.figure(figsize = [3, 6])\n",
    "    \n",
    "    # Loop though all cases\n",
    "\n",
    "    # First loop through groups\n",
    "    ## igrp is an interger number\n",
    "    ## sgrp is a string\n",
    "        \n",
    "    for igrp in range(len(dct_all)):\n",
    "        sgrp = list(dct_all)[igrp]\n",
    "        #print(sgrp)\n",
    "\n",
    "\n",
    "        # loop though all simulations types\n",
    "        ## isim is a number!\n",
    "        ## ssmin is a string\n",
    "        for itype in range(len(dct_all[sgrp])):\n",
    "            # get the name (string) of the simulation\n",
    "            stype = list(dct_all[sgrp])[itype]\n",
    "            #print(\"  \" + stype)\n",
    "\n",
    "\n",
    "            # loop though cases in correct order\n",
    "            cases = list(dct_all[sgrp][stype])\n",
    "            cases_num = np.array(cases, dtype = float)\n",
    "            srt_idx = np.argsort(cases_num)\n",
    "            sort_case = [cases[i] for i in srt_idx]\n",
    "\n",
    "            for icase in range(len(sort_case)):\n",
    "                scase = sort_case[icase]\n",
    "\n",
    "\n",
    "                plt.plot([1+igrp, 1.9+igrp], [10* itype+icase , 10* itype+icase],\n",
    "                         color=dct_all[sgrp][stype][scase][\"color_drk\"],\n",
    "                         alpha=dct_all[sgrp][stype][scase][\"alpha_up\"],\n",
    "                         label = \"{} / {} / {}\".format(sgrp, stype, icase))\n",
    "\n",
    "#plt.legend()"
   ]
  },
  {
   "cell_type": "code",
   "execution_count": 18,
   "metadata": {},
   "outputs": [
    {
     "data": {
      "image/png": "[encoded data removed]",
      "text/plain": [
       "<Figure size 216x432 with 1 Axes>"
      ]
     },
     "metadata": {
      "needs_background": "light"
     },
     "output_type": "display_data"
    }
   ],
   "source": [
    "# check if coloring works\n",
    "if False:\n",
    "    plt.figure(figsize = [3, 6])\n",
    "    \n",
    "    # Loop though all cases\n",
    "\n",
    "    # First loop through groups\n",
    "    ## igrp is an interger number\n",
    "    ## sgrp is a string\n",
    "        \n",
    "    for igrp in range(len(dct_all)):\n",
    "        sgrp = list(dct_all)[igrp]\n",
    "        #print(sgrp)\n",
    "\n",
    "\n",
    "        # loop though all simulations types\n",
    "        ## isim is a number!\n",
    "        ## ssmin is a string\n",
    "        for itype in range(len(dct_all[sgrp])):\n",
    "            # get the name (string) of the simulation\n",
    "            stype = list(dct_all[sgrp])[itype]\n",
    "            #print(\"  \" + stype)\n",
    "\n",
    "\n",
    "            # loop though cases in correct order\n",
    "            cases = list(dct_all[sgrp][stype])\n",
    "            cases_num = np.array(cases, dtype = float)\n",
    "            srt_idx = np.argsort(cases_num)\n",
    "            sort_case = [cases[i] for i in srt_idx]\n",
    "\n",
    "            for icase in range(len(sort_case)):\n",
    "                scase = sort_case[icase]\n",
    "\n",
    "\n",
    "                plt.plot([1+igrp, 1.9+igrp], [10* itype+icase , 10* itype+icase],\n",
    "                         color=dct_all[sgrp][stype][scase][\"color_drk\"],\n",
    "                         alpha = dct_all[sgrp][stype][scase][\"alpha_dwn\"],\n",
    "                         label = \"{} / {} / {}\".format(sgrp, stype, icase))\n",
    "\n",
    "#plt.legend()"
   ]
  },
  {
   "cell_type": "markdown",
   "metadata": {},
   "source": [
    "# Check labeling"
   ]
  },
  {
   "cell_type": "code",
   "execution_count": 20,
   "metadata": {},
   "outputs": [],
   "source": [
    "for igrp in range(len(dct_all)):\n",
    "    sgrp = list(dct_all)[igrp]\n",
    "    for itype in range(len(dct_all[sgrp])):\n",
    "        stype = list(dct_all[sgrp])[itype]    \n",
    "        for icase in range(len(dct_all[sgrp][stype])):\n",
    "            scase = list(dct_all[sgrp][stype])[icase]\n",
    "\n",
    "            \n",
    "            lbl = \"(\" + sgrp + \") \"\n",
    "            if sgrp == \"FDT\":\n",
    "                stype.split(\"_\")\n",
    "                if \"noREN\" in stype:\n",
    "                    h1 = \"$r^d_i$ = $r^a_w$ (NR)\"\n",
    "                elif \"rwet\" in stype:\n",
    "                    h1 = \"$r^d_i$ = $r^a_w$\"\n",
    "                else:\n",
    "                    h1 = \"$r^d_i$ = {0:2.1f}µm\".format(float(stype.split(\"_\")[-1])*1e6)\n",
    "\n",
    "            else:\n",
    "                if stype == \"rwet\":\n",
    "                    h1 = \"$r^d_i$ = $r^a_w$\"\n",
    "                else:\n",
    "                    h1 = \"$r^d_i$ = {0:2.1f}µm\".format(float(stype.split(\"_\")[-1])*1e6)\n",
    "\n",
    "            lbl = lbl + h1\n",
    "\n",
    "            \n",
    "            dct_all[sgrp][stype][scase].update({\"label\": lbl})"
   ]
  },
  {
   "cell_type": "code",
   "execution_count": null,
   "metadata": {},
   "outputs": [],
   "source": []
  }
 ],
 "metadata": {
  "kernelspec": {
   "display_name": "Python 3 (ipykernel)",
   "language": "python",
   "name": "python3"
  },
  "language_info": {
   "codemirror_mode": {
    "name": "ipython",
    "version": 3
   },
   "file_extension": ".py",
   "mimetype": "text/x-python",
   "name": "python",
   "nbconvert_exporter": "python",
   "pygments_lexer": "ipython3",
   "version": "3.9.10"
  },
  "toc": {
   "base_numbering": 1,
   "nav_menu": {},
   "number_sections": true,
   "sideBar": true,
   "skip_h1_title": false,
   "title_cell": "Table of Contents",
   "title_sidebar": "Contents",
   "toc_cell": false,
   "toc_position": {},
   "toc_section_display": true,
   "toc_window_display": false
  },
  "varInspector": {
   "cols": {
    "lenName": 16,
    "lenType": 16,
    "lenVar": 40
   },
   "kernels_config": {
    "python": {
     "delete_cmd_postfix": "",
     "delete_cmd_prefix": "del ",
     "library": "var_list.py",
     "varRefreshCmd": "print(var_dic_list())"
    },
    "r": {
     "delete_cmd_postfix": ") ",
     "delete_cmd_prefix": "rm(",
     "library": "var_list.r",
     "varRefreshCmd": "cat(var_dic_list()) "
    }
   },
   "types_to_exclude": [
    "module",
    "function",
    "builtin_function_or_method",
    "instance",
    "_Feature"
   ],
   "window_display": false
  }
 },
 "nbformat": 4,
 "nbformat_minor": 4
}
