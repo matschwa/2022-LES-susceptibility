{
 "cells": [
  {
   "cell_type": "markdown",
   "metadata": {},
   "source": [
    "#### <span style=\"font-family:Arial; font-weight: 800; font-size:25px;\"> Create main dictionary for all DYCOMS cases</span>\n",
    "\n",
    "<span style=\"font-family:Arial; font-weight: 600; font-size:12px;\"> Includes all types of simulations, cases, and a style dictionary for consistend colors </span>\n",
    "\n"
   ]
  },
  {
   "cell_type": "code",
   "execution_count": 1,
   "metadata": {},
   "outputs": [],
   "source": [
    "import os\n",
    "import numpy as np\n",
    "import pandas as pd\n",
    "import xarray as xr\n",
    "\n",
    "import matplotlib.pyplot as plt\n",
    "import matplotlib.colors"
   ]
  },
  {
   "cell_type": "code",
   "execution_count": 2,
   "metadata": {},
   "outputs": [],
   "source": [
    "from matplotlib import colors as mpl_cls\n",
    "from matplotlib.colors import ListedColormap, LinearSegmentedColormap\n"
   ]
  },
  {
   "cell_type": "code",
   "execution_count": 3,
   "metadata": {},
   "outputs": [],
   "source": [
    "# allows to scale darkess of colors\n",
    "import colorsys\n",
    "\n",
    "def scale_lightness(rgb, scale_l):\n",
    "    # convert rgb to hls\n",
    "    h, l, s = colorsys.rgb_to_hls(*rgb)\n",
    "    # manipulate h, l, s values and return as rgb\n",
    "    return list(colorsys.hls_to_rgb(h, min(1, l * scale_l), s = s))"
   ]
  },
  {
   "cell_type": "code",
   "execution_count": 4,
   "metadata": {},
   "outputs": [],
   "source": [
    "# import own functions\n",
    "from importnb import Notebook\n",
    "\n",
    "with Notebook(): \n",
    "        import functions as fkts\n",
    "        import namelist as nml"
   ]
  },
  {
   "cell_type": "markdown",
   "metadata": {},
   "source": [
    "# Define main Input and output paths"
   ]
  },
  {
   "cell_type": "code",
   "execution_count": 5,
   "metadata": {},
   "outputs": [],
   "source": [
    "sim_grps = [i for i in sorted(os.listdir(nml.dir_sim))]"
   ]
  },
  {
   "cell_type": "code",
   "execution_count": 6,
   "metadata": {},
   "outputs": [
    {
     "data": {
      "text/plain": [
       "['FDT', 'LRD', 'SMD']"
      ]
     },
     "execution_count": 6,
     "metadata": {},
     "output_type": "execute_result"
    }
   ],
   "source": [
    "sim_grps"
   ]
  },
  {
   "cell_type": "code",
   "execution_count": 7,
   "metadata": {},
   "outputs": [],
   "source": [
    "dct_all = {}\n",
    "for sgrp in sim_grps:\n",
    "    \n",
    "    \n",
    "    ipath_grp = os.path.join(nml.dir_sim, sgrp)\n",
    "    \n",
    "    sim_types = [i for i in sorted(os.listdir(ipath_grp)) if ('MinimalWorkingExample' not in i)\\\n",
    "                                                             & ('caselist.txt' not in i) \\\n",
    "                                                             & ('typelist.txt' not in i)]\n",
    "    h_dict = {}\n",
    "    for itype in sim_types:\n",
    "        \n",
    "        h_dict.update({itype:{}})\n",
    "    \n",
    "    dct_all.update({sgrp:h_dict})"
   ]
  },
  {
   "cell_type": "code",
   "execution_count": 8,
   "metadata": {},
   "outputs": [
    {
     "data": {
      "text/plain": [
       "{'FDT': {'dt_1e-1_r0_1e-6': {}, 'dt_1e-1_rwet': {}, 'dt_1e-1_rwet_noREN': {}},\n",
       " 'LRD': {'r0_01e-06': {}, 'r0_05e-06': {}, 'r0_10e-06': {}},\n",
       " 'SMD': {'r0_010e-7': {},\n",
       "  'r0_020e-7': {},\n",
       "  'r0_030e-7': {},\n",
       "  'r0_040e-7': {},\n",
       "  'r0_050e-7': {},\n",
       "  'r0_060e-7': {},\n",
       "  'r0_070e-7': {},\n",
       "  'r0_080e-7': {},\n",
       "  'r0_090e-7': {},\n",
       "  'r0_100e-7': {},\n",
       "  'rwet': {}}}"
      ]
     },
     "execution_count": 8,
     "metadata": {},
     "output_type": "execute_result"
    }
   ],
   "source": [
    "dct_all"
   ]
  },
  {
   "cell_type": "code",
   "execution_count": 9,
   "metadata": {},
   "outputs": [],
   "source": [
    "dct_all = {}\n",
    "for sgrp in sim_grps:\n",
    "    \n",
    "    \n",
    "    ipath_grp = os.path.join(nml.dir_sim, sgrp)\n",
    "    \n",
    "    sim_types = [i for i in sorted(os.listdir(ipath_grp)) if ('MinimalWorkingExample' not in i)\\\n",
    "                                                             & ('caselist.txt' not in i) \\\n",
    "                                                             & ('typelist.txt' not in i)]\n",
    "    itype_dict = {}\n",
    "    for itype in sim_types:\n",
    "        \n",
    "        ipath_grp_type = os.path.join(nml.dir_sim, sgrp, itype)\n",
    "        \n",
    "        cases = [i for i in sorted(os.listdir(ipath_grp_type)) if ('MinimalWorkingExample' not in i)\\\n",
    "                                                             & ('caselist.txt' not in i) \\\n",
    "                                                             & ('typelist.txt' not in i)]\n",
    "        \n",
    "        cases_dict = {}\n",
    "    \n",
    "        for icase in cases:\n",
    "            cases_dict.update({icase:{}})\n",
    "            \n",
    "        \n",
    "        \n",
    "        itype_dict.update({itype:cases_dict}) \n",
    "        \n",
    "    \n",
    "    dct_all.update({sgrp:itype_dict})\n",
    "    \n",
    "    "
   ]
  },
  {
   "cell_type": "code",
   "execution_count": 10,
   "metadata": {},
   "outputs": [
    {
     "data": {
      "text/plain": [
       "{'FDT': {'dt_1e-1_r0_1e-6': {'10e07': {},\n",
       "   '10e08': {},\n",
       "   '10e10': {},\n",
       "   '65e06': {}},\n",
       "  'dt_1e-1_rwet': {'10e07': {},\n",
       "   '10e08': {},\n",
       "   '10e09': {},\n",
       "   '10e10': {},\n",
       "   '50e07': {},\n",
       "   '65e06': {}},\n",
       "  'dt_1e-1_rwet_noREN': {'10e07': {},\n",
       "   '10e08': {},\n",
       "   '10e09': {},\n",
       "   '10e10': {},\n",
       "   '50e07': {},\n",
       "   '65e06': {}}},\n",
       " 'LRD': {'r0_01e-06': {'10e07': {},\n",
       "   '10e08': {},\n",
       "   '10e09': {},\n",
       "   '10e10': {},\n",
       "   '50e07': {},\n",
       "   '65e06': {}},\n",
       "  'r0_05e-06': {'10e07': {},\n",
       "   '10e08': {},\n",
       "   '10e09': {},\n",
       "   '10e10': {},\n",
       "   '50e07': {},\n",
       "   '65e06': {}},\n",
       "  'r0_10e-06': {'10e07': {},\n",
       "   '10e08': {},\n",
       "   '10e09': {},\n",
       "   '10e10': {},\n",
       "   '50e07': {},\n",
       "   '65e06': {}}},\n",
       " 'SMD': {'r0_010e-7': {'10e07': {},\n",
       "   '10e08': {},\n",
       "   '10e09': {},\n",
       "   '10e10': {},\n",
       "   '50e07': {},\n",
       "   '65e06': {}},\n",
       "  'r0_020e-7': {'10e07': {},\n",
       "   '10e08': {},\n",
       "   '10e09': {},\n",
       "   '10e10': {},\n",
       "   '50e07': {},\n",
       "   '65e06': {}},\n",
       "  'r0_030e-7': {'10e07': {},\n",
       "   '10e08': {},\n",
       "   '10e09': {},\n",
       "   '10e10': {},\n",
       "   '50e07': {},\n",
       "   '65e06': {}},\n",
       "  'r0_040e-7': {'10e07': {},\n",
       "   '10e08': {},\n",
       "   '10e09': {},\n",
       "   '10e10': {},\n",
       "   '50e07': {},\n",
       "   '65e06': {}},\n",
       "  'r0_050e-7': {'10e07': {},\n",
       "   '10e08': {},\n",
       "   '10e09': {},\n",
       "   '10e10': {},\n",
       "   '50e07': {},\n",
       "   '65e06': {}},\n",
       "  'r0_060e-7': {'10e07': {},\n",
       "   '10e08': {},\n",
       "   '10e09': {},\n",
       "   '10e10': {},\n",
       "   '50e07': {},\n",
       "   '65e06': {}},\n",
       "  'r0_070e-7': {'10e07': {},\n",
       "   '10e08': {},\n",
       "   '10e09': {},\n",
       "   '10e10': {},\n",
       "   '50e07': {},\n",
       "   '65e06': {}},\n",
       "  'r0_080e-7': {'10e07': {},\n",
       "   '10e08': {},\n",
       "   '10e09': {},\n",
       "   '10e10': {},\n",
       "   '50e07': {},\n",
       "   '65e06': {}},\n",
       "  'r0_090e-7': {'10e07': {},\n",
       "   '10e08': {},\n",
       "   '10e09': {},\n",
       "   '10e10': {},\n",
       "   '50e07': {},\n",
       "   '65e06': {}},\n",
       "  'r0_100e-7': {'10e07': {},\n",
       "   '10e08': {},\n",
       "   '10e09': {},\n",
       "   '10e10': {},\n",
       "   '50e07': {},\n",
       "   '65e06': {}},\n",
       "  'rwet': {'10e07': {},\n",
       "   '10e08': {},\n",
       "   '10e09': {},\n",
       "   '10e10': {},\n",
       "   '50e07': {},\n",
       "   '65e06': {}}}}"
      ]
     },
     "execution_count": 10,
     "metadata": {},
     "output_type": "execute_result"
    }
   ],
   "source": [
    "dct_all"
   ]
  },
  {
   "cell_type": "markdown",
   "metadata": {},
   "source": [
    "## Set up paths"
   ]
  },
  {
   "cell_type": "code",
   "execution_count": 11,
   "metadata": {},
   "outputs": [],
   "source": [
    "# Loop though all cases\n",
    "\n",
    "# First loop through groups\n",
    "## igrp is an interger number\n",
    "## sgrp is a string\n",
    "for igrp in range(len(dct_all)):\n",
    "    sgrp = list(dct_all)[igrp]\n",
    "    #print(sgrp)\n",
    "    \n",
    "    \n",
    "    # loop though all simulations types\n",
    "    ## isim is a number!\n",
    "    ## ssmin is a string\n",
    "    for itype in range(len(dct_all[sgrp])):\n",
    "        # get the name (string) of the simulation\n",
    "        stype = list(dct_all[sgrp])[itype]\n",
    "        #print(\"  \" + stype)\n",
    "        \n",
    "        \n",
    "        for icase in range(len(dct_all[sgrp][stype])):\n",
    "            scase = list(dct_all[sgrp][stype])[icase]\n",
    "            #print(\"{} / {} / {} \".format(sgrp, stype, scase))\n",
    "\n",
    "            ## put paths of output files into dct\n",
    "            # define relative output paths\n",
    "            dir_prf = os.path.join('OUTPUT', 'profiles_tot.nc')\n",
    "            dir_TS = os.path.join('OUTPUT', 'T_S')\n",
    "            dir_3d = os.path.join('OUTPUT', 'DYCOMS_MPI.nc')\n",
    "            dir_3d_fldvar = os.path.join('OUTPUT', 'DYCOMS_MPI_fldvar.nc')\n",
    "            dir_nml = os.path.join('OUTPUT', 'cm.nml')\n",
    "\n",
    "\n",
    "            # absulte paths of output files\n",
    "            idir_prf = os.path.join(nml.dir_sim, sgrp, stype, scase, dir_prf)\n",
    "            idir_TS = os.path.join(nml.dir_sim, sgrp, stype, scase, dir_TS)\n",
    "\n",
    "            idir_3d = os.path.join(nml.dir_sim, sgrp, stype, scase, dir_3d)\n",
    "            idir_3d_fldvar = os.path.join(nml.dir_sim, sgrp, stype, scase, dir_3d_fldvar)\n",
    "\n",
    "\n",
    "            idir_nml = os.path.join(nml.dir_sim, sgrp, stype, scase, dir_nml)\n",
    "\n",
    "            # write to dict\n",
    "            dct_all[sgrp][stype][scase].update({'dir_prf': idir_prf,\\\n",
    "                                                 'dir_TS':idir_TS,\\\n",
    "                                                 'dir_3d': idir_3d,\\\n",
    "                                                 'dir_nml': idir_nml,\\\n",
    "                                                 'dir_3d_fldvar': idir_3d_fldvar})"
   ]
  },
  {
   "cell_type": "markdown",
   "metadata": {},
   "source": [
    "## Set up coloring"
   ]
  },
  {
   "cell_type": "markdown",
   "metadata": {},
   "source": [
    "https://www.designwizard.com/blog/design-trends/colour-combination"
   ]
  },
  {
   "cell_type": "markdown",
   "metadata": {},
   "source": [
    "https://www.designwizard.com/blog/design-trends/colour-combination"
   ]
  },
  {
   "cell_type": "markdown",
   "metadata": {},
   "source": [
    "Deep Blue (#2460A7FF), Northern Sky (#85B3D1FF), Baby Blue (#B3C7D6FF) and Coffee (#D9B48FFF)"
   ]
  },
  {
   "cell_type": "markdown",
   "metadata": {},
   "source": [
    "Danger Red (#D9514EFF), Tap Shoe (#2A2B2DFF) and Blue Blossom (#2DA8D8FF)"
   ]
  },
  {
   "cell_type": "code",
   "execution_count": 35,
   "metadata": {},
   "outputs": [
    {
     "data": {
      "text/plain": [
       "array([0. , 0.5, 1. ])"
      ]
     },
     "execution_count": 35,
     "metadata": {},
     "output_type": "execute_result"
    }
   ],
   "source": [
    "np.linspace(0,1,3)"
   ]
  },
  {
   "cell_type": "code",
   "execution_count": 77,
   "metadata": {},
   "outputs": [],
   "source": [
    "\n",
    "# Loop though all cases\n",
    "\n",
    "# First loop through groups\n",
    "## igrp is an interger number\n",
    "## sgrp is a string\n",
    "for igrp in range(len(dct_all)):\n",
    "    sgrp = list(dct_all)[igrp]\n",
    "    #print(sgrp)\n",
    "    \n",
    "    \n",
    "    # loop though all simulations types\n",
    "    ## isim is a number!\n",
    "    ## ssmin is a string\n",
    "    if (sgrp == \"FDT\"):\n",
    "        #colors = [\"firebrick\", \"red\", \"tomato\", \"chocolate\", \"gold\"]\n",
    "        #colormap = [mpl_cls.to_rgb(i) for i in colors]\n",
    "        colors = [\"#DB773D\", \"#7D5C48\"]\n",
    "        colors = [\"chocolate\", \"orange\", \"gold\"]\n",
    "        colormap = LinearSegmentedColormap.from_list(\"mycmap\", colors)(np.linspace(0,1, len(dct_all[sgrp])))\n",
    "    if (sgrp == \"SMD\"):\n",
    "        #colors = [\"aquamarine\",\"cyan\",\"royalblue\"]\n",
    "        colors = [\"deepskyblue\", \"dodgerblue\", \"blue\", \"navy\"]\n",
    "        #colors = [\"#2176D1\", \"#98C1ED\"]\n",
    "        colormap = LinearSegmentedColormap.from_list(\"mycmap\", colors)(np.linspace(0,1, len(dct_all[sgrp])))\n",
    "    if (sgrp == \"LRD\"):\n",
    "        #colors = [\"darkviolet\", \"fuchsia\", \"lightpink\"]\n",
    "        #colors = [\"#42AD70\", \"#47D685\"]\n",
    "        colors = [\"olive\", \"limegreen\", \"lime\"]\n",
    "        colormap = LinearSegmentedColormap.from_list(\"mycmap\", colors)(np.linspace(0,1, len(dct_all[sgrp]))) \n",
    "        \n",
    "    for itype in range(len(dct_all[sgrp])):\n",
    "        # get the name (string) of the simulation\n",
    "        stype = list(dct_all[sgrp])[itype]\n",
    "        #print(\"  \" + stype)\n",
    "        \n",
    "        col_type = colormap[itype]\n",
    "        \n",
    "        # loop though cases in correct order\n",
    "        cases = list(dct_all[sgrp][stype])\n",
    "        cases_num = np.array(cases, dtype = float)\n",
    "        srt_idx = np.argsort(cases_num)\n",
    "        sort_case = [cases[i] for i in srt_idx]\n",
    "               \n",
    "        for icase in range(len(sort_case)):\n",
    "            scase = sort_case[icase]\n",
    "\n",
    "            ## chose two colors which for a case\n",
    "            # first color = saturated\n",
    "            # second color = unsaturated        \n",
    "            \n",
    "            ialpha_up= np.linspace(1,0.3, len(sort_case))[icase]\n",
    "            ialpha_dwn = np.linspace(0.3,1, len(sort_case))[icase]\n",
    "            \n",
    "            icol  = [col_type[0], col_type[1], col_type[2]]\n",
    "            \n",
    "            drk_col = scale_lightness(col_type[:3], np.linspace(1, 0.5, len(sort_case))[icase] )\n",
    "                        \n",
    "            dct_all[sgrp][stype][scase].update({\"color\": icol})\n",
    "            dct_all[sgrp][stype][scase].update({\"color_drk\": drk_col})\n",
    "            dct_all[sgrp][stype][scase].update({\"alpha_up\": ialpha_up})\n",
    "            dct_all[sgrp][stype][scase].update({\"alpha_dwn\": ialpha_dwn})\n",
    "            \n",
    "            # linewidhts\n",
    "            if (sgrp == \"SMD\"):\n",
    "                dct_all[sgrp][stype][scase].update({\"lw\":2})\n",
    "            elif (sgrp == \"LRD\"):\n",
    "                dct_all[sgrp][stype][scase].update({\"lw\":5})\n",
    "            elif (sgrp == \"FDT\"):\n",
    "                dct_all[sgrp][stype][scase].update({\"lw\":8})\n",
    "            # zorders\n",
    "            if (sgrp == \"SMD\"):\n",
    "                dct_all[sgrp][stype][scase].update({\"zord\":2})\n",
    "            elif (sgrp == \"LRD\"):\n",
    "                dct_all[sgrp][stype][scase].update({\"zord\":5})\n",
    "            elif (sgrp == \"FDT\"):\n",
    "                dct_all[sgrp][stype][scase].update({\"zord\":10})\n"
   ]
  },
  {
   "cell_type": "code",
   "execution_count": 78,
   "metadata": {},
   "outputs": [],
   "source": [
    "test = list(drk_col)"
   ]
  },
  {
   "cell_type": "markdown",
   "metadata": {},
   "source": [
    "## Check coloring"
   ]
  },
  {
   "cell_type": "code",
   "execution_count": 79,
   "metadata": {
    "tags": []
   },
   "outputs": [
    {
     "data": {
      "image/png": "[encoded data removed]",
      "text/plain": [
       "<Figure size 216x432 with 1 Axes>"
      ]
     },
     "metadata": {
      "needs_background": "light"
     },
     "output_type": "display_data"
    }
   ],
   "source": [
    "# check if coloring works\n",
    "if True:\n",
    "    plt.figure(figsize = [3, 6])\n",
    "    \n",
    "    # Loop though all cases\n",
    "\n",
    "    # First loop through groups\n",
    "    ## igrp is an interger number\n",
    "    ## sgrp is a string\n",
    "        \n",
    "    for igrp in range(len(dct_all)):\n",
    "        sgrp = list(dct_all)[igrp]\n",
    "        #print(sgrp)\n",
    "\n",
    "\n",
    "        # loop though all simulations types\n",
    "        ## isim is a number!\n",
    "        ## ssmin is a string\n",
    "        for itype in range(len(dct_all[sgrp])):\n",
    "            # get the name (string) of the simulation\n",
    "            stype = list(dct_all[sgrp])[itype]\n",
    "            #print(\"  \" + stype)\n",
    "\n",
    "\n",
    "            # loop though cases in correct order\n",
    "            cases = list(dct_all[sgrp][stype])\n",
    "            cases_num = np.array(cases, dtype = float)\n",
    "            srt_idx = np.argsort(cases_num)\n",
    "            sort_case = [cases[i] for i in srt_idx]\n",
    "\n",
    "            for icase in range(len(sort_case)):\n",
    "                scase = sort_case[icase]\n",
    "\n",
    "\n",
    "                plt.plot([1+igrp, 1.9+igrp], [10* itype+icase , 10* itype+icase],\n",
    "                         color=dct_all[sgrp][stype][scase][\"color_drk\"],\n",
    "                         alpha=dct_all[sgrp][stype][scase][\"alpha_up\"],\n",
    "                         label = \"{} / {} / {}\".format(sgrp, stype, icase))\n",
    "\n",
    "#plt.legend()"
   ]
  },
  {
   "cell_type": "code",
   "execution_count": 81,
   "metadata": {},
   "outputs": [
    {
     "data": {
      "image/png": "[encoded data removed]",
      "text/plain": [
       "<Figure size 216x432 with 1 Axes>"
      ]
     },
     "metadata": {
      "needs_background": "light"
     },
     "output_type": "display_data"
    }
   ],
   "source": [
    "# check if coloring works\n",
    "if True:\n",
    "    plt.figure(figsize = [3, 6])\n",
    "    \n",
    "    # Loop though all cases\n",
    "\n",
    "    # First loop through groups\n",
    "    ## igrp is an interger number\n",
    "    ## sgrp is a string\n",
    "        \n",
    "    for igrp in range(len(dct_all)):\n",
    "        sgrp = list(dct_all)[igrp]\n",
    "        #print(sgrp)\n",
    "\n",
    "\n",
    "        # loop though all simulations types\n",
    "        ## isim is a number!\n",
    "        ## ssmin is a string\n",
    "        for itype in range(len(dct_all[sgrp])):\n",
    "            # get the name (string) of the simulation\n",
    "            stype = list(dct_all[sgrp])[itype]\n",
    "            #print(\"  \" + stype)\n",
    "\n",
    "\n",
    "            # loop though cases in correct order\n",
    "            cases = list(dct_all[sgrp][stype])\n",
    "            cases_num = np.array(cases, dtype = float)\n",
    "            srt_idx = np.argsort(cases_num)\n",
    "            sort_case = [cases[i] for i in srt_idx]\n",
    "\n",
    "            for icase in range(len(sort_case)):\n",
    "                scase = sort_case[icase]\n",
    "\n",
    "\n",
    "                plt.plot([1+igrp, 1.9+igrp], [10* itype+icase , 10* itype+icase],\n",
    "                         color=dct_all[sgrp][stype][scase][\"color_drk\"],\n",
    "                         alpha = dct_all[sgrp][stype][scase][\"alpha_dwn\"],\n",
    "                         label = \"{} / {} / {}\".format(sgrp, stype, icase))\n",
    "\n",
    "#plt.legend()"
   ]
  },
  {
   "cell_type": "markdown",
   "metadata": {},
   "source": [
    "# Check labeling"
   ]
  },
  {
   "cell_type": "code",
   "execution_count": 20,
   "metadata": {},
   "outputs": [
    {
     "name": "stdout",
     "output_type": "stream",
     "text": [
      "(FDT) $r^d_i$ = 1.0µm\n",
      "(FDT) $r^d_i$ = 1.0µm\n",
      "(FDT) $r^d_i$ = 1.0µm\n",
      "(FDT) $r^d_i$ = 1.0µm\n",
      "(FDT) $r^d_i$ = $r^a_w$\n",
      "(FDT) $r^d_i$ = $r^a_w$\n",
      "(FDT) $r^d_i$ = $r^a_w$\n",
      "(FDT) $r^d_i$ = $r^a_w$\n",
      "(FDT) $r^d_i$ = $r^a_w$\n",
      "(FDT) $r^d_i$ = $r^a_w$\n",
      "(FDT) $r^d_i$ = $r^a_w$ (NR)\n",
      "(FDT) $r^d_i$ = $r^a_w$ (NR)\n",
      "(FDT) $r^d_i$ = $r^a_w$ (NR)\n",
      "(FDT) $r^d_i$ = $r^a_w$ (NR)\n",
      "(FDT) $r^d_i$ = $r^a_w$ (NR)\n",
      "(FDT) $r^d_i$ = $r^a_w$ (NR)\n",
      "(LRD) $r^d_i$ = 1.0µm\n",
      "(LRD) $r^d_i$ = 1.0µm\n",
      "(LRD) $r^d_i$ = 1.0µm\n",
      "(LRD) $r^d_i$ = 1.0µm\n",
      "(LRD) $r^d_i$ = 1.0µm\n",
      "(LRD) $r^d_i$ = 1.0µm\n",
      "(LRD) $r^d_i$ = 5.0µm\n",
      "(LRD) $r^d_i$ = 5.0µm\n",
      "(LRD) $r^d_i$ = 5.0µm\n",
      "(LRD) $r^d_i$ = 5.0µm\n",
      "(LRD) $r^d_i$ = 5.0µm\n",
      "(LRD) $r^d_i$ = 5.0µm\n",
      "(LRD) $r^d_i$ = 10.0µm\n",
      "(LRD) $r^d_i$ = 10.0µm\n",
      "(LRD) $r^d_i$ = 10.0µm\n",
      "(LRD) $r^d_i$ = 10.0µm\n",
      "(LRD) $r^d_i$ = 10.0µm\n",
      "(LRD) $r^d_i$ = 10.0µm\n",
      "(SMD) $r^d_i$ = 1.0µm\n",
      "(SMD) $r^d_i$ = 1.0µm\n",
      "(SMD) $r^d_i$ = 1.0µm\n",
      "(SMD) $r^d_i$ = 1.0µm\n",
      "(SMD) $r^d_i$ = 1.0µm\n",
      "(SMD) $r^d_i$ = 1.0µm\n",
      "(SMD) $r^d_i$ = 2.0µm\n",
      "(SMD) $r^d_i$ = 2.0µm\n",
      "(SMD) $r^d_i$ = 2.0µm\n",
      "(SMD) $r^d_i$ = 2.0µm\n",
      "(SMD) $r^d_i$ = 2.0µm\n",
      "(SMD) $r^d_i$ = 2.0µm\n",
      "(SMD) $r^d_i$ = 3.0µm\n",
      "(SMD) $r^d_i$ = 3.0µm\n",
      "(SMD) $r^d_i$ = 3.0µm\n",
      "(SMD) $r^d_i$ = 3.0µm\n",
      "(SMD) $r^d_i$ = 3.0µm\n",
      "(SMD) $r^d_i$ = 3.0µm\n",
      "(SMD) $r^d_i$ = 4.0µm\n",
      "(SMD) $r^d_i$ = 4.0µm\n",
      "(SMD) $r^d_i$ = 4.0µm\n",
      "(SMD) $r^d_i$ = 4.0µm\n",
      "(SMD) $r^d_i$ = 4.0µm\n",
      "(SMD) $r^d_i$ = 4.0µm\n",
      "(SMD) $r^d_i$ = 5.0µm\n",
      "(SMD) $r^d_i$ = 5.0µm\n",
      "(SMD) $r^d_i$ = 5.0µm\n",
      "(SMD) $r^d_i$ = 5.0µm\n",
      "(SMD) $r^d_i$ = 5.0µm\n",
      "(SMD) $r^d_i$ = 5.0µm\n",
      "(SMD) $r^d_i$ = 6.0µm\n",
      "(SMD) $r^d_i$ = 6.0µm\n",
      "(SMD) $r^d_i$ = 6.0µm\n",
      "(SMD) $r^d_i$ = 6.0µm\n",
      "(SMD) $r^d_i$ = 6.0µm\n",
      "(SMD) $r^d_i$ = 6.0µm\n",
      "(SMD) $r^d_i$ = 7.0µm\n",
      "(SMD) $r^d_i$ = 7.0µm\n",
      "(SMD) $r^d_i$ = 7.0µm\n",
      "(SMD) $r^d_i$ = 7.0µm\n",
      "(SMD) $r^d_i$ = 7.0µm\n",
      "(SMD) $r^d_i$ = 7.0µm\n",
      "(SMD) $r^d_i$ = 8.0µm\n",
      "(SMD) $r^d_i$ = 8.0µm\n",
      "(SMD) $r^d_i$ = 8.0µm\n",
      "(SMD) $r^d_i$ = 8.0µm\n",
      "(SMD) $r^d_i$ = 8.0µm\n",
      "(SMD) $r^d_i$ = 8.0µm\n",
      "(SMD) $r^d_i$ = 9.0µm\n",
      "(SMD) $r^d_i$ = 9.0µm\n",
      "(SMD) $r^d_i$ = 9.0µm\n",
      "(SMD) $r^d_i$ = 9.0µm\n",
      "(SMD) $r^d_i$ = 9.0µm\n",
      "(SMD) $r^d_i$ = 9.0µm\n",
      "(SMD) $r^d_i$ = 10.0µm\n",
      "(SMD) $r^d_i$ = 10.0µm\n",
      "(SMD) $r^d_i$ = 10.0µm\n",
      "(SMD) $r^d_i$ = 10.0µm\n",
      "(SMD) $r^d_i$ = 10.0µm\n",
      "(SMD) $r^d_i$ = 10.0µm\n",
      "(SMD) $r^d_i$ = $r^a_w$\n",
      "(SMD) $r^d_i$ = $r^a_w$\n",
      "(SMD) $r^d_i$ = $r^a_w$\n",
      "(SMD) $r^d_i$ = $r^a_w$\n",
      "(SMD) $r^d_i$ = $r^a_w$\n",
      "(SMD) $r^d_i$ = $r^a_w$\n"
     ]
    }
   ],
   "source": [
    "for igrp in range(len(dct_all)):\n",
    "    sgrp = list(dct_all)[igrp]\n",
    "    for itype in range(len(dct_all[sgrp])):\n",
    "        stype = list(dct_all[sgrp])[itype]    \n",
    "        for icase in range(len(dct_all[sgrp][stype])):\n",
    "            scase = list(dct_all[sgrp][stype])[icase]\n",
    "\n",
    "            \n",
    "            lbl = \"(\" + sgrp + \") \"\n",
    "            if sgrp == \"FDT\":\n",
    "                stype.split(\"_\")\n",
    "                if \"noREN\" in stype:\n",
    "                    h1 = \"$r^d_i$ = $r^a_w$ (NR)\"\n",
    "                elif \"rwet\" in stype:\n",
    "                    h1 = \"$r^d_i$ = $r^a_w$\"\n",
    "                else:\n",
    "                    h1 = \"$r^d_i$ = {0:2.1f}µm\".format(float(stype.split(\"_\")[-1])*1e6)\n",
    "\n",
    "            else:\n",
    "                if stype == \"rwet\":\n",
    "                    h1 = \"$r^d_i$ = $r^a_w$\"\n",
    "                else:\n",
    "                    h1 = \"$r^d_i$ = {0:2.1f}µm\".format(float(stype.split(\"_\")[-1])*1e6)\n",
    "\n",
    "            lbl = lbl + h1\n",
    "\n",
    "            \n",
    "            dct_all[sgrp][stype][scase].update({\"label\": lbl})"
   ]
  },
  {
   "cell_type": "markdown",
   "metadata": {},
   "source": [
    "# Load data\n",
    "\n",
    "depends on flags \n",
    "* load_TS\n",
    "* load_profile\n",
    "* load_3d"
   ]
  },
  {
   "cell_type": "code",
   "execution_count": null,
   "metadata": {},
   "outputs": [],
   "source": [
    "if False:\n",
    "    if load_TS:\n",
    "        for idct in list(dct_all):\n",
    "            for icase in dct_all[idct]:\n",
    "                # Profile Data\n",
    "\n",
    "\n",
    "                if load_TS:\n",
    "                    # T_S Data\n",
    "                    with open(dct_all[idct][icase][\"dir_TS\"]) as f:\n",
    "                        raw = f.read()\n",
    "                    lines = raw.split(\"\\n\")\n",
    "                    header = lines[0][1:].split()\n",
    "                    data = np.array([[float(i) for i in (l.split())]\n",
    "                                     for l in lines[1:-1]])\n",
    "                    df = pd.DataFrame(data[:, 1:], index=data[:, 0])\n",
    "                    df.columns = header[1:]\n",
    "\n",
    "                    # update dict\n",
    "                    dct_all[idct][icase].update({\"T_S\": df})\n",
    "\n",
    "                if load_3d:  \n",
    "                    ds_3d = xr.open_dataset(dct_all[idct][icase][\"dir_3d\"])\n",
    "                    dct_all[idct][icase].update({\"data_3d\": ds_3d})\n",
    "\n",
    "                if load_3d_fldvar:\n",
    "                    ds_fldvar = xr.open_dataset(dct_all[idct][icase][\"dir_3d_fldvar\"])\n",
    "\n",
    "                    # update dict\n",
    "                    dct_all[idct][icase].update({\"data_3d_fldvar\": ds_fldvar})"
   ]
  },
  {
   "cell_type": "markdown",
   "metadata": {},
   "source": [
    "# Debugging"
   ]
  },
  {
   "cell_type": "raw",
   "metadata": {},
   "source": [
    "if False:\n",
    "    x, y, c = zip(*np.random.rand(30, 3)*4-2)\n",
    "\n",
    "    cvals = [-2., -1, 2]\n",
    "\n",
    "    colors = [matplotlib.colors.hsv_to_rgb([isim/len(sim_types), 1, 0.5]),\n",
    "              matplotlib.colors.hsv_to_rgb([isim/len(sim_types), 1, 0.2])]\n",
    "\n",
    "    cmap1 = matplotlib.colors.LinearSegmentedColormap.from_list(\n",
    "        \"mycmap\", colors)\n",
    "\n",
    "    plt.scatter(x, y, c=c, cmap=cmap1)\n",
    "    plt.colorbar()\n",
    "    plt.show()"
   ]
  },
  {
   "cell_type": "raw",
   "metadata": {},
   "source": [
    "if False:\n",
    "    c = np.arange(0,0.99,0.1)\n",
    "    #plt.scatter([0]*len(c),c,c = c, cmap = cmap1)\n",
    "    for ic in c:\n",
    "        plt.plot([1,2],[ic,ic], color = cmap1(ic))\n"
   ]
  },
  {
   "cell_type": "code",
   "execution_count": null,
   "metadata": {},
   "outputs": [],
   "source": []
  },
  {
   "cell_type": "code",
   "execution_count": null,
   "metadata": {},
   "outputs": [],
   "source": []
  }
 ],
 "metadata": {
  "kernelspec": {
   "display_name": "Py383",
   "language": "python",
   "name": "py383"
  },
  "language_info": {
   "codemirror_mode": {
    "name": "ipython",
    "version": 3
   },
   "file_extension": ".py",
   "mimetype": "text/x-python",
   "name": "python",
   "nbconvert_exporter": "python",
   "pygments_lexer": "ipython3",
   "version": "3.8.3"
  },
  "toc": {
   "base_numbering": 1,
   "nav_menu": {},
   "number_sections": true,
   "sideBar": true,
   "skip_h1_title": false,
   "title_cell": "Table of Contents",
   "title_sidebar": "Contents",
   "toc_cell": false,
   "toc_position": {},
   "toc_section_display": true,
   "toc_window_display": false
  },
  "varInspector": {
   "cols": {
    "lenName": 16,
    "lenType": 16,
    "lenVar": 40
   },
   "kernels_config": {
    "python": {
     "delete_cmd_postfix": "",
     "delete_cmd_prefix": "del ",
     "library": "var_list.py",
     "varRefreshCmd": "print(var_dic_list())"
    },
    "r": {
     "delete_cmd_postfix": ") ",
     "delete_cmd_prefix": "rm(",
     "library": "var_list.r",
     "varRefreshCmd": "cat(var_dic_list()) "
    }
   },
   "types_to_exclude": [
    "module",
    "function",
    "builtin_function_or_method",
    "instance",
    "_Feature"
   ],
   "window_display": false
  }
 },
 "nbformat": 4,
 "nbformat_minor": 4
}
