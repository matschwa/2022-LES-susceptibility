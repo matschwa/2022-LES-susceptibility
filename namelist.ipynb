{
 "cells": [
  {
   "cell_type": "markdown",
   "metadata": {},
   "source": [
    "# namelist for DYCOMS_lim_DQC susceptiblity\n",
    "\n",
    "<div class=\"alert alert-block alert-warning\">\n",
    "<b>INFO:</b> Here onyl simulations with the limiting DQC are considered.</div>"
   ]
  },
  {
   "cell_type": "code",
   "execution_count": 1,
   "metadata": {},
   "outputs": [],
   "source": [
    "import os"
   ]
  },
  {
   "cell_type": "code",
   "execution_count": 7,
   "metadata": {},
   "outputs": [],
   "source": [
    "# directory of the simulations\n",
    "dir_sim = '/home/jovyan/work/data/DYCOMS_limDQC_AO_LTS/'\n",
    "\n",
    "# directpry for output\n",
    "dir_output = '/home/jovyan/work/output/'\n",
    "\n"
   ]
  },
  {
   "cell_type": "code",
   "execution_count": 8,
   "metadata": {},
   "outputs": [
    {
     "name": "stdout",
     "output_type": "stream",
     "text": [
      "Path not existing: /home/jovyan/work/output/\n",
      "Path created\n",
      "\n",
      "\n"
     ]
    }
   ],
   "source": [
    "for ipath in [dir_output,]:\n",
    "    if not os.path.exists(ipath):\n",
    "        print(\"Path not existing: {}\".format(ipath))\n",
    "        os.makedirs(ipath)\n",
    "        print(\"Path created\\n\\n\")"
   ]
  },
  {
   "cell_type": "code",
   "execution_count": null,
   "metadata": {},
   "outputs": [],
   "source": [
    "# time boundries for avarage profile\n",
    "# only take into account 15min\n",
    "# add/subtract 2sectonds to get close output timesteps\n",
    "bd_time = (21000-2)-3600, 21600+2"
   ]
  },
  {
   "cell_type": "code",
   "execution_count": null,
   "metadata": {},
   "outputs": [],
   "source": [
    "qthresh = 1e-6\n",
    "Ncthresh = 10"
   ]
  },
  {
   "cell_type": "code",
   "execution_count": null,
   "metadata": {},
   "outputs": [],
   "source": [
    "# minimum and maximum height to consider for below cloud averages\n",
    "z_max = 400\n",
    "z_min = 300"
   ]
  }
 ],
 "metadata": {
  "kernelspec": {
   "display_name": "Python 3 (ipykernel)",
   "language": "python",
   "name": "python3"
  },
  "language_info": {
   "codemirror_mode": {
    "name": "ipython",
    "version": 3
   },
   "file_extension": ".py",
   "mimetype": "text/x-python",
   "name": "python",
   "nbconvert_exporter": "python",
   "pygments_lexer": "ipython3",
   "version": "3.9.10"
  },
  "toc": {
   "base_numbering": 1,
   "nav_menu": {},
   "number_sections": true,
   "sideBar": true,
   "skip_h1_title": false,
   "title_cell": "Table of Contents",
   "title_sidebar": "Contents",
   "toc_cell": false,
   "toc_position": {},
   "toc_section_display": true,
   "toc_window_display": false
  },
  "varInspector": {
   "cols": {
    "lenName": 16,
    "lenType": 16,
    "lenVar": 40
   },
   "kernels_config": {
    "python": {
     "delete_cmd_postfix": "",
     "delete_cmd_prefix": "del ",
     "library": "var_list.py",
     "varRefreshCmd": "print(var_dic_list())"
    },
    "r": {
     "delete_cmd_postfix": ") ",
     "delete_cmd_prefix": "rm(",
     "library": "var_list.r",
     "varRefreshCmd": "cat(var_dic_list()) "
    }
   },
   "types_to_exclude": [
    "module",
    "function",
    "builtin_function_or_method",
    "instance",
    "_Feature"
   ],
   "window_display": false
  }
 },
 "nbformat": 4,
 "nbformat_minor": 4
}
