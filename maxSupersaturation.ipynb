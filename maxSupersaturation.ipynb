{
 "cells": [
  {
   "cell_type": "markdown",
   "metadata": {},
   "source": [
    "##### <span style=\"font-family:Arial; font-weight: 800; font-size:25px;\"> Histogramms for max supersaturation !</span>\n"
   ]
  },
  {
   "cell_type": "markdown",
   "metadata": {},
   "source": [
    "# Preperations"
   ]
  },
  {
   "cell_type": "markdown",
   "metadata": {},
   "source": [
    "## Load packages & define output paths"
   ]
  },
  {
   "cell_type": "code",
   "execution_count": 1,
   "metadata": {
    "tags": []
   },
   "outputs": [],
   "source": [
    "import os\n",
    "import sys\n",
    "import numpy as np\n",
    "import pandas as pd\n",
    "import xarray as xr\n",
    "import netCDF4\n",
    "\n",
    "import matplotlib as mpl\n",
    "import matplotlib.pyplot as plt\n",
    "from matplotlib.ticker import FormatStrFormatter\n",
    "\n",
    "import scipy.stats\n",
    "\n",
    "import pickle\n"
   ]
  },
  {
   "cell_type": "code",
   "execution_count": 2,
   "metadata": {},
   "outputs": [],
   "source": [
    "from matplotlib import ticker"
   ]
  },
  {
   "cell_type": "markdown",
   "metadata": {},
   "source": [
    "### some user functions and namelist parameters"
   ]
  },
  {
   "cell_type": "code",
   "execution_count": 3,
   "metadata": {},
   "outputs": [],
   "source": [
    "# import own functions\n",
    "from importnb import Notebook\n",
    "\n",
    "with Notebook(): \n",
    "        import functions as fkts\n",
    "        import namelist as nml\n",
    "        from set_up_case_dict import *"
   ]
  },
  {
   "cell_type": "code",
   "execution_count": 4,
   "metadata": {},
   "outputs": [
    {
     "data": {
      "text/plain": [
       "(17398, 21602)"
      ]
     },
     "execution_count": 4,
     "metadata": {},
     "output_type": "execute_result"
    }
   ],
   "source": [
    "nml.bd_time"
   ]
  },
  {
   "cell_type": "markdown",
   "metadata": {},
   "source": [
    "### some constants"
   ]
  },
  {
   "cell_type": "code",
   "execution_count": 5,
   "metadata": {},
   "outputs": [],
   "source": [
    "savefigs = False"
   ]
  },
  {
   "cell_type": "code",
   "execution_count": 6,
   "metadata": {
    "tags": []
   },
   "outputs": [
    {
     "data": {
      "text/plain": [
       "['FDT', 'LRD', 'SMD']"
      ]
     },
     "execution_count": 6,
     "metadata": {},
     "output_type": "execute_result"
    }
   ],
   "source": [
    "list(dct_all)"
   ]
  },
  {
   "cell_type": "markdown",
   "metadata": {
    "tags": []
   },
   "source": [
    "# Extract maximum supersaturation\n"
   ]
  },
  {
   "cell_type": "markdown",
   "metadata": {},
   "source": [
    "## All data (up- and downfrafts)"
   ]
  },
  {
   "cell_type": "markdown",
   "metadata": {},
   "source": [
    "### Calculate mean values (based on 3d output) for all data"
   ]
  },
  {
   "cell_type": "code",
   "execution_count": 12,
   "metadata": {},
   "outputs": [],
   "source": [
    "def fkt_calc_3d_stats(da, z_wg):\n",
    "    \"\"\"\n",
    "    calculate mean, standard deviation, 25 & 75 percentile\n",
    "    \n",
    "    in:\n",
    "        da ... xarray\n",
    "    z_wg:\n",
    "        z_weights\n",
    "        \n",
    "    \"\"\"\n",
    "    wgAVG = da.weighted(z_wg).mean()\n",
    "    \n",
    "    da_wg = da.where(da.Z[z_wg > 0])\n",
    "       \n",
    "    std   = da_wg.std()\n",
    "    qu25  = da_wg.quantile(0.25)\n",
    "    # use the 50th quantile as proxiy for median \n",
    "    ## (median not possible in weighed array)\n",
    "    qu50  = da_wg.quantile(0.50) \n",
    "    qu75  = da_wg.quantile(0.75)\n",
    "    \n",
    "    qu01  = da_wg.quantile(0.01)\n",
    "    qu99  = da_wg.quantile(0.99)\n",
    "    \n",
    "    IQR = qu75 - qu25\n",
    "    # get whiskers (for boxplot)\n",
    "    whisker_lo = qu25 - 1.5 *IQR\n",
    "    whisker_hi = qu75 + 1.5 *IQR\n",
    "    dct_istat = {\"means3d\": wgAVG.data,\\\n",
    "                 \"std3d\": std.data,\\\n",
    "                 \"qu25\": qu25.data,\\\n",
    "                 \"qu50\": qu50.data,\\\n",
    "                 \"qu75\": qu75.data,\\\n",
    "                 \"qu01\": qu01.data,\\\n",
    "                 \"qu99\": qu99.data\n",
    "                }\n",
    "    \n",
    "    return dct_istat"
   ]
  },
  {
   "cell_type": "code",
   "execution_count": 13,
   "metadata": {},
   "outputs": [],
   "source": [
    "def fkt_calc_3d_means(dir_nc):\n",
    "\n",
    "    ## select case\n",
    "    #ids_all = xr.open_dataset(dir_nc)\n",
    "    with xr.open_dataset(dir_nc) as ids_all:\n",
    "    \n",
    "        # subset time and calculate time averave\n",
    "        time_idx  = (ids_all.time >= nml.bd_time[0]) &\\\n",
    "                    (ids_all.time <= nml.bd_time[1])\n",
    "        \n",
    "        if not np.any(time_idx):\n",
    "            time_idx  = (ids_all.time >=ids_all.time[-1]-3600/2) &\\\n",
    "                        (ids_all.time <=  ids_all.time[-1])\n",
    "            print(\"WARNING: chosen time not available! Using last 30min of simulation\")\n",
    "                \n",
    "                \n",
    "        ids_sub = ids_all.isel(time = time_idx )\n",
    "        # calculate the distance between the grid boxes\n",
    "        z_bd = ids_all[\"Z_BD\"]\n",
    "\n",
    "        # calculate z weights by calculating the height of the grid boxes\n",
    "        z_weights = z_bd[:,1] - z_bd[:,0]\n",
    "\n",
    "        #### select only some variables (makes computation quicker)\n",
    "        ids_sub_vars = ids_sub[[\"RH\", \"W\"]]\n",
    "\n",
    "\n",
    "        ## supersaturated pixels only\n",
    "        ids_sub_vars_ss = ids_sub_vars.where(ids_sub[\"RH\"] >= 100)\n",
    "        # get number of px with RH>100\n",
    "        frct_obs = ((ids_sub[\"RH\"] >= 100).sum() / (ids_sub[\"RH\"].size)).data\n",
    "        \n",
    "        # initalize return dict\n",
    "        icase_stats = {}\n",
    "        \n",
    "        ihelp = fkt_calc_3d_stats(da = ids_sub_vars_ss[\"RH\"], z_wg = z_weights)\n",
    "        ihelp.update({\"RH_FRACTobs\":frct_obs})\n",
    "        \n",
    "        # in supersaturation in saturated pixels\n",
    "        icase_stats.update({\"maxS_saturated\":ihelp})   \n",
    "\n",
    "\n",
    "    return icase_stats"
   ]
  },
  {
   "cell_type": "code",
   "execution_count": 14,
   "metadata": {},
   "outputs": [],
   "source": [
    "# create empty dict to store stats\n",
    "dct_stats = {}\n",
    "\n",
    "for sgrp in dct_all:\n",
    "    itype_dict = {}\n",
    "    for stype in dct_all[sgrp]:        \n",
    "        cases_dict = {}\n",
    "        \n",
    "        for scase in dct_all[sgrp][stype]:\n",
    "            cases_dict.update({scase:{}})\n",
    "        \n",
    "        itype_dict.update({stype:cases_dict}) \n",
    "        \n",
    "    dct_stats.update({sgrp:itype_dict})\n"
   ]
  },
  {
   "cell_type": "code",
   "execution_count": 15,
   "metadata": {
    "tags": []
   },
   "outputs": [
    {
     "name": "stdout",
     "output_type": "stream",
     "text": [
      "FDT/dt_1e-1_r0_1e-6/10e07\n",
      "FDT/dt_1e-1_r0_1e-6/10e08\n",
      "FDT/dt_1e-1_r0_1e-6/10e09\n",
      "FDT/dt_1e-1_r0_1e-6/10e10\n",
      "FDT/dt_1e-1_r0_1e-6/65e06\n",
      "FDT/dt_1e-1_r0_rwet/10e07\n",
      "FDT/dt_1e-1_r0_rwet/10e08\n",
      "FDT/dt_1e-1_r0_rwet/10e09\n",
      "FDT/dt_1e-1_r0_rwet/10e10\n",
      "FDT/dt_1e-1_r0_rwet/50e07\n",
      "FDT/dt_1e-1_r0_rwet/65e06\n",
      "FDT/dt_1e-1_r0_rwet_noREN/10e07\n",
      "FDT/dt_1e-1_r0_rwet_noREN/10e08\n",
      "FDT/dt_1e-1_r0_rwet_noREN/10e09\n",
      "FDT/dt_1e-1_r0_rwet_noREN/10e10\n",
      "FDT/dt_1e-1_r0_rwet_noREN/50e07\n",
      "FDT/dt_1e-1_r0_rwet_noREN/65e06\n",
      "LRD/r0_01e-06/10e07\n",
      "LRD/r0_01e-06/10e08\n",
      "LRD/r0_01e-06/10e09\n",
      "LRD/r0_01e-06/10e10\n",
      "LRD/r0_01e-06/50e07\n",
      "LRD/r0_01e-06/65e06\n",
      "LRD/r0_05e-06/10e07\n",
      "LRD/r0_05e-06/10e08\n",
      "LRD/r0_05e-06/10e09\n",
      "LRD/r0_05e-06/10e10\n",
      "LRD/r0_05e-06/50e07\n",
      "LRD/r0_05e-06/65e06\n",
      "LRD/r0_10e-06/10e07\n",
      "LRD/r0_10e-06/10e08\n",
      "LRD/r0_10e-06/10e09\n",
      "LRD/r0_10e-06/10e10\n",
      "LRD/r0_10e-06/50e07\n",
      "LRD/r0_10e-06/65e06\n",
      "SMD/r0_010e-7/10e07\n",
      "SMD/r0_010e-7/10e08\n",
      "SMD/r0_010e-7/10e09\n",
      "SMD/r0_010e-7/10e10\n",
      "SMD/r0_010e-7/50e07\n",
      "SMD/r0_010e-7/65e06\n",
      "SMD/r0_020e-7/10e07\n",
      "SMD/r0_020e-7/10e08\n",
      "SMD/r0_020e-7/10e09\n",
      "SMD/r0_020e-7/10e10\n",
      "SMD/r0_020e-7/50e07\n",
      "SMD/r0_020e-7/65e06\n",
      "SMD/r0_030e-7/10e07\n",
      "SMD/r0_030e-7/10e08\n",
      "SMD/r0_030e-7/10e09\n",
      "SMD/r0_030e-7/10e10\n",
      "SMD/r0_030e-7/50e07\n",
      "SMD/r0_030e-7/65e06\n",
      "SMD/r0_040e-7/10e07\n",
      "SMD/r0_040e-7/10e08\n",
      "SMD/r0_040e-7/10e09\n",
      "SMD/r0_040e-7/10e10\n",
      "SMD/r0_040e-7/50e07\n",
      "SMD/r0_040e-7/65e06\n",
      "SMD/r0_050e-7/10e07\n",
      "SMD/r0_050e-7/10e08\n",
      "SMD/r0_050e-7/10e09\n",
      "SMD/r0_050e-7/10e10\n",
      "SMD/r0_050e-7/50e07\n",
      "SMD/r0_050e-7/65e06\n",
      "SMD/r0_060e-7/10e07\n",
      "SMD/r0_060e-7/10e08\n",
      "SMD/r0_060e-7/10e09\n",
      "SMD/r0_060e-7/10e10\n",
      "SMD/r0_060e-7/50e07\n",
      "SMD/r0_060e-7/65e06\n",
      "SMD/r0_070e-7/10e07\n",
      "SMD/r0_070e-7/10e08\n",
      "SMD/r0_070e-7/10e09\n",
      "SMD/r0_070e-7/10e10\n",
      "SMD/r0_070e-7/50e07\n",
      "SMD/r0_070e-7/65e06\n",
      "SMD/r0_080e-7/10e07\n",
      "SMD/r0_080e-7/10e08\n",
      "SMD/r0_080e-7/10e09\n",
      "SMD/r0_080e-7/10e10\n",
      "SMD/r0_080e-7/50e07\n",
      "SMD/r0_080e-7/65e06\n",
      "SMD/r0_090e-7/10e07\n",
      "SMD/r0_090e-7/10e08\n",
      "SMD/r0_090e-7/10e09\n",
      "SMD/r0_090e-7/10e10\n",
      "SMD/r0_090e-7/50e07\n",
      "SMD/r0_090e-7/65e06\n",
      "SMD/r0_100e-7/10e07\n",
      "SMD/r0_100e-7/10e08\n",
      "SMD/r0_100e-7/10e09\n",
      "SMD/r0_100e-7/10e10\n",
      "SMD/r0_100e-7/50e07\n",
      "SMD/r0_100e-7/65e06\n",
      "SMD/rwet/10e07\n",
      "SMD/rwet/10e08\n",
      "SMD/rwet/10e09\n",
      "SMD/rwet/10e10\n",
      "SMD/rwet/50e07\n",
      "SMD/rwet/65e06\n"
     ]
    }
   ],
   "source": [
    "# check out maximum supersaturation for saturated regions\n",
    "for sgrp in list(dct_all):\n",
    "    for stype in list(dct_all[sgrp]):\n",
    "        \n",
    "\n",
    "        # loop through all cases\n",
    "        for icase in range(len(dct_all[sgrp][stype])):\n",
    "        #for icase in range(1):\n",
    "            scase = sorted(list(dct_all[sgrp][stype]))[icase]\n",
    "            print(sgrp, stype, scase, sep = \"/\")\n",
    "\n",
    "\n",
    "            ## calculate the statistics\n",
    "            icase_stats = fkt_calc_3d_means(dir_nc = dct_all[sgrp][stype][scase][\"dir_3d\"])\n",
    "\n",
    "            ####### Max supersaturation\n",
    "            dct_stats[sgrp][stype][scase] = icase_stats[\"maxS_saturated\"]"
   ]
  },
  {
   "cell_type": "code",
   "execution_count": 16,
   "metadata": {},
   "outputs": [
    {
     "name": "stdout",
     "output_type": "stream",
     "text": [
      "Done\n"
     ]
    }
   ],
   "source": [
    "print(\"Done\")"
   ]
  },
  {
   "cell_type": "markdown",
   "metadata": {},
   "source": [
    "#### plot based on 3d data"
   ]
  },
  {
   "cell_type": "code",
   "execution_count": 17,
   "metadata": {},
   "outputs": [],
   "source": [
    "unq_scase = []\n",
    "unq_stype = []\n",
    "for sgrp in dct_all:\n",
    "    for stype in dct_all[sgrp]:\n",
    "        if stype not in unq_stype:\n",
    "            unq_stype.append(stype)\n",
    "        for scase in dct_all[sgrp][stype]:\n",
    "            if scase not in unq_scase:\n",
    "                unq_scase.append(scase)"
   ]
  },
  {
   "cell_type": "code",
   "execution_count": 18,
   "metadata": {},
   "outputs": [],
   "source": [
    "unq_scase = [unq_scase[i] for i in np.argsort(np.array(unq_scase, dtype = float))]"
   ]
  },
  {
   "cell_type": "code",
   "execution_count": 19,
   "metadata": {},
   "outputs": [
    {
     "data": {
      "text/plain": [
       "['65e06', '10e07', '50e07', '10e08', '10e09', '10e10']"
      ]
     },
     "execution_count": 19,
     "metadata": {},
     "output_type": "execute_result"
    }
   ],
   "source": [
    "unq_scase"
   ]
  },
  {
   "cell_type": "code",
   "execution_count": 20,
   "metadata": {},
   "outputs": [
    {
     "data": {
      "text/plain": [
       "['dt_1e-1_r0_1e-6',\n",
       " 'dt_1e-1_r0_rwet',\n",
       " 'dt_1e-1_r0_rwet_noREN',\n",
       " 'r0_01e-06',\n",
       " 'r0_05e-06',\n",
       " 'r0_10e-06',\n",
       " 'r0_010e-7',\n",
       " 'r0_020e-7',\n",
       " 'r0_030e-7',\n",
       " 'r0_040e-7',\n",
       " 'r0_050e-7',\n",
       " 'r0_060e-7',\n",
       " 'r0_070e-7',\n",
       " 'r0_080e-7',\n",
       " 'r0_090e-7',\n",
       " 'r0_100e-7',\n",
       " 'rwet']"
      ]
     },
     "execution_count": 20,
     "metadata": {},
     "output_type": "execute_result"
    }
   ],
   "source": [
    "unq_stype"
   ]
  },
  {
   "cell_type": "code",
   "execution_count": 21,
   "metadata": {},
   "outputs": [
    {
     "data": {
      "text/plain": [
       "['65e06', '10e07', '50e07', '10e08', '10e09', '10e10']"
      ]
     },
     "execution_count": 21,
     "metadata": {},
     "output_type": "execute_result"
    }
   ],
   "source": [
    "unq_scase"
   ]
  },
  {
   "cell_type": "code",
   "execution_count": 22,
   "metadata": {},
   "outputs": [],
   "source": [
    "# set list of unique cases manuall\n",
    "# (dont plot the rest)\n",
    "unq_scase = ['65e06', '10e08', '10e10']"
   ]
  },
  {
   "cell_type": "code",
   "execution_count": 23,
   "metadata": {},
   "outputs": [
    {
     "data": {
      "text/plain": [
       "(([<matplotlib.axis.YTick at 0x7f3495374f70>,\n",
       "   <matplotlib.axis.YTick at 0x7f34953747f0>,\n",
       "   <matplotlib.axis.YTick at 0x7f347eb4d580>,\n",
       "   <matplotlib.axis.YTick at 0x7f3495331ca0>,\n",
       "   <matplotlib.axis.YTick at 0x7f3495345430>,\n",
       "   <matplotlib.axis.YTick at 0x7f3495345b80>,\n",
       "   <matplotlib.axis.YTick at 0x7f3495345820>,\n",
       "   <matplotlib.axis.YTick at 0x7f34953491f0>,\n",
       "   <matplotlib.axis.YTick at 0x7f3495349940>,\n",
       "   <matplotlib.axis.YTick at 0x7f348d2ce0d0>],\n",
       "  [Text(0, 0, '0'),\n",
       "   Text(0, 1, '1'),\n",
       "   Text(0, 2, '2'),\n",
       "   Text(0, 3, '3'),\n",
       "   Text(0, 4, '4'),\n",
       "   Text(0, 5, '5'),\n",
       "   Text(0, 6, '6'),\n",
       "   Text(0, 7, '7'),\n",
       "   Text(0, 8, '8'),\n",
       "   Text(0, 9, '9')]),)"
      ]
     },
     "execution_count": 23,
     "metadata": {},
     "output_type": "execute_result"
    },
    {
     "data": {
      "image/png": "[encoded data removed]",
      "text/plain": [
       "<Figure size 432x288 with 1 Axes>"
      ]
     },
     "metadata": {
      "needs_background": "light"
     },
     "output_type": "display_data"
    }
   ],
   "source": [
    "\n",
    "\n",
    "item = {}\n",
    "\n",
    "item[\"label\"] = 'box' # not required\n",
    "item[\"mean\"] = 5 # not required\n",
    "item[\"med\"] = 5.5\n",
    "item[\"q1\"] = 3.5\n",
    "item[\"q3\"] = 7.5\n",
    "#item[\"cilo\"] = 5.3 # not required\n",
    "#item[\"cihi\"] = 5.7 # not required\n",
    "item[\"whislo\"] = 2.0 # required\n",
    "item[\"whishi\"] = 8.0 # required\n",
    "item[\"fliers\"] = [] # required if showfliers=True\n",
    "\n",
    "stats = [item]\n",
    "\n",
    "fig, axes = plt.subplots(1, 1)\n",
    "axes.bxp(stats)\n",
    "axes.set_title('Default')\n",
    "y_axis = [0, 1, 2, 3, 4, 5, 6, 7, 8, 9]\n",
    "y_values = [\"0\", \"1\", \"2\", \"3\", \"4\", \"5\", \"6\", \"7\", \"8\", \"9\"]\n",
    "plt.yticks(y_axis, y_values),\n"
   ]
  },
  {
   "cell_type": "code",
   "execution_count": 24,
   "metadata": {},
   "outputs": [
    {
     "data": {
      "text/plain": [
       "'(SMD) $r^d_i$ = $r^a_w$'"
      ]
     },
     "execution_count": 24,
     "metadata": {},
     "output_type": "execute_result"
    }
   ],
   "source": [
    "dct_all[sgrp][stype][scase][\"label\"]"
   ]
  },
  {
   "cell_type": "code",
   "execution_count": 26,
   "metadata": {},
   "outputs": [],
   "source": [
    "## create boxplot statistics\n",
    "\n",
    "# create a dict to store data\n",
    "dct_bx = {}\n",
    "dct_bx_lbl = {}\n",
    "dct_bx_col = {}\n",
    "for scase in unq_scase:\n",
    "    dct_bx.update({scase:[]})\n",
    "    dct_bx_lbl.update({scase:[]})\n",
    "    dct_bx_col.update({scase:[]})\n",
    "    \n",
    "for sgrp in dct_all:\n",
    "    for itype in range(len(dct_all[sgrp])):\n",
    "        stype = list(dct_all[sgrp])[itype]\n",
    "        idx_stype = np.where(np.array(unq_stype) == stype)[0][0]\n",
    "        \n",
    "        for scase in unq_scase:\n",
    "            if (sgrp+stype+scase == \"FDTdt_1e-2_r0_1e-665e06\"):\n",
    "                continue\n",
    "\n",
    "            item = {}\n",
    "\n",
    "            item[\"nr_obs\"] = dct_stats[sgrp][stype][scase][\"RH_FRACTobs\"]\n",
    "            item[\"label\"] = dct_all[sgrp][stype][scase][\"label\"]\n",
    "            item[\"med\"] = (dct_stats[sgrp][stype][scase][\"qu50\"]-100).flatten()\n",
    "            item[\"q1\"] = (dct_stats[sgrp][stype][scase][\"qu75\"]-100).flatten()\n",
    "            item[\"q3\"] = (dct_stats[sgrp][stype][scase][\"qu25\"]-100).flatten()\n",
    "            #item[\"cilo\"] = 5.3 # not required\n",
    "            #item[\"cihi\"] = 5.7 # not required\n",
    "            item[\"whislo\"] = (dct_stats[sgrp][stype][scase][\"qu01\"]-100).flatten() # required\n",
    "            item[\"whishi\"] = (dct_stats[sgrp][stype][scase][\"qu99\"]-100).flatten() # required\n",
    "            item[\"fliers\"] = [] # required if showfliers=True\n",
    "\n",
    "            dct_bx[scase].append(item)\n",
    "            dct_bx_col[scase].append(dct_all[sgrp][stype][scase][\"color\"])\n",
    "            dct_bx_lbl[scase].append(dct_all[sgrp][stype][scase][\"label\"])"
   ]
  },
  {
   "cell_type": "code",
   "execution_count": 27,
   "metadata": {
    "tags": []
   },
   "outputs": [
    {
     "name": "stderr",
     "output_type": "stream",
     "text": [
      "/opt/conda/lib/python3.9/site-packages/numpy/lib/shape_base.py:652: VisibleDeprecationWarning: Creating an ndarray from ragged nested sequences (which is a list-or-tuple of lists-or-tuples-or ndarrays with different lengths or shapes) is deprecated. If you meant to do this, you must specify 'dtype=object' when creating the ndarray.\n",
      "  arr = asanyarray(v)\n",
      "/opt/conda/lib/python3.9/site-packages/numpy/lib/shape_base.py:652: VisibleDeprecationWarning: Creating an ndarray from ragged nested sequences (which is a list-or-tuple of lists-or-tuples-or ndarrays with different lengths or shapes) is deprecated. If you meant to do this, you must specify 'dtype=object' when creating the ndarray.\n",
      "  arr = asanyarray(v)\n",
      "/opt/conda/lib/python3.9/site-packages/numpy/lib/shape_base.py:652: VisibleDeprecationWarning: Creating an ndarray from ragged nested sequences (which is a list-or-tuple of lists-or-tuples-or ndarrays with different lengths or shapes) is deprecated. If you meant to do this, you must specify 'dtype=object' when creating the ndarray.\n",
      "  arr = asanyarray(v)\n",
      "/opt/conda/lib/python3.9/site-packages/numpy/lib/shape_base.py:652: VisibleDeprecationWarning: Creating an ndarray from ragged nested sequences (which is a list-or-tuple of lists-or-tuples-or ndarrays with different lengths or shapes) is deprecated. If you meant to do this, you must specify 'dtype=object' when creating the ndarray.\n",
      "  arr = asanyarray(v)\n",
      "/opt/conda/lib/python3.9/site-packages/numpy/lib/shape_base.py:652: VisibleDeprecationWarning: Creating an ndarray from ragged nested sequences (which is a list-or-tuple of lists-or-tuples-or ndarrays with different lengths or shapes) is deprecated. If you meant to do this, you must specify 'dtype=object' when creating the ndarray.\n",
      "  arr = asanyarray(v)\n",
      "/opt/conda/lib/python3.9/site-packages/numpy/lib/shape_base.py:652: VisibleDeprecationWarning: Creating an ndarray from ragged nested sequences (which is a list-or-tuple of lists-or-tuples-or ndarrays with different lengths or shapes) is deprecated. If you meant to do this, you must specify 'dtype=object' when creating the ndarray.\n",
      "  arr = asanyarray(v)\n",
      "/opt/conda/lib/python3.9/site-packages/numpy/lib/shape_base.py:652: VisibleDeprecationWarning: Creating an ndarray from ragged nested sequences (which is a list-or-tuple of lists-or-tuples-or ndarrays with different lengths or shapes) is deprecated. If you meant to do this, you must specify 'dtype=object' when creating the ndarray.\n",
      "  arr = asanyarray(v)\n",
      "/opt/conda/lib/python3.9/site-packages/numpy/lib/shape_base.py:652: VisibleDeprecationWarning: Creating an ndarray from ragged nested sequences (which is a list-or-tuple of lists-or-tuples-or ndarrays with different lengths or shapes) is deprecated. If you meant to do this, you must specify 'dtype=object' when creating the ndarray.\n",
      "  arr = asanyarray(v)\n",
      "/opt/conda/lib/python3.9/site-packages/numpy/lib/shape_base.py:652: VisibleDeprecationWarning: Creating an ndarray from ragged nested sequences (which is a list-or-tuple of lists-or-tuples-or ndarrays with different lengths or shapes) is deprecated. If you meant to do this, you must specify 'dtype=object' when creating the ndarray.\n",
      "  arr = asanyarray(v)\n",
      "/opt/conda/lib/python3.9/site-packages/numpy/lib/shape_base.py:652: VisibleDeprecationWarning: Creating an ndarray from ragged nested sequences (which is a list-or-tuple of lists-or-tuples-or ndarrays with different lengths or shapes) is deprecated. If you meant to do this, you must specify 'dtype=object' when creating the ndarray.\n",
      "  arr = asanyarray(v)\n",
      "/opt/conda/lib/python3.9/site-packages/numpy/lib/shape_base.py:652: VisibleDeprecationWarning: Creating an ndarray from ragged nested sequences (which is a list-or-tuple of lists-or-tuples-or ndarrays with different lengths or shapes) is deprecated. If you meant to do this, you must specify 'dtype=object' when creating the ndarray.\n",
      "  arr = asanyarray(v)\n",
      "/opt/conda/lib/python3.9/site-packages/numpy/lib/shape_base.py:652: VisibleDeprecationWarning: Creating an ndarray from ragged nested sequences (which is a list-or-tuple of lists-or-tuples-or ndarrays with different lengths or shapes) is deprecated. If you meant to do this, you must specify 'dtype=object' when creating the ndarray.\n",
      "  arr = asanyarray(v)\n",
      "/opt/conda/lib/python3.9/site-packages/numpy/lib/shape_base.py:652: VisibleDeprecationWarning: Creating an ndarray from ragged nested sequences (which is a list-or-tuple of lists-or-tuples-or ndarrays with different lengths or shapes) is deprecated. If you meant to do this, you must specify 'dtype=object' when creating the ndarray.\n",
      "  arr = asanyarray(v)\n",
      "/opt/conda/lib/python3.9/site-packages/numpy/lib/shape_base.py:652: VisibleDeprecationWarning: Creating an ndarray from ragged nested sequences (which is a list-or-tuple of lists-or-tuples-or ndarrays with different lengths or shapes) is deprecated. If you meant to do this, you must specify 'dtype=object' when creating the ndarray.\n",
      "  arr = asanyarray(v)\n",
      "/opt/conda/lib/python3.9/site-packages/numpy/lib/shape_base.py:652: VisibleDeprecationWarning: Creating an ndarray from ragged nested sequences (which is a list-or-tuple of lists-or-tuples-or ndarrays with different lengths or shapes) is deprecated. If you meant to do this, you must specify 'dtype=object' when creating the ndarray.\n",
      "  arr = asanyarray(v)\n",
      "/opt/conda/lib/python3.9/site-packages/numpy/lib/shape_base.py:652: VisibleDeprecationWarning: Creating an ndarray from ragged nested sequences (which is a list-or-tuple of lists-or-tuples-or ndarrays with different lengths or shapes) is deprecated. If you meant to do this, you must specify 'dtype=object' when creating the ndarray.\n",
      "  arr = asanyarray(v)\n",
      "/opt/conda/lib/python3.9/site-packages/numpy/lib/shape_base.py:652: VisibleDeprecationWarning: Creating an ndarray from ragged nested sequences (which is a list-or-tuple of lists-or-tuples-or ndarrays with different lengths or shapes) is deprecated. If you meant to do this, you must specify 'dtype=object' when creating the ndarray.\n",
      "  arr = asanyarray(v)\n",
      "/opt/conda/lib/python3.9/site-packages/numpy/lib/shape_base.py:652: VisibleDeprecationWarning: Creating an ndarray from ragged nested sequences (which is a list-or-tuple of lists-or-tuples-or ndarrays with different lengths or shapes) is deprecated. If you meant to do this, you must specify 'dtype=object' when creating the ndarray.\n",
      "  arr = asanyarray(v)\n",
      "/opt/conda/lib/python3.9/site-packages/numpy/lib/shape_base.py:652: VisibleDeprecationWarning: Creating an ndarray from ragged nested sequences (which is a list-or-tuple of lists-or-tuples-or ndarrays with different lengths or shapes) is deprecated. If you meant to do this, you must specify 'dtype=object' when creating the ndarray.\n",
      "  arr = asanyarray(v)\n",
      "/opt/conda/lib/python3.9/site-packages/numpy/lib/shape_base.py:652: VisibleDeprecationWarning: Creating an ndarray from ragged nested sequences (which is a list-or-tuple of lists-or-tuples-or ndarrays with different lengths or shapes) is deprecated. If you meant to do this, you must specify 'dtype=object' when creating the ndarray.\n",
      "  arr = asanyarray(v)\n",
      "/opt/conda/lib/python3.9/site-packages/numpy/lib/shape_base.py:652: VisibleDeprecationWarning: Creating an ndarray from ragged nested sequences (which is a list-or-tuple of lists-or-tuples-or ndarrays with different lengths or shapes) is deprecated. If you meant to do this, you must specify 'dtype=object' when creating the ndarray.\n",
      "  arr = asanyarray(v)\n",
      "/opt/conda/lib/python3.9/site-packages/numpy/lib/shape_base.py:652: VisibleDeprecationWarning: Creating an ndarray from ragged nested sequences (which is a list-or-tuple of lists-or-tuples-or ndarrays with different lengths or shapes) is deprecated. If you meant to do this, you must specify 'dtype=object' when creating the ndarray.\n",
      "  arr = asanyarray(v)\n",
      "/opt/conda/lib/python3.9/site-packages/numpy/lib/shape_base.py:652: VisibleDeprecationWarning: Creating an ndarray from ragged nested sequences (which is a list-or-tuple of lists-or-tuples-or ndarrays with different lengths or shapes) is deprecated. If you meant to do this, you must specify 'dtype=object' when creating the ndarray.\n",
      "  arr = asanyarray(v)\n",
      "/opt/conda/lib/python3.9/site-packages/numpy/lib/shape_base.py:652: VisibleDeprecationWarning: Creating an ndarray from ragged nested sequences (which is a list-or-tuple of lists-or-tuples-or ndarrays with different lengths or shapes) is deprecated. If you meant to do this, you must specify 'dtype=object' when creating the ndarray.\n",
      "  arr = asanyarray(v)\n",
      "/opt/conda/lib/python3.9/site-packages/numpy/lib/shape_base.py:652: VisibleDeprecationWarning: Creating an ndarray from ragged nested sequences (which is a list-or-tuple of lists-or-tuples-or ndarrays with different lengths or shapes) is deprecated. If you meant to do this, you must specify 'dtype=object' when creating the ndarray.\n",
      "  arr = asanyarray(v)\n",
      "/opt/conda/lib/python3.9/site-packages/numpy/lib/shape_base.py:652: VisibleDeprecationWarning: Creating an ndarray from ragged nested sequences (which is a list-or-tuple of lists-or-tuples-or ndarrays with different lengths or shapes) is deprecated. If you meant to do this, you must specify 'dtype=object' when creating the ndarray.\n",
      "  arr = asanyarray(v)\n",
      "/opt/conda/lib/python3.9/site-packages/numpy/lib/shape_base.py:652: VisibleDeprecationWarning: Creating an ndarray from ragged nested sequences (which is a list-or-tuple of lists-or-tuples-or ndarrays with different lengths or shapes) is deprecated. If you meant to do this, you must specify 'dtype=object' when creating the ndarray.\n",
      "  arr = asanyarray(v)\n",
      "/opt/conda/lib/python3.9/site-packages/numpy/lib/shape_base.py:652: VisibleDeprecationWarning: Creating an ndarray from ragged nested sequences (which is a list-or-tuple of lists-or-tuples-or ndarrays with different lengths or shapes) is deprecated. If you meant to do this, you must specify 'dtype=object' when creating the ndarray.\n",
      "  arr = asanyarray(v)\n",
      "/opt/conda/lib/python3.9/site-packages/numpy/lib/shape_base.py:652: VisibleDeprecationWarning: Creating an ndarray from ragged nested sequences (which is a list-or-tuple of lists-or-tuples-or ndarrays with different lengths or shapes) is deprecated. If you meant to do this, you must specify 'dtype=object' when creating the ndarray.\n",
      "  arr = asanyarray(v)\n",
      "/opt/conda/lib/python3.9/site-packages/numpy/lib/shape_base.py:652: VisibleDeprecationWarning: Creating an ndarray from ragged nested sequences (which is a list-or-tuple of lists-or-tuples-or ndarrays with different lengths or shapes) is deprecated. If you meant to do this, you must specify 'dtype=object' when creating the ndarray.\n",
      "  arr = asanyarray(v)\n",
      "/opt/conda/lib/python3.9/site-packages/numpy/lib/shape_base.py:652: VisibleDeprecationWarning: Creating an ndarray from ragged nested sequences (which is a list-or-tuple of lists-or-tuples-or ndarrays with different lengths or shapes) is deprecated. If you meant to do this, you must specify 'dtype=object' when creating the ndarray.\n",
      "  arr = asanyarray(v)\n",
      "/opt/conda/lib/python3.9/site-packages/numpy/lib/shape_base.py:652: VisibleDeprecationWarning: Creating an ndarray from ragged nested sequences (which is a list-or-tuple of lists-or-tuples-or ndarrays with different lengths or shapes) is deprecated. If you meant to do this, you must specify 'dtype=object' when creating the ndarray.\n",
      "  arr = asanyarray(v)\n",
      "/opt/conda/lib/python3.9/site-packages/numpy/lib/shape_base.py:652: VisibleDeprecationWarning: Creating an ndarray from ragged nested sequences (which is a list-or-tuple of lists-or-tuples-or ndarrays with different lengths or shapes) is deprecated. If you meant to do this, you must specify 'dtype=object' when creating the ndarray.\n",
      "  arr = asanyarray(v)\n",
      "/opt/conda/lib/python3.9/site-packages/numpy/lib/shape_base.py:652: VisibleDeprecationWarning: Creating an ndarray from ragged nested sequences (which is a list-or-tuple of lists-or-tuples-or ndarrays with different lengths or shapes) is deprecated. If you meant to do this, you must specify 'dtype=object' when creating the ndarray.\n",
      "  arr = asanyarray(v)\n",
      "/opt/conda/lib/python3.9/site-packages/numpy/lib/shape_base.py:652: VisibleDeprecationWarning: Creating an ndarray from ragged nested sequences (which is a list-or-tuple of lists-or-tuples-or ndarrays with different lengths or shapes) is deprecated. If you meant to do this, you must specify 'dtype=object' when creating the ndarray.\n",
      "  arr = asanyarray(v)\n",
      "/opt/conda/lib/python3.9/site-packages/numpy/lib/shape_base.py:652: VisibleDeprecationWarning: Creating an ndarray from ragged nested sequences (which is a list-or-tuple of lists-or-tuples-or ndarrays with different lengths or shapes) is deprecated. If you meant to do this, you must specify 'dtype=object' when creating the ndarray.\n",
      "  arr = asanyarray(v)\n",
      "/opt/conda/lib/python3.9/site-packages/numpy/lib/shape_base.py:652: VisibleDeprecationWarning: Creating an ndarray from ragged nested sequences (which is a list-or-tuple of lists-or-tuples-or ndarrays with different lengths or shapes) is deprecated. If you meant to do this, you must specify 'dtype=object' when creating the ndarray.\n",
      "  arr = asanyarray(v)\n",
      "/opt/conda/lib/python3.9/site-packages/numpy/lib/shape_base.py:652: VisibleDeprecationWarning: Creating an ndarray from ragged nested sequences (which is a list-or-tuple of lists-or-tuples-or ndarrays with different lengths or shapes) is deprecated. If you meant to do this, you must specify 'dtype=object' when creating the ndarray.\n",
      "  arr = asanyarray(v)\n",
      "/opt/conda/lib/python3.9/site-packages/numpy/lib/shape_base.py:652: VisibleDeprecationWarning: Creating an ndarray from ragged nested sequences (which is a list-or-tuple of lists-or-tuples-or ndarrays with different lengths or shapes) is deprecated. If you meant to do this, you must specify 'dtype=object' when creating the ndarray.\n",
      "  arr = asanyarray(v)\n",
      "/opt/conda/lib/python3.9/site-packages/numpy/lib/shape_base.py:652: VisibleDeprecationWarning: Creating an ndarray from ragged nested sequences (which is a list-or-tuple of lists-or-tuples-or ndarrays with different lengths or shapes) is deprecated. If you meant to do this, you must specify 'dtype=object' when creating the ndarray.\n",
      "  arr = asanyarray(v)\n",
      "/opt/conda/lib/python3.9/site-packages/numpy/lib/shape_base.py:652: VisibleDeprecationWarning: Creating an ndarray from ragged nested sequences (which is a list-or-tuple of lists-or-tuples-or ndarrays with different lengths or shapes) is deprecated. If you meant to do this, you must specify 'dtype=object' when creating the ndarray.\n",
      "  arr = asanyarray(v)\n",
      "/opt/conda/lib/python3.9/site-packages/numpy/lib/shape_base.py:652: VisibleDeprecationWarning: Creating an ndarray from ragged nested sequences (which is a list-or-tuple of lists-or-tuples-or ndarrays with different lengths or shapes) is deprecated. If you meant to do this, you must specify 'dtype=object' when creating the ndarray.\n",
      "  arr = asanyarray(v)\n",
      "/opt/conda/lib/python3.9/site-packages/numpy/lib/shape_base.py:652: VisibleDeprecationWarning: Creating an ndarray from ragged nested sequences (which is a list-or-tuple of lists-or-tuples-or ndarrays with different lengths or shapes) is deprecated. If you meant to do this, you must specify 'dtype=object' when creating the ndarray.\n",
      "  arr = asanyarray(v)\n",
      "/opt/conda/lib/python3.9/site-packages/numpy/lib/shape_base.py:652: VisibleDeprecationWarning: Creating an ndarray from ragged nested sequences (which is a list-or-tuple of lists-or-tuples-or ndarrays with different lengths or shapes) is deprecated. If you meant to do this, you must specify 'dtype=object' when creating the ndarray.\n",
      "  arr = asanyarray(v)\n",
      "/opt/conda/lib/python3.9/site-packages/numpy/lib/shape_base.py:652: VisibleDeprecationWarning: Creating an ndarray from ragged nested sequences (which is a list-or-tuple of lists-or-tuples-or ndarrays with different lengths or shapes) is deprecated. If you meant to do this, you must specify 'dtype=object' when creating the ndarray.\n",
      "  arr = asanyarray(v)\n",
      "/opt/conda/lib/python3.9/site-packages/numpy/lib/shape_base.py:652: VisibleDeprecationWarning: Creating an ndarray from ragged nested sequences (which is a list-or-tuple of lists-or-tuples-or ndarrays with different lengths or shapes) is deprecated. If you meant to do this, you must specify 'dtype=object' when creating the ndarray.\n",
      "  arr = asanyarray(v)\n",
      "/opt/conda/lib/python3.9/site-packages/numpy/lib/shape_base.py:652: VisibleDeprecationWarning: Creating an ndarray from ragged nested sequences (which is a list-or-tuple of lists-or-tuples-or ndarrays with different lengths or shapes) is deprecated. If you meant to do this, you must specify 'dtype=object' when creating the ndarray.\n",
      "  arr = asanyarray(v)\n",
      "/opt/conda/lib/python3.9/site-packages/numpy/lib/shape_base.py:652: VisibleDeprecationWarning: Creating an ndarray from ragged nested sequences (which is a list-or-tuple of lists-or-tuples-or ndarrays with different lengths or shapes) is deprecated. If you meant to do this, you must specify 'dtype=object' when creating the ndarray.\n",
      "  arr = asanyarray(v)\n",
      "/opt/conda/lib/python3.9/site-packages/numpy/lib/shape_base.py:652: VisibleDeprecationWarning: Creating an ndarray from ragged nested sequences (which is a list-or-tuple of lists-or-tuples-or ndarrays with different lengths or shapes) is deprecated. If you meant to do this, you must specify 'dtype=object' when creating the ndarray.\n",
      "  arr = asanyarray(v)\n",
      "/opt/conda/lib/python3.9/site-packages/numpy/lib/shape_base.py:652: VisibleDeprecationWarning: Creating an ndarray from ragged nested sequences (which is a list-or-tuple of lists-or-tuples-or ndarrays with different lengths or shapes) is deprecated. If you meant to do this, you must specify 'dtype=object' when creating the ndarray.\n",
      "  arr = asanyarray(v)\n",
      "/opt/conda/lib/python3.9/site-packages/numpy/lib/shape_base.py:652: VisibleDeprecationWarning: Creating an ndarray from ragged nested sequences (which is a list-or-tuple of lists-or-tuples-or ndarrays with different lengths or shapes) is deprecated. If you meant to do this, you must specify 'dtype=object' when creating the ndarray.\n",
      "  arr = asanyarray(v)\n"
     ]
    },
    {
     "data": {
      "image/png": "[encoded data removed]",
      "text/plain": [
       "<Figure size 576x216 with 3 Axes>"
      ]
     },
     "metadata": {},
     "output_type": "display_data"
    }
   ],
   "source": [
    "fig, ax = plt.subplots(ncols = len(unq_scase),nrows = 1,\\\n",
    "                       figsize = [8,3], sharey = True)\n",
    "\n",
    "\n",
    "plt.subplots_adjust(hspace=0.1, wspace = 0.1)\n",
    "for icase in range(len(unq_scase)):\n",
    "    scase = unq_scase[icase]\n",
    "    box = ax[icase].bxp(dct_bx[scase], patch_artist=True, widths = 0.8);\n",
    "\n",
    "\n",
    "    for icol in range(len(dct_bx_col[scase])):\n",
    "        box['boxes'][icol].set_facecolor(dct_bx_col[scase][icol])\n",
    "\n",
    "        box['whiskers'][icol*2].set_color(dct_bx_col[scase][icol])\n",
    "        box['whiskers'][icol*2+1].set_color(dct_bx_col[scase][icol])\n",
    "\n",
    "        box['caps'][icol*2].set_color(dct_bx_col[scase][icol])\n",
    "        box['caps'][icol*2+1].set_color(dct_bx_col[scase][icol])\n",
    "    \n",
    "    ax[icase].set_title(\"$\\mathbf{N_a=}$\" + \"{0:.0f}\".format(float(scase)/1e6) + \" $\\mathbf{[cm^{-3}]}$\" ,\\\n",
    "                        fontweight = \"bold\", y = 0.92)\n",
    "    \n",
    "    for color,tick in zip(dct_bx_col[scase],ax[icase].xaxis.get_major_ticks()):\n",
    "        tick.label1.set_color(color) #set the color property\n",
    "\n",
    "\n",
    "[iax.tick_params(axis='x',labelsize = 8, labelrotation=90, pad = -5, length = 0) for iax in ax]\n",
    "[iax.semilogy() for iax in ax]\n",
    "\n",
    "[iax.spines[ispine].set_visible(False) for iax in ax for ispine in [\"top\", \"right\", \"bottom\"]]\n",
    "\n",
    "ax[0].set_ylabel(\"Supersaturation [%]\", fontweight = \"bold\")\n",
    "\n",
    "\n",
    "if savefigs:\n",
    "    plt.savefig(os.path.join(nml.dir_output, \"supersaturation_statistics_LOG.png\"), dpi=600,\n",
    "                bbox_inches=\"tight\")"
   ]
  },
  {
   "cell_type": "code",
   "execution_count": 28,
   "metadata": {},
   "outputs": [
    {
     "name": "stderr",
     "output_type": "stream",
     "text": [
      "/opt/conda/lib/python3.9/site-packages/numpy/lib/shape_base.py:652: VisibleDeprecationWarning: Creating an ndarray from ragged nested sequences (which is a list-or-tuple of lists-or-tuples-or ndarrays with different lengths or shapes) is deprecated. If you meant to do this, you must specify 'dtype=object' when creating the ndarray.\n",
      "  arr = asanyarray(v)\n",
      "/opt/conda/lib/python3.9/site-packages/numpy/lib/shape_base.py:652: VisibleDeprecationWarning: Creating an ndarray from ragged nested sequences (which is a list-or-tuple of lists-or-tuples-or ndarrays with different lengths or shapes) is deprecated. If you meant to do this, you must specify 'dtype=object' when creating the ndarray.\n",
      "  arr = asanyarray(v)\n",
      "/opt/conda/lib/python3.9/site-packages/numpy/lib/shape_base.py:652: VisibleDeprecationWarning: Creating an ndarray from ragged nested sequences (which is a list-or-tuple of lists-or-tuples-or ndarrays with different lengths or shapes) is deprecated. If you meant to do this, you must specify 'dtype=object' when creating the ndarray.\n",
      "  arr = asanyarray(v)\n",
      "/opt/conda/lib/python3.9/site-packages/numpy/lib/shape_base.py:652: VisibleDeprecationWarning: Creating an ndarray from ragged nested sequences (which is a list-or-tuple of lists-or-tuples-or ndarrays with different lengths or shapes) is deprecated. If you meant to do this, you must specify 'dtype=object' when creating the ndarray.\n",
      "  arr = asanyarray(v)\n",
      "/opt/conda/lib/python3.9/site-packages/numpy/lib/shape_base.py:652: VisibleDeprecationWarning: Creating an ndarray from ragged nested sequences (which is a list-or-tuple of lists-or-tuples-or ndarrays with different lengths or shapes) is deprecated. If you meant to do this, you must specify 'dtype=object' when creating the ndarray.\n",
      "  arr = asanyarray(v)\n",
      "/opt/conda/lib/python3.9/site-packages/numpy/lib/shape_base.py:652: VisibleDeprecationWarning: Creating an ndarray from ragged nested sequences (which is a list-or-tuple of lists-or-tuples-or ndarrays with different lengths or shapes) is deprecated. If you meant to do this, you must specify 'dtype=object' when creating the ndarray.\n",
      "  arr = asanyarray(v)\n",
      "/opt/conda/lib/python3.9/site-packages/numpy/lib/shape_base.py:652: VisibleDeprecationWarning: Creating an ndarray from ragged nested sequences (which is a list-or-tuple of lists-or-tuples-or ndarrays with different lengths or shapes) is deprecated. If you meant to do this, you must specify 'dtype=object' when creating the ndarray.\n",
      "  arr = asanyarray(v)\n",
      "/opt/conda/lib/python3.9/site-packages/numpy/lib/shape_base.py:652: VisibleDeprecationWarning: Creating an ndarray from ragged nested sequences (which is a list-or-tuple of lists-or-tuples-or ndarrays with different lengths or shapes) is deprecated. If you meant to do this, you must specify 'dtype=object' when creating the ndarray.\n",
      "  arr = asanyarray(v)\n",
      "/opt/conda/lib/python3.9/site-packages/numpy/lib/shape_base.py:652: VisibleDeprecationWarning: Creating an ndarray from ragged nested sequences (which is a list-or-tuple of lists-or-tuples-or ndarrays with different lengths or shapes) is deprecated. If you meant to do this, you must specify 'dtype=object' when creating the ndarray.\n",
      "  arr = asanyarray(v)\n",
      "/opt/conda/lib/python3.9/site-packages/numpy/lib/shape_base.py:652: VisibleDeprecationWarning: Creating an ndarray from ragged nested sequences (which is a list-or-tuple of lists-or-tuples-or ndarrays with different lengths or shapes) is deprecated. If you meant to do this, you must specify 'dtype=object' when creating the ndarray.\n",
      "  arr = asanyarray(v)\n",
      "/opt/conda/lib/python3.9/site-packages/numpy/lib/shape_base.py:652: VisibleDeprecationWarning: Creating an ndarray from ragged nested sequences (which is a list-or-tuple of lists-or-tuples-or ndarrays with different lengths or shapes) is deprecated. If you meant to do this, you must specify 'dtype=object' when creating the ndarray.\n",
      "  arr = asanyarray(v)\n",
      "/opt/conda/lib/python3.9/site-packages/numpy/lib/shape_base.py:652: VisibleDeprecationWarning: Creating an ndarray from ragged nested sequences (which is a list-or-tuple of lists-or-tuples-or ndarrays with different lengths or shapes) is deprecated. If you meant to do this, you must specify 'dtype=object' when creating the ndarray.\n",
      "  arr = asanyarray(v)\n",
      "/opt/conda/lib/python3.9/site-packages/numpy/lib/shape_base.py:652: VisibleDeprecationWarning: Creating an ndarray from ragged nested sequences (which is a list-or-tuple of lists-or-tuples-or ndarrays with different lengths or shapes) is deprecated. If you meant to do this, you must specify 'dtype=object' when creating the ndarray.\n",
      "  arr = asanyarray(v)\n",
      "/opt/conda/lib/python3.9/site-packages/numpy/lib/shape_base.py:652: VisibleDeprecationWarning: Creating an ndarray from ragged nested sequences (which is a list-or-tuple of lists-or-tuples-or ndarrays with different lengths or shapes) is deprecated. If you meant to do this, you must specify 'dtype=object' when creating the ndarray.\n",
      "  arr = asanyarray(v)\n",
      "/opt/conda/lib/python3.9/site-packages/numpy/lib/shape_base.py:652: VisibleDeprecationWarning: Creating an ndarray from ragged nested sequences (which is a list-or-tuple of lists-or-tuples-or ndarrays with different lengths or shapes) is deprecated. If you meant to do this, you must specify 'dtype=object' when creating the ndarray.\n",
      "  arr = asanyarray(v)\n",
      "/opt/conda/lib/python3.9/site-packages/numpy/lib/shape_base.py:652: VisibleDeprecationWarning: Creating an ndarray from ragged nested sequences (which is a list-or-tuple of lists-or-tuples-or ndarrays with different lengths or shapes) is deprecated. If you meant to do this, you must specify 'dtype=object' when creating the ndarray.\n",
      "  arr = asanyarray(v)\n",
      "/opt/conda/lib/python3.9/site-packages/numpy/lib/shape_base.py:652: VisibleDeprecationWarning: Creating an ndarray from ragged nested sequences (which is a list-or-tuple of lists-or-tuples-or ndarrays with different lengths or shapes) is deprecated. If you meant to do this, you must specify 'dtype=object' when creating the ndarray.\n",
      "  arr = asanyarray(v)\n",
      "/opt/conda/lib/python3.9/site-packages/numpy/lib/shape_base.py:652: VisibleDeprecationWarning: Creating an ndarray from ragged nested sequences (which is a list-or-tuple of lists-or-tuples-or ndarrays with different lengths or shapes) is deprecated. If you meant to do this, you must specify 'dtype=object' when creating the ndarray.\n",
      "  arr = asanyarray(v)\n",
      "/opt/conda/lib/python3.9/site-packages/numpy/lib/shape_base.py:652: VisibleDeprecationWarning: Creating an ndarray from ragged nested sequences (which is a list-or-tuple of lists-or-tuples-or ndarrays with different lengths or shapes) is deprecated. If you meant to do this, you must specify 'dtype=object' when creating the ndarray.\n",
      "  arr = asanyarray(v)\n",
      "/opt/conda/lib/python3.9/site-packages/numpy/lib/shape_base.py:652: VisibleDeprecationWarning: Creating an ndarray from ragged nested sequences (which is a list-or-tuple of lists-or-tuples-or ndarrays with different lengths or shapes) is deprecated. If you meant to do this, you must specify 'dtype=object' when creating the ndarray.\n",
      "  arr = asanyarray(v)\n",
      "/opt/conda/lib/python3.9/site-packages/numpy/lib/shape_base.py:652: VisibleDeprecationWarning: Creating an ndarray from ragged nested sequences (which is a list-or-tuple of lists-or-tuples-or ndarrays with different lengths or shapes) is deprecated. If you meant to do this, you must specify 'dtype=object' when creating the ndarray.\n",
      "  arr = asanyarray(v)\n",
      "/opt/conda/lib/python3.9/site-packages/numpy/lib/shape_base.py:652: VisibleDeprecationWarning: Creating an ndarray from ragged nested sequences (which is a list-or-tuple of lists-or-tuples-or ndarrays with different lengths or shapes) is deprecated. If you meant to do this, you must specify 'dtype=object' when creating the ndarray.\n",
      "  arr = asanyarray(v)\n",
      "/opt/conda/lib/python3.9/site-packages/numpy/lib/shape_base.py:652: VisibleDeprecationWarning: Creating an ndarray from ragged nested sequences (which is a list-or-tuple of lists-or-tuples-or ndarrays with different lengths or shapes) is deprecated. If you meant to do this, you must specify 'dtype=object' when creating the ndarray.\n",
      "  arr = asanyarray(v)\n",
      "/opt/conda/lib/python3.9/site-packages/numpy/lib/shape_base.py:652: VisibleDeprecationWarning: Creating an ndarray from ragged nested sequences (which is a list-or-tuple of lists-or-tuples-or ndarrays with different lengths or shapes) is deprecated. If you meant to do this, you must specify 'dtype=object' when creating the ndarray.\n",
      "  arr = asanyarray(v)\n",
      "/opt/conda/lib/python3.9/site-packages/numpy/lib/shape_base.py:652: VisibleDeprecationWarning: Creating an ndarray from ragged nested sequences (which is a list-or-tuple of lists-or-tuples-or ndarrays with different lengths or shapes) is deprecated. If you meant to do this, you must specify 'dtype=object' when creating the ndarray.\n",
      "  arr = asanyarray(v)\n",
      "/opt/conda/lib/python3.9/site-packages/numpy/lib/shape_base.py:652: VisibleDeprecationWarning: Creating an ndarray from ragged nested sequences (which is a list-or-tuple of lists-or-tuples-or ndarrays with different lengths or shapes) is deprecated. If you meant to do this, you must specify 'dtype=object' when creating the ndarray.\n",
      "  arr = asanyarray(v)\n",
      "/opt/conda/lib/python3.9/site-packages/numpy/lib/shape_base.py:652: VisibleDeprecationWarning: Creating an ndarray from ragged nested sequences (which is a list-or-tuple of lists-or-tuples-or ndarrays with different lengths or shapes) is deprecated. If you meant to do this, you must specify 'dtype=object' when creating the ndarray.\n",
      "  arr = asanyarray(v)\n",
      "/opt/conda/lib/python3.9/site-packages/numpy/lib/shape_base.py:652: VisibleDeprecationWarning: Creating an ndarray from ragged nested sequences (which is a list-or-tuple of lists-or-tuples-or ndarrays with different lengths or shapes) is deprecated. If you meant to do this, you must specify 'dtype=object' when creating the ndarray.\n",
      "  arr = asanyarray(v)\n",
      "/opt/conda/lib/python3.9/site-packages/numpy/lib/shape_base.py:652: VisibleDeprecationWarning: Creating an ndarray from ragged nested sequences (which is a list-or-tuple of lists-or-tuples-or ndarrays with different lengths or shapes) is deprecated. If you meant to do this, you must specify 'dtype=object' when creating the ndarray.\n",
      "  arr = asanyarray(v)\n",
      "/opt/conda/lib/python3.9/site-packages/numpy/lib/shape_base.py:652: VisibleDeprecationWarning: Creating an ndarray from ragged nested sequences (which is a list-or-tuple of lists-or-tuples-or ndarrays with different lengths or shapes) is deprecated. If you meant to do this, you must specify 'dtype=object' when creating the ndarray.\n",
      "  arr = asanyarray(v)\n",
      "/opt/conda/lib/python3.9/site-packages/numpy/lib/shape_base.py:652: VisibleDeprecationWarning: Creating an ndarray from ragged nested sequences (which is a list-or-tuple of lists-or-tuples-or ndarrays with different lengths or shapes) is deprecated. If you meant to do this, you must specify 'dtype=object' when creating the ndarray.\n",
      "  arr = asanyarray(v)\n",
      "/opt/conda/lib/python3.9/site-packages/numpy/lib/shape_base.py:652: VisibleDeprecationWarning: Creating an ndarray from ragged nested sequences (which is a list-or-tuple of lists-or-tuples-or ndarrays with different lengths or shapes) is deprecated. If you meant to do this, you must specify 'dtype=object' when creating the ndarray.\n",
      "  arr = asanyarray(v)\n",
      "/opt/conda/lib/python3.9/site-packages/numpy/lib/shape_base.py:652: VisibleDeprecationWarning: Creating an ndarray from ragged nested sequences (which is a list-or-tuple of lists-or-tuples-or ndarrays with different lengths or shapes) is deprecated. If you meant to do this, you must specify 'dtype=object' when creating the ndarray.\n",
      "  arr = asanyarray(v)\n",
      "/opt/conda/lib/python3.9/site-packages/numpy/lib/shape_base.py:652: VisibleDeprecationWarning: Creating an ndarray from ragged nested sequences (which is a list-or-tuple of lists-or-tuples-or ndarrays with different lengths or shapes) is deprecated. If you meant to do this, you must specify 'dtype=object' when creating the ndarray.\n",
      "  arr = asanyarray(v)\n",
      "/opt/conda/lib/python3.9/site-packages/numpy/lib/shape_base.py:652: VisibleDeprecationWarning: Creating an ndarray from ragged nested sequences (which is a list-or-tuple of lists-or-tuples-or ndarrays with different lengths or shapes) is deprecated. If you meant to do this, you must specify 'dtype=object' when creating the ndarray.\n",
      "  arr = asanyarray(v)\n",
      "/opt/conda/lib/python3.9/site-packages/numpy/lib/shape_base.py:652: VisibleDeprecationWarning: Creating an ndarray from ragged nested sequences (which is a list-or-tuple of lists-or-tuples-or ndarrays with different lengths or shapes) is deprecated. If you meant to do this, you must specify 'dtype=object' when creating the ndarray.\n",
      "  arr = asanyarray(v)\n",
      "/opt/conda/lib/python3.9/site-packages/numpy/lib/shape_base.py:652: VisibleDeprecationWarning: Creating an ndarray from ragged nested sequences (which is a list-or-tuple of lists-or-tuples-or ndarrays with different lengths or shapes) is deprecated. If you meant to do this, you must specify 'dtype=object' when creating the ndarray.\n",
      "  arr = asanyarray(v)\n",
      "/opt/conda/lib/python3.9/site-packages/numpy/lib/shape_base.py:652: VisibleDeprecationWarning: Creating an ndarray from ragged nested sequences (which is a list-or-tuple of lists-or-tuples-or ndarrays with different lengths or shapes) is deprecated. If you meant to do this, you must specify 'dtype=object' when creating the ndarray.\n",
      "  arr = asanyarray(v)\n",
      "/opt/conda/lib/python3.9/site-packages/numpy/lib/shape_base.py:652: VisibleDeprecationWarning: Creating an ndarray from ragged nested sequences (which is a list-or-tuple of lists-or-tuples-or ndarrays with different lengths or shapes) is deprecated. If you meant to do this, you must specify 'dtype=object' when creating the ndarray.\n",
      "  arr = asanyarray(v)\n",
      "/opt/conda/lib/python3.9/site-packages/numpy/lib/shape_base.py:652: VisibleDeprecationWarning: Creating an ndarray from ragged nested sequences (which is a list-or-tuple of lists-or-tuples-or ndarrays with different lengths or shapes) is deprecated. If you meant to do this, you must specify 'dtype=object' when creating the ndarray.\n",
      "  arr = asanyarray(v)\n",
      "/opt/conda/lib/python3.9/site-packages/numpy/lib/shape_base.py:652: VisibleDeprecationWarning: Creating an ndarray from ragged nested sequences (which is a list-or-tuple of lists-or-tuples-or ndarrays with different lengths or shapes) is deprecated. If you meant to do this, you must specify 'dtype=object' when creating the ndarray.\n",
      "  arr = asanyarray(v)\n",
      "/opt/conda/lib/python3.9/site-packages/numpy/lib/shape_base.py:652: VisibleDeprecationWarning: Creating an ndarray from ragged nested sequences (which is a list-or-tuple of lists-or-tuples-or ndarrays with different lengths or shapes) is deprecated. If you meant to do this, you must specify 'dtype=object' when creating the ndarray.\n",
      "  arr = asanyarray(v)\n",
      "/opt/conda/lib/python3.9/site-packages/numpy/lib/shape_base.py:652: VisibleDeprecationWarning: Creating an ndarray from ragged nested sequences (which is a list-or-tuple of lists-or-tuples-or ndarrays with different lengths or shapes) is deprecated. If you meant to do this, you must specify 'dtype=object' when creating the ndarray.\n",
      "  arr = asanyarray(v)\n",
      "/opt/conda/lib/python3.9/site-packages/numpy/lib/shape_base.py:652: VisibleDeprecationWarning: Creating an ndarray from ragged nested sequences (which is a list-or-tuple of lists-or-tuples-or ndarrays with different lengths or shapes) is deprecated. If you meant to do this, you must specify 'dtype=object' when creating the ndarray.\n",
      "  arr = asanyarray(v)\n",
      "/opt/conda/lib/python3.9/site-packages/numpy/lib/shape_base.py:652: VisibleDeprecationWarning: Creating an ndarray from ragged nested sequences (which is a list-or-tuple of lists-or-tuples-or ndarrays with different lengths or shapes) is deprecated. If you meant to do this, you must specify 'dtype=object' when creating the ndarray.\n",
      "  arr = asanyarray(v)\n",
      "/opt/conda/lib/python3.9/site-packages/numpy/lib/shape_base.py:652: VisibleDeprecationWarning: Creating an ndarray from ragged nested sequences (which is a list-or-tuple of lists-or-tuples-or ndarrays with different lengths or shapes) is deprecated. If you meant to do this, you must specify 'dtype=object' when creating the ndarray.\n",
      "  arr = asanyarray(v)\n",
      "/opt/conda/lib/python3.9/site-packages/numpy/lib/shape_base.py:652: VisibleDeprecationWarning: Creating an ndarray from ragged nested sequences (which is a list-or-tuple of lists-or-tuples-or ndarrays with different lengths or shapes) is deprecated. If you meant to do this, you must specify 'dtype=object' when creating the ndarray.\n",
      "  arr = asanyarray(v)\n",
      "/opt/conda/lib/python3.9/site-packages/numpy/lib/shape_base.py:652: VisibleDeprecationWarning: Creating an ndarray from ragged nested sequences (which is a list-or-tuple of lists-or-tuples-or ndarrays with different lengths or shapes) is deprecated. If you meant to do this, you must specify 'dtype=object' when creating the ndarray.\n",
      "  arr = asanyarray(v)\n",
      "/opt/conda/lib/python3.9/site-packages/numpy/lib/shape_base.py:652: VisibleDeprecationWarning: Creating an ndarray from ragged nested sequences (which is a list-or-tuple of lists-or-tuples-or ndarrays with different lengths or shapes) is deprecated. If you meant to do this, you must specify 'dtype=object' when creating the ndarray.\n",
      "  arr = asanyarray(v)\n",
      "/opt/conda/lib/python3.9/site-packages/numpy/lib/shape_base.py:652: VisibleDeprecationWarning: Creating an ndarray from ragged nested sequences (which is a list-or-tuple of lists-or-tuples-or ndarrays with different lengths or shapes) is deprecated. If you meant to do this, you must specify 'dtype=object' when creating the ndarray.\n",
      "  arr = asanyarray(v)\n",
      "/opt/conda/lib/python3.9/site-packages/numpy/lib/shape_base.py:652: VisibleDeprecationWarning: Creating an ndarray from ragged nested sequences (which is a list-or-tuple of lists-or-tuples-or ndarrays with different lengths or shapes) is deprecated. If you meant to do this, you must specify 'dtype=object' when creating the ndarray.\n",
      "  arr = asanyarray(v)\n"
     ]
    },
    {
     "data": {
      "image/png": "[encoded data removed]",
      "text/plain": [
       "<Figure size 648x216 with 3 Axes>"
      ]
     },
     "metadata": {},
     "output_type": "display_data"
    }
   ],
   "source": [
    "fig, ax = plt.subplots(ncols = len(unq_scase),nrows = 1,\\\n",
    "                       figsize = [9,3], sharey = False)\n",
    "\n",
    "\n",
    "plt.subplots_adjust(hspace=0.1, wspace = 0.25)\n",
    "for icase in range(len(unq_scase)):\n",
    "    scase = unq_scase[icase]\n",
    "    box = ax[icase].bxp(dct_bx[scase], patch_artist=True, widths = 0.8);\n",
    "\n",
    "\n",
    "    for icol in range(len(dct_bx_col[scase])):\n",
    "        box['boxes'][icol].set_facecolor(dct_bx_col[scase][icol])\n",
    "\n",
    "        box['whiskers'][icol*2].set_color(dct_bx_col[scase][icol])\n",
    "        box['whiskers'][icol*2+1].set_color(dct_bx_col[scase][icol])\n",
    "\n",
    "        box['caps'][icol*2].set_color(dct_bx_col[scase][icol])\n",
    "        box['caps'][icol*2+1].set_color(dct_bx_col[scase][icol])\n",
    "    \n",
    "    ax[icase].set_title(\"$\\mathbf{N_a=}$\" + \"{0:.0f}\".format(float(scase)/1e6) + \" $\\mathbf{[cm^{-3}]}$\" ,\\\n",
    "                        fontweight = \"bold\", y = 0.92)\n",
    "    \n",
    "    for color,tick in zip(dct_bx_col[scase],ax[icase].xaxis.get_major_ticks()):\n",
    "        tick.label1.set_color(color) #set the color property\n",
    "\n",
    "\n",
    "[iax.tick_params(axis='x',labelsize = 8, labelrotation=90, length = 0,) for iax in ax]\n",
    "\n",
    "[iax.spines[ispine].set_visible(False) for iax in ax for ispine in [\"top\", \"right\", \"bottom\"]]\n",
    "\n",
    "ax[0].set_ylabel(\"Supersaturation [%]\", fontweight = \"bold\")\n",
    "\n",
    "\n",
    "\n",
    "abcd = \"(a)\", \"(b)\", \"(c)\", \"(d)\"\n",
    "for iax in range(len(ax)):\n",
    "    ax[iax].text(-0.1,1.05, abcd[iax], transform=ax[iax].transAxes, fontweight = \"bold\",\\\n",
    "                  ha = \"center\")\n",
    "    \n",
    "if savefigs:\n",
    "    plt.savefig(os.path.join(nml.dir_output, \"supersaturation_statistics_noLOG.png\"), dpi=600,\n",
    "                bbox_inches=\"tight\")"
   ]
  },
  {
   "cell_type": "code",
   "execution_count": 29,
   "metadata": {},
   "outputs": [
    {
     "name": "stderr",
     "output_type": "stream",
     "text": [
      "/opt/conda/lib/python3.9/site-packages/numpy/lib/shape_base.py:652: VisibleDeprecationWarning: Creating an ndarray from ragged nested sequences (which is a list-or-tuple of lists-or-tuples-or ndarrays with different lengths or shapes) is deprecated. If you meant to do this, you must specify 'dtype=object' when creating the ndarray.\n",
      "  arr = asanyarray(v)\n",
      "/opt/conda/lib/python3.9/site-packages/numpy/lib/shape_base.py:652: VisibleDeprecationWarning: Creating an ndarray from ragged nested sequences (which is a list-or-tuple of lists-or-tuples-or ndarrays with different lengths or shapes) is deprecated. If you meant to do this, you must specify 'dtype=object' when creating the ndarray.\n",
      "  arr = asanyarray(v)\n",
      "/opt/conda/lib/python3.9/site-packages/numpy/lib/shape_base.py:652: VisibleDeprecationWarning: Creating an ndarray from ragged nested sequences (which is a list-or-tuple of lists-or-tuples-or ndarrays with different lengths or shapes) is deprecated. If you meant to do this, you must specify 'dtype=object' when creating the ndarray.\n",
      "  arr = asanyarray(v)\n",
      "/opt/conda/lib/python3.9/site-packages/numpy/lib/shape_base.py:652: VisibleDeprecationWarning: Creating an ndarray from ragged nested sequences (which is a list-or-tuple of lists-or-tuples-or ndarrays with different lengths or shapes) is deprecated. If you meant to do this, you must specify 'dtype=object' when creating the ndarray.\n",
      "  arr = asanyarray(v)\n",
      "/opt/conda/lib/python3.9/site-packages/numpy/lib/shape_base.py:652: VisibleDeprecationWarning: Creating an ndarray from ragged nested sequences (which is a list-or-tuple of lists-or-tuples-or ndarrays with different lengths or shapes) is deprecated. If you meant to do this, you must specify 'dtype=object' when creating the ndarray.\n",
      "  arr = asanyarray(v)\n",
      "/opt/conda/lib/python3.9/site-packages/numpy/lib/shape_base.py:652: VisibleDeprecationWarning: Creating an ndarray from ragged nested sequences (which is a list-or-tuple of lists-or-tuples-or ndarrays with different lengths or shapes) is deprecated. If you meant to do this, you must specify 'dtype=object' when creating the ndarray.\n",
      "  arr = asanyarray(v)\n",
      "/opt/conda/lib/python3.9/site-packages/numpy/lib/shape_base.py:652: VisibleDeprecationWarning: Creating an ndarray from ragged nested sequences (which is a list-or-tuple of lists-or-tuples-or ndarrays with different lengths or shapes) is deprecated. If you meant to do this, you must specify 'dtype=object' when creating the ndarray.\n",
      "  arr = asanyarray(v)\n",
      "/opt/conda/lib/python3.9/site-packages/numpy/lib/shape_base.py:652: VisibleDeprecationWarning: Creating an ndarray from ragged nested sequences (which is a list-or-tuple of lists-or-tuples-or ndarrays with different lengths or shapes) is deprecated. If you meant to do this, you must specify 'dtype=object' when creating the ndarray.\n",
      "  arr = asanyarray(v)\n",
      "/opt/conda/lib/python3.9/site-packages/numpy/lib/shape_base.py:652: VisibleDeprecationWarning: Creating an ndarray from ragged nested sequences (which is a list-or-tuple of lists-or-tuples-or ndarrays with different lengths or shapes) is deprecated. If you meant to do this, you must specify 'dtype=object' when creating the ndarray.\n",
      "  arr = asanyarray(v)\n",
      "/opt/conda/lib/python3.9/site-packages/numpy/lib/shape_base.py:652: VisibleDeprecationWarning: Creating an ndarray from ragged nested sequences (which is a list-or-tuple of lists-or-tuples-or ndarrays with different lengths or shapes) is deprecated. If you meant to do this, you must specify 'dtype=object' when creating the ndarray.\n",
      "  arr = asanyarray(v)\n",
      "/opt/conda/lib/python3.9/site-packages/numpy/lib/shape_base.py:652: VisibleDeprecationWarning: Creating an ndarray from ragged nested sequences (which is a list-or-tuple of lists-or-tuples-or ndarrays with different lengths or shapes) is deprecated. If you meant to do this, you must specify 'dtype=object' when creating the ndarray.\n",
      "  arr = asanyarray(v)\n",
      "/opt/conda/lib/python3.9/site-packages/numpy/lib/shape_base.py:652: VisibleDeprecationWarning: Creating an ndarray from ragged nested sequences (which is a list-or-tuple of lists-or-tuples-or ndarrays with different lengths or shapes) is deprecated. If you meant to do this, you must specify 'dtype=object' when creating the ndarray.\n",
      "  arr = asanyarray(v)\n",
      "/opt/conda/lib/python3.9/site-packages/numpy/lib/shape_base.py:652: VisibleDeprecationWarning: Creating an ndarray from ragged nested sequences (which is a list-or-tuple of lists-or-tuples-or ndarrays with different lengths or shapes) is deprecated. If you meant to do this, you must specify 'dtype=object' when creating the ndarray.\n",
      "  arr = asanyarray(v)\n",
      "/opt/conda/lib/python3.9/site-packages/numpy/lib/shape_base.py:652: VisibleDeprecationWarning: Creating an ndarray from ragged nested sequences (which is a list-or-tuple of lists-or-tuples-or ndarrays with different lengths or shapes) is deprecated. If you meant to do this, you must specify 'dtype=object' when creating the ndarray.\n",
      "  arr = asanyarray(v)\n",
      "/opt/conda/lib/python3.9/site-packages/numpy/lib/shape_base.py:652: VisibleDeprecationWarning: Creating an ndarray from ragged nested sequences (which is a list-or-tuple of lists-or-tuples-or ndarrays with different lengths or shapes) is deprecated. If you meant to do this, you must specify 'dtype=object' when creating the ndarray.\n",
      "  arr = asanyarray(v)\n",
      "/opt/conda/lib/python3.9/site-packages/numpy/lib/shape_base.py:652: VisibleDeprecationWarning: Creating an ndarray from ragged nested sequences (which is a list-or-tuple of lists-or-tuples-or ndarrays with different lengths or shapes) is deprecated. If you meant to do this, you must specify 'dtype=object' when creating the ndarray.\n",
      "  arr = asanyarray(v)\n",
      "/opt/conda/lib/python3.9/site-packages/numpy/lib/shape_base.py:652: VisibleDeprecationWarning: Creating an ndarray from ragged nested sequences (which is a list-or-tuple of lists-or-tuples-or ndarrays with different lengths or shapes) is deprecated. If you meant to do this, you must specify 'dtype=object' when creating the ndarray.\n",
      "  arr = asanyarray(v)\n",
      "/opt/conda/lib/python3.9/site-packages/numpy/lib/shape_base.py:652: VisibleDeprecationWarning: Creating an ndarray from ragged nested sequences (which is a list-or-tuple of lists-or-tuples-or ndarrays with different lengths or shapes) is deprecated. If you meant to do this, you must specify 'dtype=object' when creating the ndarray.\n",
      "  arr = asanyarray(v)\n",
      "/opt/conda/lib/python3.9/site-packages/numpy/lib/shape_base.py:652: VisibleDeprecationWarning: Creating an ndarray from ragged nested sequences (which is a list-or-tuple of lists-or-tuples-or ndarrays with different lengths or shapes) is deprecated. If you meant to do this, you must specify 'dtype=object' when creating the ndarray.\n",
      "  arr = asanyarray(v)\n",
      "/opt/conda/lib/python3.9/site-packages/numpy/lib/shape_base.py:652: VisibleDeprecationWarning: Creating an ndarray from ragged nested sequences (which is a list-or-tuple of lists-or-tuples-or ndarrays with different lengths or shapes) is deprecated. If you meant to do this, you must specify 'dtype=object' when creating the ndarray.\n",
      "  arr = asanyarray(v)\n",
      "/opt/conda/lib/python3.9/site-packages/numpy/lib/shape_base.py:652: VisibleDeprecationWarning: Creating an ndarray from ragged nested sequences (which is a list-or-tuple of lists-or-tuples-or ndarrays with different lengths or shapes) is deprecated. If you meant to do this, you must specify 'dtype=object' when creating the ndarray.\n",
      "  arr = asanyarray(v)\n",
      "/opt/conda/lib/python3.9/site-packages/numpy/lib/shape_base.py:652: VisibleDeprecationWarning: Creating an ndarray from ragged nested sequences (which is a list-or-tuple of lists-or-tuples-or ndarrays with different lengths or shapes) is deprecated. If you meant to do this, you must specify 'dtype=object' when creating the ndarray.\n",
      "  arr = asanyarray(v)\n",
      "/opt/conda/lib/python3.9/site-packages/numpy/lib/shape_base.py:652: VisibleDeprecationWarning: Creating an ndarray from ragged nested sequences (which is a list-or-tuple of lists-or-tuples-or ndarrays with different lengths or shapes) is deprecated. If you meant to do this, you must specify 'dtype=object' when creating the ndarray.\n",
      "  arr = asanyarray(v)\n",
      "/opt/conda/lib/python3.9/site-packages/numpy/lib/shape_base.py:652: VisibleDeprecationWarning: Creating an ndarray from ragged nested sequences (which is a list-or-tuple of lists-or-tuples-or ndarrays with different lengths or shapes) is deprecated. If you meant to do this, you must specify 'dtype=object' when creating the ndarray.\n",
      "  arr = asanyarray(v)\n",
      "/opt/conda/lib/python3.9/site-packages/numpy/lib/shape_base.py:652: VisibleDeprecationWarning: Creating an ndarray from ragged nested sequences (which is a list-or-tuple of lists-or-tuples-or ndarrays with different lengths or shapes) is deprecated. If you meant to do this, you must specify 'dtype=object' when creating the ndarray.\n",
      "  arr = asanyarray(v)\n",
      "/opt/conda/lib/python3.9/site-packages/numpy/lib/shape_base.py:652: VisibleDeprecationWarning: Creating an ndarray from ragged nested sequences (which is a list-or-tuple of lists-or-tuples-or ndarrays with different lengths or shapes) is deprecated. If you meant to do this, you must specify 'dtype=object' when creating the ndarray.\n",
      "  arr = asanyarray(v)\n",
      "/opt/conda/lib/python3.9/site-packages/numpy/lib/shape_base.py:652: VisibleDeprecationWarning: Creating an ndarray from ragged nested sequences (which is a list-or-tuple of lists-or-tuples-or ndarrays with different lengths or shapes) is deprecated. If you meant to do this, you must specify 'dtype=object' when creating the ndarray.\n",
      "  arr = asanyarray(v)\n",
      "/opt/conda/lib/python3.9/site-packages/numpy/lib/shape_base.py:652: VisibleDeprecationWarning: Creating an ndarray from ragged nested sequences (which is a list-or-tuple of lists-or-tuples-or ndarrays with different lengths or shapes) is deprecated. If you meant to do this, you must specify 'dtype=object' when creating the ndarray.\n",
      "  arr = asanyarray(v)\n",
      "/opt/conda/lib/python3.9/site-packages/numpy/lib/shape_base.py:652: VisibleDeprecationWarning: Creating an ndarray from ragged nested sequences (which is a list-or-tuple of lists-or-tuples-or ndarrays with different lengths or shapes) is deprecated. If you meant to do this, you must specify 'dtype=object' when creating the ndarray.\n",
      "  arr = asanyarray(v)\n",
      "/opt/conda/lib/python3.9/site-packages/numpy/lib/shape_base.py:652: VisibleDeprecationWarning: Creating an ndarray from ragged nested sequences (which is a list-or-tuple of lists-or-tuples-or ndarrays with different lengths or shapes) is deprecated. If you meant to do this, you must specify 'dtype=object' when creating the ndarray.\n",
      "  arr = asanyarray(v)\n",
      "/opt/conda/lib/python3.9/site-packages/numpy/lib/shape_base.py:652: VisibleDeprecationWarning: Creating an ndarray from ragged nested sequences (which is a list-or-tuple of lists-or-tuples-or ndarrays with different lengths or shapes) is deprecated. If you meant to do this, you must specify 'dtype=object' when creating the ndarray.\n",
      "  arr = asanyarray(v)\n",
      "/opt/conda/lib/python3.9/site-packages/numpy/lib/shape_base.py:652: VisibleDeprecationWarning: Creating an ndarray from ragged nested sequences (which is a list-or-tuple of lists-or-tuples-or ndarrays with different lengths or shapes) is deprecated. If you meant to do this, you must specify 'dtype=object' when creating the ndarray.\n",
      "  arr = asanyarray(v)\n",
      "/opt/conda/lib/python3.9/site-packages/numpy/lib/shape_base.py:652: VisibleDeprecationWarning: Creating an ndarray from ragged nested sequences (which is a list-or-tuple of lists-or-tuples-or ndarrays with different lengths or shapes) is deprecated. If you meant to do this, you must specify 'dtype=object' when creating the ndarray.\n",
      "  arr = asanyarray(v)\n",
      "/opt/conda/lib/python3.9/site-packages/numpy/lib/shape_base.py:652: VisibleDeprecationWarning: Creating an ndarray from ragged nested sequences (which is a list-or-tuple of lists-or-tuples-or ndarrays with different lengths or shapes) is deprecated. If you meant to do this, you must specify 'dtype=object' when creating the ndarray.\n",
      "  arr = asanyarray(v)\n",
      "/opt/conda/lib/python3.9/site-packages/numpy/lib/shape_base.py:652: VisibleDeprecationWarning: Creating an ndarray from ragged nested sequences (which is a list-or-tuple of lists-or-tuples-or ndarrays with different lengths or shapes) is deprecated. If you meant to do this, you must specify 'dtype=object' when creating the ndarray.\n",
      "  arr = asanyarray(v)\n",
      "/opt/conda/lib/python3.9/site-packages/numpy/lib/shape_base.py:652: VisibleDeprecationWarning: Creating an ndarray from ragged nested sequences (which is a list-or-tuple of lists-or-tuples-or ndarrays with different lengths or shapes) is deprecated. If you meant to do this, you must specify 'dtype=object' when creating the ndarray.\n",
      "  arr = asanyarray(v)\n",
      "/opt/conda/lib/python3.9/site-packages/numpy/lib/shape_base.py:652: VisibleDeprecationWarning: Creating an ndarray from ragged nested sequences (which is a list-or-tuple of lists-or-tuples-or ndarrays with different lengths or shapes) is deprecated. If you meant to do this, you must specify 'dtype=object' when creating the ndarray.\n",
      "  arr = asanyarray(v)\n",
      "/opt/conda/lib/python3.9/site-packages/numpy/lib/shape_base.py:652: VisibleDeprecationWarning: Creating an ndarray from ragged nested sequences (which is a list-or-tuple of lists-or-tuples-or ndarrays with different lengths or shapes) is deprecated. If you meant to do this, you must specify 'dtype=object' when creating the ndarray.\n",
      "  arr = asanyarray(v)\n",
      "/opt/conda/lib/python3.9/site-packages/numpy/lib/shape_base.py:652: VisibleDeprecationWarning: Creating an ndarray from ragged nested sequences (which is a list-or-tuple of lists-or-tuples-or ndarrays with different lengths or shapes) is deprecated. If you meant to do this, you must specify 'dtype=object' when creating the ndarray.\n",
      "  arr = asanyarray(v)\n",
      "/opt/conda/lib/python3.9/site-packages/numpy/lib/shape_base.py:652: VisibleDeprecationWarning: Creating an ndarray from ragged nested sequences (which is a list-or-tuple of lists-or-tuples-or ndarrays with different lengths or shapes) is deprecated. If you meant to do this, you must specify 'dtype=object' when creating the ndarray.\n",
      "  arr = asanyarray(v)\n",
      "/opt/conda/lib/python3.9/site-packages/numpy/lib/shape_base.py:652: VisibleDeprecationWarning: Creating an ndarray from ragged nested sequences (which is a list-or-tuple of lists-or-tuples-or ndarrays with different lengths or shapes) is deprecated. If you meant to do this, you must specify 'dtype=object' when creating the ndarray.\n",
      "  arr = asanyarray(v)\n",
      "/opt/conda/lib/python3.9/site-packages/numpy/lib/shape_base.py:652: VisibleDeprecationWarning: Creating an ndarray from ragged nested sequences (which is a list-or-tuple of lists-or-tuples-or ndarrays with different lengths or shapes) is deprecated. If you meant to do this, you must specify 'dtype=object' when creating the ndarray.\n",
      "  arr = asanyarray(v)\n",
      "/opt/conda/lib/python3.9/site-packages/numpy/lib/shape_base.py:652: VisibleDeprecationWarning: Creating an ndarray from ragged nested sequences (which is a list-or-tuple of lists-or-tuples-or ndarrays with different lengths or shapes) is deprecated. If you meant to do this, you must specify 'dtype=object' when creating the ndarray.\n",
      "  arr = asanyarray(v)\n",
      "/opt/conda/lib/python3.9/site-packages/numpy/lib/shape_base.py:652: VisibleDeprecationWarning: Creating an ndarray from ragged nested sequences (which is a list-or-tuple of lists-or-tuples-or ndarrays with different lengths or shapes) is deprecated. If you meant to do this, you must specify 'dtype=object' when creating the ndarray.\n",
      "  arr = asanyarray(v)\n",
      "/opt/conda/lib/python3.9/site-packages/numpy/lib/shape_base.py:652: VisibleDeprecationWarning: Creating an ndarray from ragged nested sequences (which is a list-or-tuple of lists-or-tuples-or ndarrays with different lengths or shapes) is deprecated. If you meant to do this, you must specify 'dtype=object' when creating the ndarray.\n",
      "  arr = asanyarray(v)\n",
      "/opt/conda/lib/python3.9/site-packages/numpy/lib/shape_base.py:652: VisibleDeprecationWarning: Creating an ndarray from ragged nested sequences (which is a list-or-tuple of lists-or-tuples-or ndarrays with different lengths or shapes) is deprecated. If you meant to do this, you must specify 'dtype=object' when creating the ndarray.\n",
      "  arr = asanyarray(v)\n",
      "/opt/conda/lib/python3.9/site-packages/numpy/lib/shape_base.py:652: VisibleDeprecationWarning: Creating an ndarray from ragged nested sequences (which is a list-or-tuple of lists-or-tuples-or ndarrays with different lengths or shapes) is deprecated. If you meant to do this, you must specify 'dtype=object' when creating the ndarray.\n",
      "  arr = asanyarray(v)\n",
      "/opt/conda/lib/python3.9/site-packages/numpy/lib/shape_base.py:652: VisibleDeprecationWarning: Creating an ndarray from ragged nested sequences (which is a list-or-tuple of lists-or-tuples-or ndarrays with different lengths or shapes) is deprecated. If you meant to do this, you must specify 'dtype=object' when creating the ndarray.\n",
      "  arr = asanyarray(v)\n",
      "/opt/conda/lib/python3.9/site-packages/numpy/lib/shape_base.py:652: VisibleDeprecationWarning: Creating an ndarray from ragged nested sequences (which is a list-or-tuple of lists-or-tuples-or ndarrays with different lengths or shapes) is deprecated. If you meant to do this, you must specify 'dtype=object' when creating the ndarray.\n",
      "  arr = asanyarray(v)\n",
      "/opt/conda/lib/python3.9/site-packages/numpy/lib/shape_base.py:652: VisibleDeprecationWarning: Creating an ndarray from ragged nested sequences (which is a list-or-tuple of lists-or-tuples-or ndarrays with different lengths or shapes) is deprecated. If you meant to do this, you must specify 'dtype=object' when creating the ndarray.\n",
      "  arr = asanyarray(v)\n",
      "/opt/conda/lib/python3.9/site-packages/numpy/lib/shape_base.py:652: VisibleDeprecationWarning: Creating an ndarray from ragged nested sequences (which is a list-or-tuple of lists-or-tuples-or ndarrays with different lengths or shapes) is deprecated. If you meant to do this, you must specify 'dtype=object' when creating the ndarray.\n",
      "  arr = asanyarray(v)\n"
     ]
    },
    {
     "data": {
      "image/png": "[encoded data removed]",
      "text/plain": [
       "<Figure size 648x216 with 6 Axes>"
      ]
     },
     "metadata": {},
     "output_type": "display_data"
    }
   ],
   "source": [
    "fig, axes = plt.subplots(ncols = len(unq_scase),nrows = 2, figsize = [9,3],\\\n",
    "                         gridspec_kw={'height_ratios': [2.3, 0.7]},\\\n",
    "                         sharey = False, sharex = False)\n",
    "\n",
    "plt.subplots_adjust(wspace=0.01)\n",
    "# axes for supersaturation plot\n",
    "ax_sup = axes[0,:]\n",
    "\n",
    "# axes for nr observations plot\n",
    "ax_nrobs = axes[1,:]\n",
    "\n",
    "\n",
    "plt.subplots_adjust(hspace=0.1, wspace = 0.25)\n",
    "for icase in range(len(unq_scase)):\n",
    "    scase = unq_scase[icase]\n",
    "    box = ax_sup[icase].bxp(dct_bx[scase], patch_artist=True, widths = 0.8);\n",
    "\n",
    "\n",
    "    for icol in range(len(dct_bx_col[scase])):\n",
    "        box['boxes'][icol].set_facecolor(dct_bx_col[scase][icol])\n",
    "\n",
    "        box['whiskers'][icol*2].set_color(dct_bx_col[scase][icol])\n",
    "        box['whiskers'][icol*2+1].set_color(dct_bx_col[scase][icol])\n",
    "\n",
    "        box['caps'][icol*2].set_color(dct_bx_col[scase][icol])\n",
    "        box['caps'][icol*2+1].set_color(dct_bx_col[scase][icol])\n",
    "    \n",
    "    axes[0,icase].set_title(\"$\\mathbf{N_a=}$\" + \"{0:.0f}\".format(float(scase)/1e6) + \" $\\mathbf{[cm^{-3}]}$\" ,\\\n",
    "                        fontweight = \"bold\", y = 0.92)\n",
    "            \n",
    "        \n",
    "    # add parplot\n",
    "    helper_nrObs = pd.DataFrame(index = range(len(dct_bx[scase])), columns = {\"nrObs\"})\n",
    "    for i in range(len(dct_bx[scase])):\n",
    "        helper_nrObs.iloc[i][\"nrObs\"] = dct_bx[scase][i][\"nr_obs\"]\n",
    "    ax_nrobs[icase].bar(x = helper_nrObs.index+1, height = helper_nrObs[\"nrObs\"]*100,\\\n",
    "                      color = dct_bx_col[scase], width = 0.8,\\\n",
    "                       edgecolor='black')\n",
    "    \n",
    "    # get ticks right\n",
    "    ax_nrobs[icase].set_xticks(ticks = np.arange(len(dct_bx[scase]))+1)\n",
    "    ax_nrobs[icase].set_xticklabels(dct_bx_lbl[scase])\n",
    "    \n",
    "    # change color of the tick labels\n",
    "    for color,tick in zip(dct_bx_col[scase],ax_nrobs[icase].xaxis.get_major_ticks()):\n",
    "        tick.label1.set_color(color) #set the color property\n",
    "    \n",
    "for iax in ax_nrobs:\n",
    "    for tick in iax.get_xticklabels():\n",
    "        tick.set_verticalalignment(\"bottom\")\n",
    "        iax.tick_params(axis='x', direction='in',length = 0, pad = 80)\n",
    "        \n",
    "[iax.tick_params(axis='x',labelsize = 8, labelrotation=90, length = 0, ) for iax in ax_nrobs]\n",
    "[iax.tick_params(axis='x',labelsize = 0, labelrotation=0, length = 0,) for iax in ax_sup]\n",
    "\n",
    "\n",
    "[iax.set_xticks([]) for iax in ax_sup]\n",
    "\n",
    "[iax.spines[ispine].set_visible(False) for iax in ax_sup for ispine in [\"top\", \"right\", \"bottom\"]]\n",
    "[iax.spines[ispine].set_visible(False) for iax in ax_nrobs for ispine in [\"top\", \"right\"]]\n",
    "\n",
    "ax_sup[0].set_ylabel(\"     Supersaturation [%]\", fontweight = \"bold\")\n",
    "\n",
    "ax_nrobs[0].set_ylabel(\"$\\mathbf{f_{RH}}$ [%]\", fontweight = \"bold\")\n",
    "for iax in range(len(ax_nrobs)):\n",
    "    ax_nrobs[iax].set_yticks(np.arange(0,20.1,10))\n",
    "    ax_nrobs[iax].yaxis.set_major_formatter(ticker.StrMethodFormatter(\"{x:.1f}\"))\n",
    "\n",
    "# set xlim of upper panels to xlim of lower panels\n",
    "for iax in range(axes.shape[1]):\n",
    "    ax_nrobs[iax].set_xlim(ax_sup[iax].get_xlim())\n",
    "\n",
    "\n",
    "abcd = \"(a)\", \"(b)\", \"(c)\", \"(d)\"\n",
    "for iax in range(axes.shape[1]):\n",
    "    axes[0,iax].text(-0.1,1.05, abcd[iax], transform = axes[0,iax].transAxes, fontweight = \"bold\",\\\n",
    "                  ha = \"center\")\n",
    "    \n",
    "if savefigs:\n",
    "    plt.savefig(os.path.join(nml.dir_output, \"supersaturation_statistics_bar_noLOG.png\"), dpi=600,\n",
    "                bbox_inches=\"tight\")"
   ]
  },
  {
   "cell_type": "code",
   "execution_count": null,
   "metadata": {},
   "outputs": [],
   "source": []
  }
 ],
 "metadata": {
  "kernelspec": {
   "display_name": "Python 3 (ipykernel)",
   "language": "python",
   "name": "python3"
  },
  "language_info": {
   "codemirror_mode": {
    "name": "ipython",
    "version": 3
   },
   "file_extension": ".py",
   "mimetype": "text/x-python",
   "name": "python",
   "nbconvert_exporter": "python",
   "pygments_lexer": "ipython3",
   "version": "3.9.10"
  },
  "toc": {
   "base_numbering": 1,
   "nav_menu": {},
   "number_sections": true,
   "sideBar": true,
   "skip_h1_title": false,
   "title_cell": "Table of Contents",
   "title_sidebar": "Contents",
   "toc_cell": false,
   "toc_position": {
    "height": "786px",
    "left": "23px",
    "top": "111.133px",
    "width": "165px"
   },
   "toc_section_display": true,
   "toc_window_display": true
  },
  "varInspector": {
   "cols": {
    "lenName": 16,
    "lenType": 16,
    "lenVar": 40
   },
   "kernels_config": {
    "python": {
     "delete_cmd_postfix": "",
     "delete_cmd_prefix": "del ",
     "library": "var_list.py",
     "varRefreshCmd": "print(var_dic_list())"
    },
    "r": {
     "delete_cmd_postfix": ") ",
     "delete_cmd_prefix": "rm(",
     "library": "var_list.r",
     "varRefreshCmd": "cat(var_dic_list()) "
    }
   },
   "position": {
    "height": "514.85px",
    "left": "660.467px",
    "right": "20px",
    "top": "89px",
    "width": "370.767px"
   },
   "types_to_exclude": [
    "module",
    "function",
    "builtin_function_or_method",
    "instance",
    "_Feature"
   ],
   "window_display": false
  }
 },
 "nbformat": 4,
 "nbformat_minor": 4
}
